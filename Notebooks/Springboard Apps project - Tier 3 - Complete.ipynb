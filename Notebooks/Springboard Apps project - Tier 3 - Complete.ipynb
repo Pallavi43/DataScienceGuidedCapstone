{
 "cells": [
  {
   "cell_type": "markdown",
   "metadata": {
    "colab_type": "text",
    "id": "i2RUFW7TFcuh"
   },
   "source": [
    "# Springboard Apps project - Tier 3 - Complete\n",
    "\n",
    "Welcome to the Apps project! To give you a taste of your future career, we're going to walk through exactly the kind of notebook that you'd write as a data scientist. In the process, we'll be sure to signpost the general framework for our investigation - the Data Science Pipeline - as well as give reasons for why we're doing what we're doing. We're also going to apply some of the skills and knowledge you've built up in the previous unit when reading Professor Spiegelhalter's *The Art of Statistics* (hereinafter *AoS*). \n",
    "\n",
    "So let's get cracking!\n",
    "\n",
    "**Brief**\n",
    "\n",
    "Did Apple Store apps receive better reviews than Google Play apps?\n",
    "\n",
    "## Stages of the project\n",
    "\n",
    "1. Sourcing and loading \n",
    "    * Load the two datasets\n",
    "    * Pick the columns that we are going to work with \n",
    "    * Subsetting the data on this basis \n",
    " \n",
    " \n",
    "2. Cleaning, transforming and visualizing\n",
    "    * Check the data types and fix them\n",
    "    * Add a `platform` column to both the `Apple` and the `Google` dataframes\n",
    "    * Changing the column names to prepare for a join \n",
    "    * Join the two data sets\n",
    "    * Eliminate the `NaN` values\n",
    "    * Filter only those apps that have been reviewed at least once\n",
    "    * Summarize the data visually and analytically (by the column `platform`)  \n",
    "  \n",
    "  \n",
    "3. Modelling \n",
    "    * Hypothesis formulation\n",
    "    * Getting the distribution of the data\n",
    "    * Permutation test \n",
    "\n",
    "\n",
    "4. Evaluating and concluding \n",
    "    * What is our conclusion?\n",
    "    * What is our decision?\n",
    "    * Other models we could have used. \n",
    "    "
   ]
  },
  {
   "cell_type": "markdown",
   "metadata": {
    "colab_type": "text",
    "id": "QLUAXtl1Fcuk"
   },
   "source": [
    "## Importing the libraries\n",
    "\n",
    "In this case we are going to import pandas, numpy, scipy, random and matplotlib.pyplot"
   ]
  },
  {
   "cell_type": "code",
   "execution_count": 1,
   "metadata": {
    "colab": {},
    "colab_type": "code",
    "id": "XeXJOlGiFcum"
   },
   "outputs": [],
   "source": [
    "import pandas as pd\n",
    "import numpy as np\n",
    "import matplotlib.pyplot as plt\n",
    "# scipi is a library for statistical tests and visualizations \n",
    "from scipy import stats\n",
    "# random enables us to generate random numbers\n",
    "import random"
   ]
  },
  {
   "cell_type": "markdown",
   "metadata": {
    "colab_type": "text",
    "id": "zVD7NlPAFcup"
   },
   "source": [
    "## Stage 1 -  Sourcing and loading data"
   ]
  },
  {
   "cell_type": "markdown",
   "metadata": {
    "colab_type": "text",
    "id": "KU8bdbImFcuq"
   },
   "source": [
    "### 1a. Source and load the data\n",
    "Let's download the data from Kaggle. Kaggle is a fantastic resource: a kind of social medium for data scientists, it boasts projects, datasets and news on the freshest libraries and technologies all in one place. The data from the Apple Store can be found [here](https://www.kaggle.com/ramamet4/app-store-apple-data-set-10k-apps) and the data from Google Store can be found [here](https://www.kaggle.com/lava18/google-play-store-apps).\n",
    "Download the datasets and save them in your working directory."
   ]
  },
  {
   "cell_type": "code",
   "execution_count": 3,
   "metadata": {
    "colab": {},
    "colab_type": "code",
    "id": "laM1PB76Fcur"
   },
   "outputs": [
    {
     "data": {
      "text/html": [
       "<div>\n",
       "<style scoped>\n",
       "    .dataframe tbody tr th:only-of-type {\n",
       "        vertical-align: middle;\n",
       "    }\n",
       "\n",
       "    .dataframe tbody tr th {\n",
       "        vertical-align: top;\n",
       "    }\n",
       "\n",
       "    .dataframe thead th {\n",
       "        text-align: right;\n",
       "    }\n",
       "</style>\n",
       "<table border=\"1\" class=\"dataframe\">\n",
       "  <thead>\n",
       "    <tr style=\"text-align: right;\">\n",
       "      <th></th>\n",
       "      <th>App</th>\n",
       "      <th>Category</th>\n",
       "      <th>Rating</th>\n",
       "      <th>Reviews</th>\n",
       "      <th>Size</th>\n",
       "      <th>Installs</th>\n",
       "      <th>Type</th>\n",
       "      <th>Price</th>\n",
       "      <th>Content Rating</th>\n",
       "      <th>Genres</th>\n",
       "      <th>Last Updated</th>\n",
       "      <th>Current Ver</th>\n",
       "      <th>Android Ver</th>\n",
       "    </tr>\n",
       "  </thead>\n",
       "  <tbody>\n",
       "    <tr>\n",
       "      <th>0</th>\n",
       "      <td>Photo Editor &amp; Candy Camera &amp; Grid &amp; ScrapBook</td>\n",
       "      <td>ART_AND_DESIGN</td>\n",
       "      <td>4.1</td>\n",
       "      <td>159</td>\n",
       "      <td>19M</td>\n",
       "      <td>10,000+</td>\n",
       "      <td>Free</td>\n",
       "      <td>0</td>\n",
       "      <td>Everyone</td>\n",
       "      <td>Art &amp; Design</td>\n",
       "      <td>January 7, 2018</td>\n",
       "      <td>1.0.0</td>\n",
       "      <td>4.0.3 and up</td>\n",
       "    </tr>\n",
       "    <tr>\n",
       "      <th>1</th>\n",
       "      <td>Coloring book moana</td>\n",
       "      <td>ART_AND_DESIGN</td>\n",
       "      <td>3.9</td>\n",
       "      <td>967</td>\n",
       "      <td>14M</td>\n",
       "      <td>500,000+</td>\n",
       "      <td>Free</td>\n",
       "      <td>0</td>\n",
       "      <td>Everyone</td>\n",
       "      <td>Art &amp; Design;Pretend Play</td>\n",
       "      <td>January 15, 2018</td>\n",
       "      <td>2.0.0</td>\n",
       "      <td>4.0.3 and up</td>\n",
       "    </tr>\n",
       "    <tr>\n",
       "      <th>2</th>\n",
       "      <td>U Launcher Lite – FREE Live Cool Themes, Hide ...</td>\n",
       "      <td>ART_AND_DESIGN</td>\n",
       "      <td>4.7</td>\n",
       "      <td>87510</td>\n",
       "      <td>8.7M</td>\n",
       "      <td>5,000,000+</td>\n",
       "      <td>Free</td>\n",
       "      <td>0</td>\n",
       "      <td>Everyone</td>\n",
       "      <td>Art &amp; Design</td>\n",
       "      <td>August 1, 2018</td>\n",
       "      <td>1.2.4</td>\n",
       "      <td>4.0.3 and up</td>\n",
       "    </tr>\n",
       "  </tbody>\n",
       "</table>\n",
       "</div>"
      ],
      "text/plain": [
       "                                                 App        Category  Rating  \\\n",
       "0     Photo Editor & Candy Camera & Grid & ScrapBook  ART_AND_DESIGN     4.1   \n",
       "1                                Coloring book moana  ART_AND_DESIGN     3.9   \n",
       "2  U Launcher Lite – FREE Live Cool Themes, Hide ...  ART_AND_DESIGN     4.7   \n",
       "\n",
       "  Reviews  Size    Installs  Type Price Content Rating  \\\n",
       "0     159   19M     10,000+  Free     0       Everyone   \n",
       "1     967   14M    500,000+  Free     0       Everyone   \n",
       "2   87510  8.7M  5,000,000+  Free     0       Everyone   \n",
       "\n",
       "                      Genres      Last Updated Current Ver   Android Ver  \n",
       "0               Art & Design   January 7, 2018       1.0.0  4.0.3 and up  \n",
       "1  Art & Design;Pretend Play  January 15, 2018       2.0.0  4.0.3 and up  \n",
       "2               Art & Design    August 1, 2018       1.2.4  4.0.3 and up  "
      ]
     },
     "execution_count": 3,
     "metadata": {},
     "output_type": "execute_result"
    }
   ],
   "source": [
    "# Now that the files are saved, we want to load them into Python using read_csv and pandas.\n",
    "\n",
    "# Create a variable called google, and store in it the path of the csv file that contains your google dataset. \n",
    "# If your dataset is in the same folder as this notebook, the path will simply be the name of the file. \n",
    "google = pd.read_csv('googleplaystore.csv')\n",
    "\n",
    "# Read the csv file into a data frame called Google using the read_csv() pandas method.\n",
    "\n",
    "\n",
    "# Using the head() pandas method, observe the first three entries.\n",
    "google.head(3)"
   ]
  },
  {
   "cell_type": "code",
   "execution_count": 4,
   "metadata": {
    "colab": {},
    "colab_type": "code",
    "id": "3AW8EA1wFcuu"
   },
   "outputs": [
    {
     "data": {
      "text/html": [
       "<div>\n",
       "<style scoped>\n",
       "    .dataframe tbody tr th:only-of-type {\n",
       "        vertical-align: middle;\n",
       "    }\n",
       "\n",
       "    .dataframe tbody tr th {\n",
       "        vertical-align: top;\n",
       "    }\n",
       "\n",
       "    .dataframe thead th {\n",
       "        text-align: right;\n",
       "    }\n",
       "</style>\n",
       "<table border=\"1\" class=\"dataframe\">\n",
       "  <thead>\n",
       "    <tr style=\"text-align: right;\">\n",
       "      <th></th>\n",
       "      <th>Unnamed: 0</th>\n",
       "      <th>id</th>\n",
       "      <th>track_name</th>\n",
       "      <th>size_bytes</th>\n",
       "      <th>currency</th>\n",
       "      <th>price</th>\n",
       "      <th>rating_count_tot</th>\n",
       "      <th>rating_count_ver</th>\n",
       "      <th>user_rating</th>\n",
       "      <th>user_rating_ver</th>\n",
       "      <th>ver</th>\n",
       "      <th>cont_rating</th>\n",
       "      <th>prime_genre</th>\n",
       "      <th>sup_devices.num</th>\n",
       "      <th>ipadSc_urls.num</th>\n",
       "      <th>lang.num</th>\n",
       "      <th>vpp_lic</th>\n",
       "    </tr>\n",
       "  </thead>\n",
       "  <tbody>\n",
       "    <tr>\n",
       "      <th>0</th>\n",
       "      <td>1</td>\n",
       "      <td>281656475</td>\n",
       "      <td>PAC-MAN Premium</td>\n",
       "      <td>100788224</td>\n",
       "      <td>USD</td>\n",
       "      <td>3.99</td>\n",
       "      <td>21292</td>\n",
       "      <td>26</td>\n",
       "      <td>4.0</td>\n",
       "      <td>4.5</td>\n",
       "      <td>6.3.5</td>\n",
       "      <td>4+</td>\n",
       "      <td>Games</td>\n",
       "      <td>38</td>\n",
       "      <td>5</td>\n",
       "      <td>10</td>\n",
       "      <td>1</td>\n",
       "    </tr>\n",
       "    <tr>\n",
       "      <th>1</th>\n",
       "      <td>2</td>\n",
       "      <td>281796108</td>\n",
       "      <td>Evernote - stay organized</td>\n",
       "      <td>158578688</td>\n",
       "      <td>USD</td>\n",
       "      <td>0.00</td>\n",
       "      <td>161065</td>\n",
       "      <td>26</td>\n",
       "      <td>4.0</td>\n",
       "      <td>3.5</td>\n",
       "      <td>8.2.2</td>\n",
       "      <td>4+</td>\n",
       "      <td>Productivity</td>\n",
       "      <td>37</td>\n",
       "      <td>5</td>\n",
       "      <td>23</td>\n",
       "      <td>1</td>\n",
       "    </tr>\n",
       "    <tr>\n",
       "      <th>2</th>\n",
       "      <td>3</td>\n",
       "      <td>281940292</td>\n",
       "      <td>WeatherBug - Local Weather, Radar, Maps, Alerts</td>\n",
       "      <td>100524032</td>\n",
       "      <td>USD</td>\n",
       "      <td>0.00</td>\n",
       "      <td>188583</td>\n",
       "      <td>2822</td>\n",
       "      <td>3.5</td>\n",
       "      <td>4.5</td>\n",
       "      <td>5.0.0</td>\n",
       "      <td>4+</td>\n",
       "      <td>Weather</td>\n",
       "      <td>37</td>\n",
       "      <td>5</td>\n",
       "      <td>3</td>\n",
       "      <td>1</td>\n",
       "    </tr>\n",
       "  </tbody>\n",
       "</table>\n",
       "</div>"
      ],
      "text/plain": [
       "   Unnamed: 0         id                                       track_name  \\\n",
       "0           1  281656475                                  PAC-MAN Premium   \n",
       "1           2  281796108                        Evernote - stay organized   \n",
       "2           3  281940292  WeatherBug - Local Weather, Radar, Maps, Alerts   \n",
       "\n",
       "   size_bytes currency  price  rating_count_tot  rating_count_ver  \\\n",
       "0   100788224      USD   3.99             21292                26   \n",
       "1   158578688      USD   0.00            161065                26   \n",
       "2   100524032      USD   0.00            188583              2822   \n",
       "\n",
       "   user_rating  user_rating_ver    ver cont_rating   prime_genre  \\\n",
       "0          4.0              4.5  6.3.5          4+         Games   \n",
       "1          4.0              3.5  8.2.2          4+  Productivity   \n",
       "2          3.5              4.5  5.0.0          4+       Weather   \n",
       "\n",
       "   sup_devices.num  ipadSc_urls.num  lang.num  vpp_lic  \n",
       "0               38                5        10        1  \n",
       "1               37                5        23        1  \n",
       "2               37                5         3        1  "
      ]
     },
     "execution_count": 4,
     "metadata": {},
     "output_type": "execute_result"
    }
   ],
   "source": [
    "# Create a variable called apple, and store in it the path of the csv file that contains your apple dataset. \n",
    "\n",
    "\n",
    "# Read the csv file into a pandas DataFrame object called Apple.\n",
    "apple = pd.read_csv('AppleStore.csv')\n",
    "\n",
    "# Observe the first three entries like you did with your other data. \n",
    "apple.head(3)"
   ]
  },
  {
   "cell_type": "markdown",
   "metadata": {
    "colab_type": "text",
    "id": "vljOHKNTFcuw"
   },
   "source": [
    "### 1b. Pick the columns we'll work with\n",
    "\n",
    "From the documentation of these datasets, we can infer that the most appropriate columns to answer the brief are:\n",
    "\n",
    "1. Google:\n",
    "    * `Category` # Do we need this?\n",
    "    * `Rating`\n",
    "    * `Reviews`\n",
    "    * `Price` (maybe)\n",
    "2. Apple:    \n",
    "    * `prime_genre` # Do we need this?\n",
    "    * `user_rating` \n",
    "    * `rating_count_tot`\n",
    "    * `price` (maybe)"
   ]
  },
  {
   "cell_type": "markdown",
   "metadata": {
    "colab_type": "text",
    "id": "uf69AeTvFcux"
   },
   "source": [
    "### 1c. Subsetting accordingly\n",
    "\n",
    "Let's select only those columns that we want to work with from both datasets. We'll overwrite the subsets in the original variables."
   ]
  },
  {
   "cell_type": "code",
   "execution_count": 5,
   "metadata": {
    "colab": {},
    "colab_type": "code",
    "id": "LNSDXyjdFcuy"
   },
   "outputs": [
    {
     "data": {
      "text/html": [
       "<div>\n",
       "<style scoped>\n",
       "    .dataframe tbody tr th:only-of-type {\n",
       "        vertical-align: middle;\n",
       "    }\n",
       "\n",
       "    .dataframe tbody tr th {\n",
       "        vertical-align: top;\n",
       "    }\n",
       "\n",
       "    .dataframe thead th {\n",
       "        text-align: right;\n",
       "    }\n",
       "</style>\n",
       "<table border=\"1\" class=\"dataframe\">\n",
       "  <thead>\n",
       "    <tr style=\"text-align: right;\">\n",
       "      <th></th>\n",
       "      <th>Category</th>\n",
       "      <th>Rating</th>\n",
       "      <th>Reviews</th>\n",
       "      <th>Price</th>\n",
       "    </tr>\n",
       "  </thead>\n",
       "  <tbody>\n",
       "    <tr>\n",
       "      <th>0</th>\n",
       "      <td>ART_AND_DESIGN</td>\n",
       "      <td>4.1</td>\n",
       "      <td>159</td>\n",
       "      <td>0</td>\n",
       "    </tr>\n",
       "    <tr>\n",
       "      <th>1</th>\n",
       "      <td>ART_AND_DESIGN</td>\n",
       "      <td>3.9</td>\n",
       "      <td>967</td>\n",
       "      <td>0</td>\n",
       "    </tr>\n",
       "    <tr>\n",
       "      <th>2</th>\n",
       "      <td>ART_AND_DESIGN</td>\n",
       "      <td>4.7</td>\n",
       "      <td>87510</td>\n",
       "      <td>0</td>\n",
       "    </tr>\n",
       "  </tbody>\n",
       "</table>\n",
       "</div>"
      ],
      "text/plain": [
       "         Category  Rating Reviews Price\n",
       "0  ART_AND_DESIGN     4.1     159     0\n",
       "1  ART_AND_DESIGN     3.9     967     0\n",
       "2  ART_AND_DESIGN     4.7   87510     0"
      ]
     },
     "execution_count": 5,
     "metadata": {},
     "output_type": "execute_result"
    }
   ],
   "source": [
    "# Subset our DataFrame object Google by selecting just the variables ['Category', 'Rating', 'Reviews', 'Price']\n",
    "li = ['Category', 'Rating', 'Reviews', 'Price']\n",
    "google = google[li]\n",
    "# Check the first three entries\n",
    "google.head(3)"
   ]
  },
  {
   "cell_type": "code",
   "execution_count": 7,
   "metadata": {
    "colab": {},
    "colab_type": "code",
    "id": "AVCtENPtFcu0"
   },
   "outputs": [
    {
     "data": {
      "text/html": [
       "<div>\n",
       "<style scoped>\n",
       "    .dataframe tbody tr th:only-of-type {\n",
       "        vertical-align: middle;\n",
       "    }\n",
       "\n",
       "    .dataframe tbody tr th {\n",
       "        vertical-align: top;\n",
       "    }\n",
       "\n",
       "    .dataframe thead th {\n",
       "        text-align: right;\n",
       "    }\n",
       "</style>\n",
       "<table border=\"1\" class=\"dataframe\">\n",
       "  <thead>\n",
       "    <tr style=\"text-align: right;\">\n",
       "      <th></th>\n",
       "      <th>prime_genre</th>\n",
       "      <th>user_rating</th>\n",
       "      <th>rating_count_tot</th>\n",
       "      <th>price</th>\n",
       "    </tr>\n",
       "  </thead>\n",
       "  <tbody>\n",
       "    <tr>\n",
       "      <th>0</th>\n",
       "      <td>Games</td>\n",
       "      <td>4.0</td>\n",
       "      <td>21292</td>\n",
       "      <td>3.99</td>\n",
       "    </tr>\n",
       "    <tr>\n",
       "      <th>1</th>\n",
       "      <td>Productivity</td>\n",
       "      <td>4.0</td>\n",
       "      <td>161065</td>\n",
       "      <td>0.00</td>\n",
       "    </tr>\n",
       "    <tr>\n",
       "      <th>2</th>\n",
       "      <td>Weather</td>\n",
       "      <td>3.5</td>\n",
       "      <td>188583</td>\n",
       "      <td>0.00</td>\n",
       "    </tr>\n",
       "  </tbody>\n",
       "</table>\n",
       "</div>"
      ],
      "text/plain": [
       "    prime_genre  user_rating  rating_count_tot  price\n",
       "0         Games          4.0             21292   3.99\n",
       "1  Productivity          4.0            161065   0.00\n",
       "2       Weather          3.5            188583   0.00"
      ]
     },
     "execution_count": 7,
     "metadata": {},
     "output_type": "execute_result"
    }
   ],
   "source": [
    "# Do the same with our Apple object, selecting just the variables ['prime_genre', 'user_rating', 'rating_count_tot', 'price']\n",
    "li_app = ['prime_genre', 'user_rating', 'rating_count_tot', 'price']\n",
    "apple = apple[li_app]\n",
    "# Let's check the first three entries\n",
    "apple.head(3)"
   ]
  },
  {
   "cell_type": "markdown",
   "metadata": {
    "colab_type": "text",
    "id": "wwK2wH-rFcu2"
   },
   "source": [
    "## Stage 2 -  Cleaning, transforming and visualizing"
   ]
  },
  {
   "cell_type": "markdown",
   "metadata": {
    "colab_type": "text",
    "id": "NsoE5x0JFcu3"
   },
   "source": [
    "### 2a. Check the data types for both Apple and Google, and fix them\n",
    "\n",
    "Types are crucial for data science in Python. Let's determine whether the variables we selected in the previous section belong to the types they should do, or whether there are any errors here. "
   ]
  },
  {
   "cell_type": "code",
   "execution_count": 8,
   "metadata": {
    "colab": {},
    "colab_type": "code",
    "id": "ymw10SaWFcu4"
   },
   "outputs": [
    {
     "data": {
      "text/plain": [
       "prime_genre          object\n",
       "user_rating         float64\n",
       "rating_count_tot      int64\n",
       "price               float64\n",
       "dtype: object"
      ]
     },
     "execution_count": 8,
     "metadata": {},
     "output_type": "execute_result"
    }
   ],
   "source": [
    "# Using the dtypes feature of pandas DataFrame objects, check out the data types within our Apple dataframe.\n",
    "# Are they what you expect?\n",
    "apple.dtypes"
   ]
  },
  {
   "cell_type": "markdown",
   "metadata": {
    "colab_type": "text",
    "id": "VAiM6jIxFcu6"
   },
   "source": [
    "This is looking healthy. But what about our Google data frame?"
   ]
  },
  {
   "cell_type": "code",
   "execution_count": 9,
   "metadata": {
    "colab": {},
    "colab_type": "code",
    "id": "kmP8MhqyFcu7"
   },
   "outputs": [
    {
     "data": {
      "text/plain": [
       "Category     object\n",
       "Rating      float64\n",
       "Reviews      object\n",
       "Price        object\n",
       "dtype: object"
      ]
     },
     "execution_count": 9,
     "metadata": {},
     "output_type": "execute_result"
    }
   ],
   "source": [
    "# Using the same dtypes feature, check out the data types of our Google dataframe. \n",
    "google.dtypes"
   ]
  },
  {
   "cell_type": "markdown",
   "metadata": {
    "colab_type": "text",
    "id": "O-dxAy0WFcu9"
   },
   "source": [
    "Weird. The data type for the column 'Price' is 'object', not a numeric data type like a float or an integer. Let's investigate the unique values of this column. "
   ]
  },
  {
   "cell_type": "code",
   "execution_count": 10,
   "metadata": {
    "colab": {},
    "colab_type": "code",
    "id": "Hu08K9y7Fcu9"
   },
   "outputs": [
    {
     "data": {
      "text/plain": [
       "array(['0', '$4.99', '$3.99', '$6.99', '$1.49', '$2.99', '$7.99', '$5.99',\n",
       "       '$3.49', '$1.99', '$9.99', '$7.49', '$0.99', '$9.00', '$5.49',\n",
       "       '$10.00', '$24.99', '$11.99', '$79.99', '$16.99', '$14.99',\n",
       "       '$1.00', '$29.99', '$12.99', '$2.49', '$10.99', '$1.50', '$19.99',\n",
       "       '$15.99', '$33.99', '$74.99', '$39.99', '$3.95', '$4.49', '$1.70',\n",
       "       '$8.99', '$2.00', '$3.88', '$25.99', '$399.99', '$17.99',\n",
       "       '$400.00', '$3.02', '$1.76', '$4.84', '$4.77', '$1.61', '$2.50',\n",
       "       '$1.59', '$6.49', '$1.29', '$5.00', '$13.99', '$299.99', '$379.99',\n",
       "       '$37.99', '$18.99', '$389.99', '$19.90', '$8.49', '$1.75',\n",
       "       '$14.00', '$4.85', '$46.99', '$109.99', '$154.99', '$3.08',\n",
       "       '$2.59', '$4.80', '$1.96', '$19.40', '$3.90', '$4.59', '$15.46',\n",
       "       '$3.04', '$4.29', '$2.60', '$3.28', '$4.60', '$28.99', '$2.95',\n",
       "       '$2.90', '$1.97', '$200.00', '$89.99', '$2.56', '$30.99', '$3.61',\n",
       "       '$394.99', '$1.26', 'Everyone', '$1.20', '$1.04'], dtype=object)"
      ]
     },
     "execution_count": 10,
     "metadata": {},
     "output_type": "execute_result"
    }
   ],
   "source": [
    "# Use the unique() pandas method on the Price column to check its unique values. \n",
    "google['Price'].unique()"
   ]
  },
  {
   "cell_type": "markdown",
   "metadata": {
    "colab_type": "text",
    "id": "w_7nkogFFcu_"
   },
   "source": [
    "Aha! Fascinating. There are actually two issues here. \n",
    "\n",
    "- Firstly, there's a price called `Everyone`. That is a massive mistake! \n",
    "- Secondly, there are dollar symbols everywhere! \n",
    "\n",
    "\n",
    "Let's address the first issue first. Let's check the datapoints that have the price value `Everyone`"
   ]
  },
  {
   "cell_type": "code",
   "execution_count": 11,
   "metadata": {
    "colab": {},
    "colab_type": "code",
    "id": "E75WWmhdFcvA"
   },
   "outputs": [
    {
     "data": {
      "text/html": [
       "<div>\n",
       "<style scoped>\n",
       "    .dataframe tbody tr th:only-of-type {\n",
       "        vertical-align: middle;\n",
       "    }\n",
       "\n",
       "    .dataframe tbody tr th {\n",
       "        vertical-align: top;\n",
       "    }\n",
       "\n",
       "    .dataframe thead th {\n",
       "        text-align: right;\n",
       "    }\n",
       "</style>\n",
       "<table border=\"1\" class=\"dataframe\">\n",
       "  <thead>\n",
       "    <tr style=\"text-align: right;\">\n",
       "      <th></th>\n",
       "      <th>Category</th>\n",
       "      <th>Rating</th>\n",
       "      <th>Reviews</th>\n",
       "      <th>Price</th>\n",
       "    </tr>\n",
       "  </thead>\n",
       "  <tbody>\n",
       "    <tr>\n",
       "      <th>10472</th>\n",
       "      <td>1.9</td>\n",
       "      <td>19.0</td>\n",
       "      <td>3.0M</td>\n",
       "      <td>Everyone</td>\n",
       "    </tr>\n",
       "  </tbody>\n",
       "</table>\n",
       "</div>"
      ],
      "text/plain": [
       "      Category  Rating Reviews     Price\n",
       "10472      1.9    19.0    3.0M  Everyone"
      ]
     },
     "execution_count": 11,
     "metadata": {},
     "output_type": "execute_result"
    }
   ],
   "source": [
    "# Let's check which data points have the value 'Everyone' for the 'Price' column by subsetting our Google dataframe.\n",
    "\n",
    "# Subset the Google dataframe on the price column. \n",
    "# To be sure: you want to pick out just those rows whose value for the 'Price' column is just 'Everyone'. \n",
    "google[google['Price'] == 'Everyone']"
   ]
  },
  {
   "cell_type": "markdown",
   "metadata": {
    "colab_type": "text",
    "id": "ezfLshdRFcvC"
   },
   "source": [
    "Thankfully, it's just one row. We've gotta get rid of it. "
   ]
  },
  {
   "cell_type": "code",
   "execution_count": 12,
   "metadata": {
    "colab": {},
    "colab_type": "code",
    "id": "DBmjUQUkFcvD"
   },
   "outputs": [
    {
     "data": {
      "text/plain": [
       "array(['0', '$4.99', '$3.99', '$6.99', '$1.49', '$2.99', '$7.99', '$5.99',\n",
       "       '$3.49', '$1.99', '$9.99', '$7.49', '$0.99', '$9.00', '$5.49',\n",
       "       '$10.00', '$24.99', '$11.99', '$79.99', '$16.99', '$14.99',\n",
       "       '$1.00', '$29.99', '$12.99', '$2.49', '$10.99', '$1.50', '$19.99',\n",
       "       '$15.99', '$33.99', '$74.99', '$39.99', '$3.95', '$4.49', '$1.70',\n",
       "       '$8.99', '$2.00', '$3.88', '$25.99', '$399.99', '$17.99',\n",
       "       '$400.00', '$3.02', '$1.76', '$4.84', '$4.77', '$1.61', '$2.50',\n",
       "       '$1.59', '$6.49', '$1.29', '$5.00', '$13.99', '$299.99', '$379.99',\n",
       "       '$37.99', '$18.99', '$389.99', '$19.90', '$8.49', '$1.75',\n",
       "       '$14.00', '$4.85', '$46.99', '$109.99', '$154.99', '$3.08',\n",
       "       '$2.59', '$4.80', '$1.96', '$19.40', '$3.90', '$4.59', '$15.46',\n",
       "       '$3.04', '$4.29', '$2.60', '$3.28', '$4.60', '$28.99', '$2.95',\n",
       "       '$2.90', '$1.97', '$200.00', '$89.99', '$2.56', '$30.99', '$3.61',\n",
       "       '$394.99', '$1.26', '$1.20', '$1.04'], dtype=object)"
      ]
     },
     "execution_count": 12,
     "metadata": {},
     "output_type": "execute_result"
    }
   ],
   "source": [
    "# Let's eliminate that row. \n",
    "\n",
    "# Subset our Google dataframe to pick out just those rows whose value for the 'Price' column is NOT 'Everyone'. \n",
    "# Reassign that subset to the Google variable. \n",
    "# You can do this in two lines or one. Your choice! \n",
    "google = google[google['Price']!= 'Everyone']\n",
    "\n",
    "# Check again the unique values of Google\n",
    "google['Price'].unique() \n"
   ]
  },
  {
   "cell_type": "markdown",
   "metadata": {
    "colab_type": "text",
    "id": "T43TB4qFFcvF"
   },
   "source": [
    "Our second problem remains: I'm seeing dollar symbols when I close my eyes! (And not in a good way). \n",
    "\n",
    "This is a problem because Python actually considers these values strings. So we can't do mathematical and statistical operations on them until we've made them into numbers. "
   ]
  },
  {
   "cell_type": "code",
   "execution_count": 13,
   "metadata": {
    "colab": {},
    "colab_type": "code",
    "id": "W87gVS9BFcvG"
   },
   "outputs": [
    {
     "name": "stderr",
     "output_type": "stream",
     "text": [
      "/var/folders/q8/h0qxrk9104304kbtwfz3q8r80000gn/T/ipykernel_819/634882106.py:3: FutureWarning: The default value of regex will change from True to False in a future version. In addition, single character regular expressions will *not* be treated as literal strings when regex=True.\n",
      "  nosymb = google['Price'].str.replace('$','')\n"
     ]
    }
   ],
   "source": [
    "# Let's create a variable called nosymb.\n",
    "# This variable will take the Price column of Google and apply the str.replace() method. \n",
    "nosymb = google['Price'].str.replace('$','')\n",
    "\n",
    "# Now we need to do two things:\n",
    "# i. Make the values in the nosymb variable numeric using the to_numeric() pandas method.\n",
    "# ii. Assign this new set of numeric, dollar-sign-less values to Google['Price']. \n",
    "# You can do this in one line if you wish.\n",
    "google['Price'] = pd.to_numeric(nosymb)\n",
    "\n"
   ]
  },
  {
   "cell_type": "markdown",
   "metadata": {
    "colab_type": "text",
    "id": "LxpJQ9yyFcvI"
   },
   "source": [
    "Now let's check the data types for our Google dataframe again, to verify that the 'Price' column really is numeric now."
   ]
  },
  {
   "cell_type": "code",
   "execution_count": 14,
   "metadata": {
    "colab": {},
    "colab_type": "code",
    "id": "Fn5Gt-QbFcvI"
   },
   "outputs": [
    {
     "data": {
      "text/plain": [
       "Category     object\n",
       "Rating      float64\n",
       "Reviews      object\n",
       "Price       float64\n",
       "dtype: object"
      ]
     },
     "execution_count": 14,
     "metadata": {},
     "output_type": "execute_result"
    }
   ],
   "source": [
    "# Use the function dtypes. \n",
    "google.dtypes"
   ]
  },
  {
   "cell_type": "markdown",
   "metadata": {
    "colab_type": "text",
    "id": "FgfuiVo0FcvK"
   },
   "source": [
    "Notice that the column `Reviews` is still an object column. We actually need this column to be a numeric column, too. "
   ]
  },
  {
   "cell_type": "code",
   "execution_count": 15,
   "metadata": {
    "colab": {},
    "colab_type": "code",
    "id": "MiVEWsWBFcvL"
   },
   "outputs": [],
   "source": [
    "# Convert the 'Reviews' column to a numeric data type. \n",
    "google['Reviews'] = pd.to_numeric(google['Reviews'])"
   ]
  },
  {
   "cell_type": "code",
   "execution_count": 36,
   "metadata": {
    "colab": {},
    "colab_type": "code",
    "id": "wWJdXXTTFcvN"
   },
   "outputs": [
    {
     "data": {
      "text/plain": [
       "Category     object\n",
       "Rating      float64\n",
       "Reviews       int64\n",
       "Price       float64\n",
       "dtype: object"
      ]
     },
     "execution_count": 36,
     "metadata": {},
     "output_type": "execute_result"
    }
   ],
   "source": [
    "# Let's check the data types of Google again\n",
    "google.dtypes"
   ]
  },
  {
   "cell_type": "markdown",
   "metadata": {
    "colab_type": "text",
    "id": "OiLm2GEKFcvP"
   },
   "source": [
    "### 2b. Add a `platform` column to both the `Apple` and the `Google` dataframes\n",
    "Let's add a new column to both dataframe objects called `platform`: all of its values in the Google dataframe will be just 'google', and all of its values for the Apple dataframe will be just 'apple'. \n",
    "\n",
    "The reason we're making this column is so that we can ultimately join our Apple and Google data together, and actually test out some hypotheses to solve the problem in our brief. "
   ]
  },
  {
   "cell_type": "code",
   "execution_count": 16,
   "metadata": {
    "colab": {},
    "colab_type": "code",
    "id": "mF-sOcx2FcvQ"
   },
   "outputs": [],
   "source": [
    "# Create a column called 'platform' in both the Apple and Google dataframes. \n",
    "# Add the value 'apple' and the value 'google' as appropriate. \n",
    "google['platform'] = 'google'\n",
    "\n",
    "apple['platform'] = 'apple'"
   ]
  },
  {
   "cell_type": "markdown",
   "metadata": {
    "colab_type": "text",
    "id": "EJcry17IFcvS"
   },
   "source": [
    "### 2c. Changing the column names to prepare for our join of the two datasets \n",
    "Since the easiest way to join two datasets is if they have both:\n",
    "- the same number of columns\n",
    "- the same column names\n",
    "we need to rename the columns of `Apple` so that they're the same as the ones of `Google`, or vice versa.\n",
    "\n",
    "In this case, we're going to change the `Apple` columns names to the names of the `Google` columns. \n",
    "\n",
    "This is an important step to unify the two datasets!"
   ]
  },
  {
   "cell_type": "code",
   "execution_count": 17,
   "metadata": {
    "colab": {},
    "colab_type": "code",
    "id": "bdt9XH2KFcvT"
   },
   "outputs": [],
   "source": [
    "# Create a variable called old_names where you'll store the column names of the Apple dataframe. \n",
    "# Use the feature .columns.\n",
    "old_names = apple.columns\n",
    "\n",
    "# Create a variable called new_names where you'll store the column names of the Google dataframe. \n",
    "new_names = google.columns\n",
    "\n",
    "# Use the rename() DataFrame method to change the columns names. \n",
    "for i in range(len(old_names)):\n",
    "    apple.rename(columns = {old_names[i]:new_names[i]}, inplace = True)"
   ]
  },
  {
   "cell_type": "markdown",
   "metadata": {
    "colab_type": "text",
    "id": "qewPiLrRFcvX"
   },
   "source": [
    "### 2d. Join the two datasets \n",
    "Let's combine the two datasets into a single data frame called `df`."
   ]
  },
  {
   "cell_type": "code",
   "execution_count": 18,
   "metadata": {
    "colab": {},
    "colab_type": "code",
    "id": "jq6fGfvyFcvY"
   },
   "outputs": [
    {
     "data": {
      "text/html": [
       "<div>\n",
       "<style scoped>\n",
       "    .dataframe tbody tr th:only-of-type {\n",
       "        vertical-align: middle;\n",
       "    }\n",
       "\n",
       "    .dataframe tbody tr th {\n",
       "        vertical-align: top;\n",
       "    }\n",
       "\n",
       "    .dataframe thead th {\n",
       "        text-align: right;\n",
       "    }\n",
       "</style>\n",
       "<table border=\"1\" class=\"dataframe\">\n",
       "  <thead>\n",
       "    <tr style=\"text-align: right;\">\n",
       "      <th></th>\n",
       "      <th>Category</th>\n",
       "      <th>Rating</th>\n",
       "      <th>Reviews</th>\n",
       "      <th>Price</th>\n",
       "      <th>platform</th>\n",
       "    </tr>\n",
       "  </thead>\n",
       "  <tbody>\n",
       "    <tr>\n",
       "      <th>4119</th>\n",
       "      <td>TOOLS</td>\n",
       "      <td>4.3</td>\n",
       "      <td>9433</td>\n",
       "      <td>0.00</td>\n",
       "      <td>google</td>\n",
       "    </tr>\n",
       "    <tr>\n",
       "      <th>91</th>\n",
       "      <td>Social Networking</td>\n",
       "      <td>3.5</td>\n",
       "      <td>373519</td>\n",
       "      <td>0.00</td>\n",
       "      <td>apple</td>\n",
       "    </tr>\n",
       "    <tr>\n",
       "      <th>5353</th>\n",
       "      <td>Games</td>\n",
       "      <td>0.0</td>\n",
       "      <td>0</td>\n",
       "      <td>0.00</td>\n",
       "      <td>apple</td>\n",
       "    </tr>\n",
       "    <tr>\n",
       "      <th>1428</th>\n",
       "      <td>Photo &amp; Video</td>\n",
       "      <td>4.5</td>\n",
       "      <td>1810</td>\n",
       "      <td>2.99</td>\n",
       "      <td>apple</td>\n",
       "    </tr>\n",
       "    <tr>\n",
       "      <th>7414</th>\n",
       "      <td>GAME</td>\n",
       "      <td>4.3</td>\n",
       "      <td>29330</td>\n",
       "      <td>0.00</td>\n",
       "      <td>google</td>\n",
       "    </tr>\n",
       "    <tr>\n",
       "      <th>5893</th>\n",
       "      <td>Games</td>\n",
       "      <td>4.0</td>\n",
       "      <td>111</td>\n",
       "      <td>0.00</td>\n",
       "      <td>apple</td>\n",
       "    </tr>\n",
       "    <tr>\n",
       "      <th>1984</th>\n",
       "      <td>GAME</td>\n",
       "      <td>4.4</td>\n",
       "      <td>2610680</td>\n",
       "      <td>0.00</td>\n",
       "      <td>google</td>\n",
       "    </tr>\n",
       "    <tr>\n",
       "      <th>6491</th>\n",
       "      <td>SPORTS</td>\n",
       "      <td>4.5</td>\n",
       "      <td>117</td>\n",
       "      <td>0.99</td>\n",
       "      <td>google</td>\n",
       "    </tr>\n",
       "    <tr>\n",
       "      <th>1621</th>\n",
       "      <td>Entertainment</td>\n",
       "      <td>4.0</td>\n",
       "      <td>1987</td>\n",
       "      <td>0.00</td>\n",
       "      <td>apple</td>\n",
       "    </tr>\n",
       "    <tr>\n",
       "      <th>514</th>\n",
       "      <td>DATING</td>\n",
       "      <td>3.0</td>\n",
       "      <td>1146</td>\n",
       "      <td>0.00</td>\n",
       "      <td>google</td>\n",
       "    </tr>\n",
       "    <tr>\n",
       "      <th>2890</th>\n",
       "      <td>Games</td>\n",
       "      <td>4.5</td>\n",
       "      <td>333</td>\n",
       "      <td>1.99</td>\n",
       "      <td>apple</td>\n",
       "    </tr>\n",
       "    <tr>\n",
       "      <th>8331</th>\n",
       "      <td>BUSINESS</td>\n",
       "      <td>NaN</td>\n",
       "      <td>2</td>\n",
       "      <td>0.00</td>\n",
       "      <td>google</td>\n",
       "    </tr>\n",
       "  </tbody>\n",
       "</table>\n",
       "</div>"
      ],
      "text/plain": [
       "               Category  Rating  Reviews  Price platform\n",
       "4119              TOOLS     4.3     9433   0.00   google\n",
       "91    Social Networking     3.5   373519   0.00    apple\n",
       "5353              Games     0.0        0   0.00    apple\n",
       "1428      Photo & Video     4.5     1810   2.99    apple\n",
       "7414               GAME     4.3    29330   0.00   google\n",
       "5893              Games     4.0      111   0.00    apple\n",
       "1984               GAME     4.4  2610680   0.00   google\n",
       "6491             SPORTS     4.5      117   0.99   google\n",
       "1621      Entertainment     4.0     1987   0.00    apple\n",
       "514              DATING     3.0     1146   0.00   google\n",
       "2890              Games     4.5      333   1.99    apple\n",
       "8331           BUSINESS     NaN        2   0.00   google"
      ]
     },
     "execution_count": 18,
     "metadata": {},
     "output_type": "execute_result"
    }
   ],
   "source": [
    "# Let's use the append() method to append Apple to Google. \n",
    "df = google.append(apple)\n",
    "\n",
    "# Using the sample() method with the number 12 passed to it, check 12 random points of your dataset.\n",
    "df.sample(12)"
   ]
  },
  {
   "cell_type": "markdown",
   "metadata": {
    "colab_type": "text",
    "id": "FjqsHugWFcvb"
   },
   "source": [
    "### 2e. Eliminate the NaN values\n",
    "\n",
    "As you can see there are some `NaN` values. We want to eliminate all these `NaN` values from the table."
   ]
  },
  {
   "cell_type": "code",
   "execution_count": 19,
   "metadata": {
    "colab": {},
    "colab_type": "code",
    "id": "Gp2q6GLyFcvb"
   },
   "outputs": [
    {
     "data": {
      "text/plain": [
       "(16563, 5)"
      ]
     },
     "execution_count": 19,
     "metadata": {},
     "output_type": "execute_result"
    }
   ],
   "source": [
    "# Lets check first the dimesions of df before droping `NaN` values. Use the .shape feature. \n",
    "df.shape\n",
    "\n",
    "# Use the dropna() method to eliminate all the NaN values, and overwrite the same dataframe with the result. \n",
    "df = df.dropna()\n",
    "# Check the new dimesions of our dataframe. \n",
    "df.shape"
   ]
  },
  {
   "cell_type": "markdown",
   "metadata": {
    "colab_type": "text",
    "id": "qtfeQKtAFcvd"
   },
   "source": [
    "### 2f. Filter the data so that we only see whose apps that have been reviewed at least once\n",
    "\n",
    "Apps that haven't been reviewed yet can't help us solve our brief. \n",
    "\n",
    "So let's check to see if any apps have no reviews at all. "
   ]
  },
  {
   "cell_type": "code",
   "execution_count": 20,
   "metadata": {
    "colab": {},
    "colab_type": "code",
    "id": "Ge9OKXLNFcvd"
   },
   "outputs": [
    {
     "data": {
      "text/plain": [
       "(929, 5)"
      ]
     },
     "execution_count": 20,
     "metadata": {},
     "output_type": "execute_result"
    }
   ],
   "source": [
    "# Subset your df to pick out just those rows whose value for 'Reviews' is equal to 0. \n",
    "# Do a count() on the result. \n",
    "no_rev = df[df['Reviews'] == 0]\n",
    "no_rev.shape"
   ]
  },
  {
   "cell_type": "markdown",
   "metadata": {
    "colab_type": "text",
    "id": "05f7H0kAFcvg"
   },
   "source": [
    "929 apps do not have reviews, we need to eliminate these points!"
   ]
  },
  {
   "cell_type": "code",
   "execution_count": 21,
   "metadata": {
    "colab": {},
    "colab_type": "code",
    "id": "pD8vmPjkFcvg"
   },
   "outputs": [],
   "source": [
    "# Eliminate the points that have 0 reviews.\n",
    "df = df[df['Reviews'] > 0]"
   ]
  },
  {
   "cell_type": "markdown",
   "metadata": {
    "colab_type": "text",
    "id": "ApnKES_bFcvi"
   },
   "source": [
    "### 2g. Summarize the data visually and analytically (by the column `platform`)"
   ]
  },
  {
   "cell_type": "markdown",
   "metadata": {
    "colab_type": "text",
    "id": "2smt9UocFcvj"
   },
   "source": [
    "What we need to solve our brief is a summary of the `Rating` column, but separated by the different platforms."
   ]
  },
  {
   "cell_type": "code",
   "execution_count": 22,
   "metadata": {
    "colab": {},
    "colab_type": "code",
    "id": "Vqckt347Fcvj"
   },
   "outputs": [
    {
     "data": {
      "text/html": [
       "<div>\n",
       "<style scoped>\n",
       "    .dataframe tbody tr th:only-of-type {\n",
       "        vertical-align: middle;\n",
       "    }\n",
       "\n",
       "    .dataframe tbody tr th {\n",
       "        vertical-align: top;\n",
       "    }\n",
       "\n",
       "    .dataframe thead th {\n",
       "        text-align: right;\n",
       "    }\n",
       "</style>\n",
       "<table border=\"1\" class=\"dataframe\">\n",
       "  <thead>\n",
       "    <tr style=\"text-align: right;\">\n",
       "      <th></th>\n",
       "      <th>count</th>\n",
       "      <th>mean</th>\n",
       "      <th>std</th>\n",
       "      <th>min</th>\n",
       "      <th>25%</th>\n",
       "      <th>50%</th>\n",
       "      <th>75%</th>\n",
       "      <th>max</th>\n",
       "    </tr>\n",
       "    <tr>\n",
       "      <th>platform</th>\n",
       "      <th></th>\n",
       "      <th></th>\n",
       "      <th></th>\n",
       "      <th></th>\n",
       "      <th></th>\n",
       "      <th></th>\n",
       "      <th></th>\n",
       "      <th></th>\n",
       "    </tr>\n",
       "  </thead>\n",
       "  <tbody>\n",
       "    <tr>\n",
       "      <th>apple</th>\n",
       "      <td>6268.0</td>\n",
       "      <td>4.049697</td>\n",
       "      <td>0.726943</td>\n",
       "      <td>1.0</td>\n",
       "      <td>4.0</td>\n",
       "      <td>4.5</td>\n",
       "      <td>4.5</td>\n",
       "      <td>5.0</td>\n",
       "    </tr>\n",
       "    <tr>\n",
       "      <th>google</th>\n",
       "      <td>9366.0</td>\n",
       "      <td>4.191757</td>\n",
       "      <td>0.515219</td>\n",
       "      <td>1.0</td>\n",
       "      <td>4.0</td>\n",
       "      <td>4.3</td>\n",
       "      <td>4.5</td>\n",
       "      <td>5.0</td>\n",
       "    </tr>\n",
       "  </tbody>\n",
       "</table>\n",
       "</div>"
      ],
      "text/plain": [
       "           count      mean       std  min  25%  50%  75%  max\n",
       "platform                                                     \n",
       "apple     6268.0  4.049697  0.726943  1.0  4.0  4.5  4.5  5.0\n",
       "google    9366.0  4.191757  0.515219  1.0  4.0  4.3  4.5  5.0"
      ]
     },
     "execution_count": 22,
     "metadata": {},
     "output_type": "execute_result"
    }
   ],
   "source": [
    "# To summarize analytically, let's use the groupby() method on our df.\n",
    "df.groupby('platform')['Rating'].describe()"
   ]
  },
  {
   "cell_type": "markdown",
   "metadata": {
    "colab_type": "text",
    "id": "8f9TqMtKFcvl"
   },
   "source": [
    "\n",
    "Interesting! Our means of 4.049697 and 4.191757 don't **seem** all that different! Perhaps we've solved our brief already: there's no significant difference between Google Play app reviews and Apple Store app reviews. We have an ***observed difference*** here: which is simply (4.191757 - 4.049697) = 0.14206. This is just the actual difference that we observed between the mean rating for apps from Google Play, and the mean rating for apps from the Apple Store. Let's look at how we're going to use this observed difference to solve our problem using a statistical test. \n",
    "\n",
    "**Outline of our method:**\n",
    "1. We'll assume that platform (i.e, whether the app was Google or Apple) really doesn’t impact on ratings. \n",
    "\n",
    "\n",
    "2. Given this assumption, we should actually be able to get a difference in mean rating for Apple apps and mean rating for Google apps that's pretty similar to the one we actually got (0.14206) just by: \n",
    "a. shuffling the ratings column, \n",
    "b. keeping the platform column the same,\n",
    "c. calculating the difference between the mean rating for Apple and the mean rating for Google. \n",
    "\n",
    "\n",
    "3. We can make the shuffle more useful by doing it many times, each time calculating the mean rating for Apple apps and the mean rating for Google apps, and the difference between these means. \n",
    "\n",
    "\n",
    "4. We can then take the mean of all these differences, and this will be called our permutation difference. This permutation difference will be great indicator of what the difference would be if our initial assumption were true and platform really doesn’t impact on ratings. \n",
    "\n",
    "\n",
    "5. Now we do a comparison. If the observed difference looks just like the permutation difference, then we stick with the claim that actually, platform doesn’t impact on ratings. If instead, however, the permutation difference differs significantly from the observed difference, we'll conclude: something's going on; the platform does in fact impact on ratings. \n",
    "\n",
    "\n",
    "6. As for what the definition of *significantly* is, we'll get to that. But there’s a brief summary of what we're going to do. Exciting!\n",
    "\n",
    "If you want to look more deeply at the statistics behind this project, check out [this resource](https://www.springboard.com/archeio/download/4ea4d453b0b84014bcef287c50f47f00/)."
   ]
  },
  {
   "cell_type": "markdown",
   "metadata": {
    "colab_type": "text",
    "id": "d6EhTxArFcvm"
   },
   "source": [
    "Let's also get a **visual summary** of the `Rating` column, separated by the different platforms. \n",
    "\n",
    "A good tool to use here is the boxplot!"
   ]
  },
  {
   "cell_type": "code",
   "execution_count": 63,
   "metadata": {
    "colab": {},
    "colab_type": "code",
    "id": "hFKjrlWgFcvm"
   },
   "outputs": [
    {
     "data": {
      "image/png": "[encoded data removed]",
      "text/plain": [
       "<Figure size 432x288 with 1 Axes>"
      ]
     },
     "metadata": {
      "needs_background": "light"
     },
     "output_type": "display_data"
    }
   ],
   "source": [
    "# Call the boxplot() method on our df.\n",
    "plt.boxplot(df['Rating'])\n",
    "plt.show()"
   ]
  },
  {
   "cell_type": "markdown",
   "metadata": {
    "colab_type": "text",
    "id": "FqTlAjnmFcvo"
   },
   "source": [
    "Here we see the same information as in the analytical summary, but with a boxplot. Can you see how the boxplot is working here? If you need to revise your boxplots, check out this this [link](https://www.kaggle.com/ramamet4/app-store-apple-data-set-10k-apps). "
   ]
  },
  {
   "cell_type": "markdown",
   "metadata": {
    "colab_type": "text",
    "id": "O8L-s1fgFcvp"
   },
   "source": [
    "## Stage 3 - Modelling"
   ]
  },
  {
   "cell_type": "markdown",
   "metadata": {
    "colab_type": "text",
    "id": "5fbRq2MZFcvq"
   },
   "source": [
    "### 3a. Hypothesis formulation\n",
    "\n",
    "Our **Null hypothesis** is just:\n",
    "\n",
    "**H<sub>null</sub>**: the observed difference in the mean rating of Apple Store and Google Play apps is due to chance (and thus not due to the platform).\n",
    "\n",
    "The more interesting hypothesis is called the **Alternate hypothesis**:\n",
    "\n",
    "**H<sub>alternative</sub>**: the observed difference in the average ratings of apple and google users is not due to chance (and is actually due to platform)\n",
    "\n",
    "We're also going to pick a **significance level** of 0.05. "
   ]
  },
  {
   "cell_type": "markdown",
   "metadata": {
    "colab_type": "text",
    "id": "TjBqkabaFcvq"
   },
   "source": [
    "### 3b. Getting the distribution of the data\n",
    "Now that the hypotheses and significance level are defined, we can select a statistical test to determine which hypothesis to accept. \n",
    "\n",
    "There are many different statistical tests, all with different assumptions. You'll generate an excellent judgement about when to use which statistical tests over the Data Science Career Track course. But in general, one of the most important things to determine is the **distribution of the data**.   "
   ]
  },
  {
   "cell_type": "code",
   "execution_count": 23,
   "metadata": {
    "colab": {},
    "colab_type": "code",
    "id": "bFwVhkeWFcvr"
   },
   "outputs": [],
   "source": [
    "# Create a subset of the column 'Rating' by the different platforms.\n",
    "# Call the subsets 'apple' and 'google' \n",
    "apple_rating = df['Rating'][df['platform'] == 'apple']\n",
    "google_rating = df['Rating'][df['platform'] == 'google']"
   ]
  },
  {
   "cell_type": "code",
   "execution_count": 24,
   "metadata": {
    "colab": {},
    "colab_type": "code",
    "id": "oPPFpwPvFcvu"
   },
   "outputs": [
    {
     "name": "stdout",
     "output_type": "stream",
     "text": [
      "NormaltestResult(statistic=1778.9974234584017, pvalue=0.0)\n"
     ]
    }
   ],
   "source": [
    "# Using the stats.normaltest() method, get an indication of whether the apple data are normally distributed\n",
    "# Save the result in a variable called apple_normal, and print it out\n",
    "apple_normal = stats.normaltest(apple_rating)\n",
    "print (apple_normal)"
   ]
  },
  {
   "cell_type": "code",
   "execution_count": 25,
   "metadata": {
    "colab": {},
    "colab_type": "code",
    "id": "rCdh8a8KFcvw"
   },
   "outputs": [
    {
     "name": "stdout",
     "output_type": "stream",
     "text": [
      "NormaltestResult(statistic=3678.6157187516856, pvalue=0.0)\n"
     ]
    }
   ],
   "source": [
    "# Do the same with the google data. \n",
    "google_normal = stats.normaltest(google_rating)\n",
    "print (google_normal)"
   ]
  },
  {
   "cell_type": "markdown",
   "metadata": {
    "colab_type": "text",
    "id": "9gDqu21yFcv0"
   },
   "source": [
    "Since the null hypothesis of the normaltest() is that the data are normally distributed, the lower the p-value in the result of this test, the more likely the data are to be non-normal. \n",
    "\n",
    "Since the p-values is 0 for both tests, regardless of what we pick for the significance level, our conclusion is that the data are not normally distributed. \n",
    "\n",
    "We can actually also check out the distribution of the data visually with a histogram. A normal distribution has the following visual characteristics:\n",
    "    - symmetric\n",
    "    - unimodal (one hump)\n",
    "As well as a roughly identical mean, median and mode. "
   ]
  },
  {
   "cell_type": "code",
   "execution_count": 26,
   "metadata": {
    "colab": {},
    "colab_type": "code",
    "id": "P9tT9RjNFcv1"
   },
   "outputs": [
    {
     "data": {
      "text/plain": [
       "<AxesSubplot:>"
      ]
     },
     "execution_count": 26,
     "metadata": {},
     "output_type": "execute_result"
    },
    {
     "data": {
      "image/png": "[encoded data removed]",
      "text/plain": [
       "<Figure size 432x288 with 1 Axes>"
      ]
     },
     "metadata": {
      "needs_background": "light"
     },
     "output_type": "display_data"
    }
   ],
   "source": [
    "# Create a histogram of the apple reviews distribution\n",
    "apple_rating.hist()"
   ]
  },
  {
   "cell_type": "code",
   "execution_count": 27,
   "metadata": {
    "colab": {},
    "colab_type": "code",
    "id": "8dE1uC5iFcv2"
   },
   "outputs": [
    {
     "data": {
      "text/plain": [
       "<AxesSubplot:>"
      ]
     },
     "execution_count": 27,
     "metadata": {},
     "output_type": "execute_result"
    },
    {
     "data": {
      "image/png": "[encoded data removed]",
      "text/plain": [
       "<Figure size 432x288 with 1 Axes>"
      ]
     },
     "metadata": {
      "needs_background": "light"
     },
     "output_type": "display_data"
    }
   ],
   "source": [
    "# Create a histogram of the google data\n",
    "google_rating.hist()"
   ]
  },
  {
   "cell_type": "markdown",
   "metadata": {
    "colab_type": "text",
    "id": "QhZV89FzFcv5"
   },
   "source": [
    "### 3c. Permutation test\n",
    "Since the data aren't normally distributed, we're using a *non-parametric* test here. This is simply a label for statistical tests used when the data aren't normally distributed. These tests are extraordinarily powerful due to how few assumptions we need to make.  \n",
    "\n",
    "Check out more about permutations [here.](http://rasbt.github.io/mlxtend/user_guide/evaluate/permutation_test/)"
   ]
  },
  {
   "cell_type": "code",
   "execution_count": 28,
   "metadata": {
    "colab": {},
    "colab_type": "code",
    "id": "bxNhQgpqFcv6"
   },
   "outputs": [
    {
     "data": {
      "text/html": [
       "<div>\n",
       "<style scoped>\n",
       "    .dataframe tbody tr th:only-of-type {\n",
       "        vertical-align: middle;\n",
       "    }\n",
       "\n",
       "    .dataframe tbody tr th {\n",
       "        vertical-align: top;\n",
       "    }\n",
       "\n",
       "    .dataframe thead th {\n",
       "        text-align: right;\n",
       "    }\n",
       "</style>\n",
       "<table border=\"1\" class=\"dataframe\">\n",
       "  <thead>\n",
       "    <tr style=\"text-align: right;\">\n",
       "      <th></th>\n",
       "      <th>count</th>\n",
       "      <th>mean</th>\n",
       "      <th>std</th>\n",
       "      <th>min</th>\n",
       "      <th>25%</th>\n",
       "      <th>50%</th>\n",
       "      <th>75%</th>\n",
       "      <th>max</th>\n",
       "    </tr>\n",
       "    <tr>\n",
       "      <th>platform</th>\n",
       "      <th></th>\n",
       "      <th></th>\n",
       "      <th></th>\n",
       "      <th></th>\n",
       "      <th></th>\n",
       "      <th></th>\n",
       "      <th></th>\n",
       "      <th></th>\n",
       "    </tr>\n",
       "  </thead>\n",
       "  <tbody>\n",
       "    <tr>\n",
       "      <th>apple</th>\n",
       "      <td>6268.0</td>\n",
       "      <td>4.141640</td>\n",
       "      <td>0.595434</td>\n",
       "      <td>1.0</td>\n",
       "      <td>4.0</td>\n",
       "      <td>4.3</td>\n",
       "      <td>4.5</td>\n",
       "      <td>5.0</td>\n",
       "    </tr>\n",
       "    <tr>\n",
       "      <th>google</th>\n",
       "      <td>9366.0</td>\n",
       "      <td>4.130226</td>\n",
       "      <td>0.624392</td>\n",
       "      <td>1.0</td>\n",
       "      <td>4.0</td>\n",
       "      <td>4.3</td>\n",
       "      <td>4.5</td>\n",
       "      <td>5.0</td>\n",
       "    </tr>\n",
       "  </tbody>\n",
       "</table>\n",
       "</div>"
      ],
      "text/plain": [
       "           count      mean       std  min  25%  50%  75%  max\n",
       "platform                                                     \n",
       "apple     6268.0  4.141640  0.595434  1.0  4.0  4.3  4.5  5.0\n",
       "google    9366.0  4.130226  0.624392  1.0  4.0  4.3  4.5  5.0"
      ]
     },
     "execution_count": 28,
     "metadata": {},
     "output_type": "execute_result"
    }
   ],
   "source": [
    "# Create a column called `Permutation1`, and assign to it the result of permuting (shuffling) the Rating column\n",
    "# This assignment will use our numpy object's random.permutation() method\n",
    "df['Permutation1'] = np.random.permutation(df['Rating'])\n",
    "\n",
    "# Call the describe() method on our permutation grouped by 'platform'. \n",
    "df.groupby('platform')['Permutation1'].describe()"
   ]
  },
  {
   "cell_type": "code",
   "execution_count": 29,
   "metadata": {
    "colab": {},
    "colab_type": "code",
    "id": "AaGNfPGTFcv7"
   },
   "outputs": [
    {
     "data": {
      "text/plain": [
       "0.00403700000000029"
      ]
     },
     "execution_count": 29,
     "metadata": {},
     "output_type": "execute_result"
    }
   ],
   "source": [
    "# Lets compare with the previous analytical summary:\n",
    "4.137221 - 4.133184"
   ]
  },
  {
   "cell_type": "code",
   "execution_count": 35,
   "metadata": {
    "colab": {},
    "colab_type": "code",
    "id": "aJPNpX0JFcv-"
   },
   "outputs": [
    {
     "name": "stdout",
     "output_type": "stream",
     "text": [
      "[0.004409781145705338, 9.556419431167029e-05, 0.011786559513222272, 0.01969595725745865, 0.023930281302317447, 0.0015602674802712713, -0.0041121288817302926, 0.0008678622905193834, 0.013091476986158312, -0.018333066240069584, -0.012314467283173869, -0.0003571622759031001, -0.007014904484850426, -0.013326444098966661, 0.010987630448129337, 0.007978330969684144, 0.013464310549866632, 0.0012140648853957714, 0.003690744987121519, -0.01473788544722332, -0.013619384756142772, 0.015781204838571483, -0.004538224383131784, 0.01764537265709354, 0.009123462629646362, -0.009251905867075472, -0.000623471964273925, 0.009123462629641033, 0.0026521372025234413, 0.006007639275848575, 0.028457546004464263, 0.010641427853260055, 0.01080121366629161, 0.0032380185169387232, -0.021661937344537918, 0.005182079241935256, 0.004303257270338534, 0.0002553500073094739, 0.0008678622905469169, -0.007334476110870014, -0.020277126965091874, 0.005341865054961481, 0.0043298882391829, -0.005203998604035753, -0.0027539494711597, -0.0031800449725034596, -1.0959681055133785e-05, 0.010428380102593948, -0.0029403662529920993, 0.022119375421525866, 0.016952967467369184, -0.0012892461851627957, -0.009065489085226197, -0.000836519714951578, -0.004192021788255396, -0.003712664349228234, 0.011546880793696701, 0.012718643422484632, 0.005981008307002433, -0.01822654236473653, -0.011409014342759427, 0.0063005799330229095, 0.002172779763482957, 0.019749219195132284, 0.0052087102108053784, 0.004090209519674204, 0.013171369892675422, 0.02171991088898828, -0.0201173411520692, -0.005709987011894846, -0.0018484965307044021, -0.005417046354710742, 0.009070200691960295, -0.009385060711244009, -0.017347720393146027, -0.0057898799184128436, 0.0022793036388319976, 0.006460365746058905, 0.006273948964214959, -0.0116753240311116, 0.007099508998124726, 0.026380330435229915, -0.002061544281406036, 0.007978330969684144, 0.008963676816622801, -0.00568335604307002, 0.007658759343675214, -0.005203998604020654, 0.009336510380322238, 0.011759928544380571, 0.006300579933039785, -0.004618117289646229, -0.02869251311720422, -0.004085497912920566, 0.0012140648854028768, 0.005288603117283408, 0.0071527709357797065, -0.005816510887253656, -0.008666024552673512, 0.01732580103105885, 0.014609442209787993, -0.0015555558735238506, -0.01266066987805381, 0.014263239614946244, -0.0012093532786519035, -0.002594163658123705, 0.003797268862467895, -0.004671379227321637, -0.009305167804729564, -0.001582186842362887, -0.01468462350958788, -0.0019017584684029032, -0.00017074549404672013, 0.0015070055426029683, 0.013943667988904451, -0.0029403662529787766, -0.013219920223609627, -0.012074788563666061, -0.018306435271245647, 1.567128779367266e-05, 0.012239285983429049, -0.0030735210971606364, 0.007126139966936229, 0.0006015526021725393, -0.0005968409954197895, -0.0014224010293464318, 0.012745274391286365, 0.003983685644341151, -0.013992218319845762, -0.022807069004492142, 0.0012673268230782853, -0.005257260541677411, -0.0013957700605118362, -0.003180044972524776, -0.020623329559966486, -0.00555020119890326, -0.010077465900995897, 0.023637340645145777, 0.0012406958542339197, -0.014604730603060112, -0.0070681664225409335, -0.0006501029331014152, -0.004271914694760959, 0.0017466842621081113, 0.013038215048493562, -0.01636237454627132, -0.0085328697084881, -0.0010229364968141752, 0.00843105743990602, -0.006855118671845517, -0.011329121436276068, 0.0203084695406881, -0.004218652757115748, -0.00869265552152676, 0.008510950346425794, -0.004484962445435947, 0.012905060204345453, -0.011888371781823892, 0.016074145495777792, 0.00041513582033303464, 0.006700044465564048, 0.023078090299596177, 0.004409781145693792, -0.01950482886886462, -0.0018484965306964085, -0.00011748355638285801, 0.0018265771686278853, -0.013672646693822621, 0.008617474221740196, 0.021826434764316005, -0.0026740565646266035, -0.0028871043153309017, 0.010614796884441446, -0.0032333069101859735, 0.008937045847764225, 0.010561534946747386, -0.0012892461851583548, -0.014551468665373157, -0.022940223848674002, -0.008399714864323116, -0.0024343778451125786, 0.007552235468325286, 0.0118664524197305, -0.009385060711261772, -0.00033053130707649814, -0.0029669972218142604, -0.005816510887269644, -0.014072111226362871, -0.014418313821233042, -0.013273182161267272, 0.0004950287268323805, -0.008958965209882486, -0.0065355470458206, -0.01873253077261694, -0.011861740812978638, -0.011195966592099538, -0.024218510352791434, 0.004196733395016139, 0.00017545710079058807, 0.014875751898158818, -0.0017686036242130498, -0.009997572994452142, -0.004804534071483069, 0.0039570546754994496, 0.00954955813100078, -0.004804534071491062, 0.007099508998117621, -0.003073521097169518, 0.010801213666277398, -0.007840464518770851, 0.009176724567313777, 0.0035309591741068402, 0.001826577168621668, -0.011622062093468166, -0.011994895657151616, 0.0015868984491058669, -0.008506238739673933, -0.0020615442813953777, -0.0010761984344780373, -0.0028604733464687726, -0.008106774207128353, -0.0048311650403238815, -0.019371674024665886, 0.0030782327039053925, 0.010747951728628635, 0.011440356918356542, 0.005341865054941053, -0.010317144620498375, 0.0033978043299507377, -0.009678001368443212, 0.004889138584759145, -0.0048844269780019545, -0.006482285108141639, -0.01188837178181501, 0.0032912804545848218, 0.02848417697327399, 0.0017733152309649114, -0.020809746341798885, -0.014737885447241084, 0.01639371712180715, -0.012554146002710098, 0.010668058822102644, 0.0041434714573505005, -0.0007033648707706064, -0.001182722309827966, 0.0074723425618143935, -0.009038858116386272, -0.004804534071483957, 0.020761196010872673, -0.006215975419787689, -0.005736617980734771, -0.0033398307855163623, -0.0048577960091718, -0.01207478856363764, -0.010610085277678927, -0.0046181172896408995, -0.006562178014666742, -0.0017952345930467573, 0.011174047229981277, 0.0009743861658826347, 0.0063538418706858835, 0.0024390894518475648, 0.007312556748783727, 0.006540258652570685, -0.006136082513297225, 0.022705256735894963, 0.0007613384151747837, -0.008373083895496514, 0.003823899831303379, 0.0010809100412334516, 0.0034510662676172643, 0.00393042370665686, 0.009735974912874923, 0.0015602674802686067, -0.008426345833155047, 0.009549558130992786, 0.015248585461873354, 0.007845176125530706, -0.01444494479006142, -0.0032333069101797562, 0.006966354153941978, 0.009229986504992738, -0.006402392201633411, 0.002305934607679916, 0.005128817304266953, -0.0011560913409782714, 0.004862507615897904, -0.015669969356488345, -0.014977564166771984, -0.02243423544081047, 0.005528281836804538, 0.011520249824893192, 0.004090209519658217, -0.010929656903717166, 0.00462282889636878, 0.006673413496741887, -0.013566122818462922, 0.016287193246451892, -0.005496939261216305, -0.011781847906453535, -0.008373083895479638, -0.0027539494711472656, -0.006508916076982452, 0.0015336365114206885, 0.005634805712150026, -0.010636716246523292, -0.0013957700604940726, -0.0028604733464732135, -0.002514270751629688, 0.012505595671790104, -0.009864418150295151, 0.0015336365114206885, -0.011195966592065787, 0.001799946199784408, 0.014822489960482521, -0.0038990811310855022, -0.003925712099922762, -0.002194699125565691, -0.000863150683773739, 0.008058223876199477, -0.002168068156748859, 0.0039836856443207225, -0.008719286490361355, 0.011786559513217831, 0.010614796884423683, 0.002652137202551863, 0.016154038402292237, 0.0013472197295856247, 0.004276626301534137, -0.009438322648920305, 0.007525604499498684, 0.0032912804545874863, -0.001076198434476261, -0.005816510887254545, -0.014072111226340667, -0.00983778718145345, -0.0024610088139480624, -0.002061544281396266, 0.008857152941262214, -0.0015555558735238506, -0.008799179396866919, 0.0014004816672672504, -0.013779170569174326, -0.0008631506837781799, 0.006273948964217624, 0.0036108520806319433, -0.006349130263970437, -0.0006501029330872043, -0.018626006897264347, 0.014742597053988504, -0.003339830785510145, 0.009895760725888714, 0.0016135294179440152, 0.0020129939504744954, 0.0035309591741121693, 0.013624096362883087, -0.013859063475656797, -0.018998840460954014, -0.000357162275917311, 0.013677358300559384, 0.009709343944028781, 0.002412458483001423, -0.004085497912922342, -0.0031267830348555847, -0.00749426192391045, -0.003925712099887235, -0.00586977282490686, 0.0029717088285527993, 0.008431057439917566, -0.010077465900978133, -0.0008631506837755154, -0.003286568847847171, -0.016841731985275388, 0.0029717088285625692, -0.010876394966067515, -0.00025063840058603404, -0.005523570230044683, 0.014742597053989392, -0.0015821868423442353, 0.008750629065920279, -0.0016887107176897231, 0.006700044465575594, 0.01929649272491396, -0.013406337005449132, 0.0008678622905353706, 0.007072878029288354, 0.006992985122769468, -0.0019017584683957978, 0.004809245678245588, -0.008612762615015868, -0.00586977282490686, -0.012687300846884852, -0.006508916076977123, 0.001986362981650558, -0.0003571622759119819, 0.016127407433451424, -0.00491105794685609, 0.0017999461998101651, -0.00565672507423276, -0.011595431124626465, -0.005203998604025983, 0.013996929926587853, -0.0029936281906657314, 0.013144738923834609, -0.00041042421358206127, -0.008932334241042561, 0.0004151358203277056, -0.00445833147663155, -0.0008365197149524661, -0.012314467283205843, -0.014657992540739961, -0.015004195135599474, -0.02248749737847966, 0.0318929409842541, 0.017405693937565303, -0.00887907230335827, 0.015142061586517208, 0.004249995332674672, 0.006673413496732117, 0.006992985122757922, 0.008590843252917146, 0.0023059346076541587, 0.00033524291381681337, -0.00211480621906901, 0.004782614709411881, -0.0015022939358555476, 0.006806568340911312, 0.008510950346418689, -0.013166658285951982, 0.0033179114234105356, -0.006801856734170109, -0.008346452926633496, -0.006562178014643649, -0.0028072114088049105, 0.00038850485147001734, -0.015430290636973432, 0.0024657204206972594, 0.019616064350934437, -0.0014224010293562017, 0.023131352237271585, 0.029256475069495025, 0.00371737595597299, 0.005714698618652925, -0.004218652757113972, -0.01535039773046698, -0.0130335034417568, 0.008990307785450291, 0.007525604499480032, 0.005874484431662275, -0.00528389151053954, -0.014311789945863573, -0.008772548428033211, -0.008452976802001189, -0.0017419726553793424, -0.00288710431531225, -0.006109451544466182, 0.0041701024261868724, 0.022359054141028345, -0.007946988394118115, 0.008164747751515655, -0.019451566931192765, -0.015004195135595921, -0.0022745920320872415, -0.006242606388631167, 0.0029717088285696747, -0.016948255860644856, 0.016580133903644878, -0.008958965209884262, 0.005448388930299863, -0.0012892461851636838, 0.007632128374828184, 0.002811923015551443, -0.0020881752502468487, 0.00033524291383457694, -0.0012093532786785488, 0.005688067649821882, -0.011542169186960827, -0.002594163658109494, 0.00526197214845503, -0.005363784417053985, -0.0035528785362304305, -0.014152004132893303, -0.005523570230052677, 0.008058223876205695, 0.013277893768019133, -0.003180044972509677, 0.00773865225018433, -0.004138759850592422, -0.009704632337300012, 0.003504328205282903, -0.015377028699307793, -0.018066756551701424, -0.0048311650403238815, -0.01764066105034523, -0.0008631506837870617, 0.0026255062336879575, 0.017538848781750715, -0.00658880898349512, 0.023371030956798933, 0.0005216596956518771, 0.023610709676314734, 0.009815867819356505, 0.00046839775800133765, -0.010317144620508145, 0.002572244296017878, 0.012239285983425496, 0.0005482906645006835, -0.020197234058571212, -0.004192021788280265, -0.009198643929388517, -0.012767193753382422, -0.014737885447227761, 0.01335778667449894, 0.009416403286826025, -0.003393092723193547, -0.012394360189700748, -0.006775225765346171, -0.00488442697798952, 0.02177317282663882, 0.009016938754289328, 0.007765283219010044, 0.018870397223530233, 0.020201945665340837, -0.008506238739673933, -0.005470308292387038, 0.0039304237066426495, -0.016974886829444813, -0.011835109844144043, 0.002971708828566122, 0.018151361064966842, -0.015350397730469645, 0.005368496023772096, 0.008537581315230192, 0.003957054675481686, -0.013406337005461566, -0.009038858116397819, 0.005261972148431049, 0.029256475069495913, 0.002439089451843124, 0.01205286920158155, -0.0013425081228470859, -0.010903025934879018, -0.010956287872566861, -0.0061627134821051754, -0.0012626152163148774, -0.010077465900982574, 0.005155448273083785, -0.015323766761641266, 0.003024970766259294, -0.008692655521514325, -0.01335307506777017, -0.004378438570112664, -0.0027006875334647518, -0.0022479610632410996, 0.00930987941148853, 0.011946345326233399, -1.0959681048916536e-05, -0.0027273185023037883, -0.00760078579924528, -0.0017952345930369873, 0.00795170000085843, 0.0048891385847316116, 0.013650727331722123, -0.002088175250232638, -0.0036061404738685354, -0.0029669972218302476, 0.004436412114521282, 0.0012140648854055414, 0.010801213666304932, -0.007174690297883757, -0.00461811728964534, -0.005203998604014437, 0.005847853462833008, -0.002780580439976532, -0.009464953617764671, 0.02539498458830458, -0.0007832577772761695, -0.024910915542528222, -0.011675324031140022, 0.005102186335421699, 0.01088110657278385, -0.01300687247290977, 0.012665381484789684, 0.0010010171347039076, -0.0017153416865367532, 0.018098099127321632, 0.017991575251950387, 0.0019331010439849194, 0.006700044465580923, 0.004383150176868966, 0.004622828896376774, 0.006220687026538663, -0.00552357023006067, 0.005634805712149138, -0.014631361571916024, 0.005554912805628476, -0.021022794092496078, 0.01237244082760025, 0.014076822833104075, 0.008031592907348895, -0.00041042421359183123, 0.00012219516313560774, -0.019691245650708566, 0.00326464948573868, 0.008218009689223038, -0.0028871043153086973, 0.005767960556323892, 0.005634805712143809, 0.007099508998138049, -0.0049909508533438895, 0.0029717088285687865, -0.0030202591594825634, 0.01626056227762085, -0.00541704635470186, 0.024116698084193366, -0.018759161741442654, 0.003664114018287812, -0.0020082823437297392, -0.008213298082478282, -0.012154681470180506, 0.004489674052222448, -0.008905703272207965, 0.002359196545339337, -0.019345043055838396, -0.008479607770829567, 0.022252530265689074, -0.018492852053082487, -0.0012093532786607852, 0.008271271626885124, -0.01178184790646064, -0.0036327714427191182, 0.005155448273104213, -0.00041042421357939673, 0.010108808476552156, -0.003472985629698222, -0.009944311056791832, -0.002168068156727543, -0.003712664349213135, 0.018284515909178012, 0.01202623823275939, 0.00779191418783487, 0.0021994107323211054, 0.00835116453339868, -6.422161873231857e-05, 0.005981008306999769, 0.0005216596956634234, 0.007632128374847724, -0.002168068156742642, -0.0014490319981677047, -0.010769871090714922, 0.003957054675491456, -0.00531052247936703, 0.0073658186864831166, -0.004058866944101958, 0.002545613327205487, -0.0072812141732141455, -0.013672646693810186, 0.004170102426170885, 0.0028119230155487784, 0.008404426471074977, 0.0024124584830049756, 0.009735974912848278, -0.0023811159074487165, 0.0023325655765145115, 0.014875751898168588, 0.003158125610426943, -0.0053904153858930215, -0.015403659668153047, 0.0023325655764985243, -0.01335307506778527, 0.008697367128268851, -0.01122259756089683, -9.085258754648606e-05, 0.003744006924794263, -0.012500884065041795, -0.001156091340991594, -0.01532376676164482, -0.009837787181451674, -0.014844409322583907, 0.011040892385808299, -0.012207943407849697, 0.014209977677276164, 0.01767200362592014, -0.008000250331784642, -0.009012227147549012, -0.0015289249046981368, 0.004116840488507023, -0.0009430435902926249, -0.0017153416865482995, -0.02400546260212888, -0.01537702869931401, 0.018391039784495966, -0.0012093532786856542, -0.011515538218134225, -0.00019737646289375022, -0.008852441334534333, -0.009145381991729984, -0.004138759850603968, -0.00230122300092539, 0.002971708828571451, -0.003153414003687516, 0.0055549128056417985, 0.004010316613161535, -0.023499474194222714, 0.002918446890878279, -0.0035262475673798477, 0.006939723185082514, 0.007498973530622344, 0.0030516017350548097, -0.0184928520530816, -0.005949665731441733, -0.005763248949584465, -0.009385060711257331, -0.0005435790577648092, 0.0029184468909004835, 0.003637483049446999, 0.009309879411482314, -0.00363277144271823, -0.01444494479006142, 0.0032912804545937036, 0.009735974912853607, 0.010348487196083944, -0.0021414371879178162, 0.003584221111793795, -0.008772548428041205, 0.0019064700751245667, -0.007867095487615217, -0.005070843759870769, -0.006562178014665854, -0.004112128881761379, 0.0009477551970382692, -0.003313199816697754, 0.013331155705692765, -0.011382383373937266, 0.0017733152309507005, -0.005763248949579136, -0.010610085277694914, -0.008133405175960284, 0.015994252589259794, -0.006828487703005592, -0.002674056564619498, -0.01119596659208888, 0.0013205887607457, -0.007600785799246168, 0.011147416261160892, 0.00020208806963761816, -0.0033930927231846653, 0.014076822833106739, 0.00022871903847221375, -0.007654047736935787, 0.02001552888348268, -0.009331798773580147, 0.008830521972424954, 0.003930423706663966, 0.005075555366600426, -0.008106774207138123, -0.02206140187708705, 0.007126139966949552, 0.018417670753342108, 0.020388362447173236, 0.009336510380324015, -0.013086765379413556, 0.00808485484504562, -0.007520892892746822, 0.01058816591560685, 0.011733297575535317, -6.422161871189047e-05, 0.0036641140183055754, -0.01119596659208888, -0.012367729220868817, -0.005603463136547582, 0.006939723185101165, -0.006455654139294609, 0.004489674052208237, -0.005150736666341693, -0.0031001520660041137, -0.008133405175975383, -0.011515538218105803, 0.0002020880696322891, 0.006779937372074052, -0.0004104242135847258, -0.004378438570109999, 0.01042838010257885, -0.018386328177720124, -0.014871040291422943, 0.0003086119449848823, -0.0019283894372259525, 0.0030249707662433067, -0.0179868636452154, 0.015834466776274425, -0.0054703082923781565, 0.003957054675506555, 0.006886461247431086, -0.011355752405111552, -0.010024203963332035, -0.022727176097999013, 0.004356519208042364, -0.005843141856091805, -0.00496431988451107, -0.006562178014656084, 0.0123191788899355, -0.01092965690373049, 0.0006281835710044703, -0.0034463546608742845, -0.001182722309818196, 0.004463043083362983, -0.007760571612269729, 0.019056814005400824, 0.0019597320128070805, 0.007152770935802799, 0.003211387548076594, -0.004911057946845432, 0.006540258652571573, -0.0054436773235710945, 0.007072878029276808, -0.002833842377643059, -0.016202588733224665, 0.00776528321903136, -0.005044212790992653, -0.006109451544435096, -0.004458331476628885, 0.011786559513212502, -0.00991768008797056, -0.00160881781118416, -0.003419723692020149, -0.004351807601278068, 0.008191378720377784, 0.005261972148438154, 0.013357786674525585, 0.0011874339165593994, 0.0072326638422994805, -0.013965587351028041, 0.02273188770471002, -0.01630911260855683, -0.005203998604030424, -0.0034996165985319294, 0.010827844635117323, 0.006859830278604484, 0.0040103166131677526, 0.0075788664371509995, -0.0012359842475024863, -0.004671379227307426, 0.00313149464156659, -0.00144903199818458, -0.0004636861512734569, -0.013619384756135666, -0.010903025934900334, -0.014072111226327344, 0.000841231321681235, 0.014822489960501173, -0.014311789945882225, 0.0037706378936475105, -0.012713931815734547, -0.005230629572887224, -0.002407746876268213, 0.010108808476568143, -0.021981508970562835, 0.013198000861522452, -0.008612762615013203, -0.009598108461954524, -0.001901758468381587, 0.0006281835710231221, 0.0008944932593877297, -0.003792557255732021, 0.001240695854255236, 0.002332565576487866, 0.0016135294179449033, -0.002381115907446052, 0.006833199309768112, 0.01178655951320895, 0.0011075410100582772, -0.01207478856366162, -0.003925712099891676, -0.005869772824903308, -0.0016088178111823837, -0.0016887107177199212, -0.006775225765334625, 0.019056814005384837, -0.0009430435902979539, -0.0006234719642428388, 0.015142061586542077, -0.0014756629670085175, -0.012500884065040019, -0.015430290636965438, -0.0020082823437261865, 0.006114163151170082, 0.019403016600266554, -0.0038724501622393603, 0.01732580103107839, -0.005310522479372359, -0.002594163658110382, -0.008026881300631672, 0.004542935989859664, -0.0018218655618555957, 0.014662704147491823, 0.001879839106269543, -0.00022400743172923399, -0.009464953617745131, 0.015861097745088593, -0.00882581036569352, -0.0024610088139329633, -0.0015289249046865905, 0.011413725949508624, 0.003744006924788046, 0.028537438910942292, -0.0019017584683735933, 0.019589433382113164, -0.010263882682823855, -0.0035528785361815807, -0.0032599378790179045, -0.006668701890000683, -0.0039789740375866245, 0.001187433916556735, -0.0024610088139329633, 0.0006814455086807669, 0.01618066937112861, 0.0007879693840342483, -0.001022936496803517, -0.009118751022886507, -0.00022400743173989213, 0.002092886856977394, -0.017720553956845464, 0.0031581256104349364, -0.0011560913409702778, -0.0009963055279724742, -0.01396558735101383, 0.00092112422819568, -0.0004636861512530288, 0.015115430617701264, -0.0003837932447465775, 0.013384417643368174, 0.0026255062337039448, 0.006034270244684059, -0.017374351361993057, -0.011249228529758959, -0.017241196517818302, -0.006748594796516905, -0.0008631506838154834, -0.016628684234594182, -0.01921188821166009, -0.0028871043153300135, 0.0033179114234362928, 0.006726675434411966, -0.006721963827675204, -0.02043691277811277, 0.002891815922047236, 0.004969031491253162, 0.007525604499493355, -0.004964319884488866, -0.007334476110886001, -0.006295868326300358, -0.0010229364968168397, 0.009762605881701525, 0.0014537436049240071, -0.016761839078777818, 0.0022526726700160538, -0.006748594796480489, -0.00906548908522442, 0.00041513582034014007, 0.010348487196093714, -0.01306013441057896, 0.0020662558881694437, -0.008399714864323116, -0.005630094105416816, -0.0026207946269485305, -0.006029558637928645, -0.005763248949579136, -0.009518215555411658, 0.004383150176852979, -0.0028604733464785426, 0.0023325655765003006, -0.006375761232795263, -0.0037925572557311327, -0.013166658285932442, -0.006029558637942856, 0.003131494641571919, -0.003686033380385645, 0.0008678622905389233, -0.005816510887263426, 0.010534903977927002, -0.011142704654420577, 0.012478964702935968, 0.005821222494001077, -0.008666024552691276, -0.008186667113649015, 0.008883783910111909, -0.009811156212626848, 0.004170102426177991, -0.0163890055150695, 0.006886461247430198, -0.010210620745159993, 0.0019064700751387775, -0.017960232676381693, 0.017885051376597794, 0.01743232490639901, 0.010907737541627327, 0.008910414878939399, -0.008000250331789971, -0.007733940643428916, -0.0007832577772717286, 0.011466987887185809, 0.011866452419703855, -0.006535547045809054, 0.014076822833084535, 0.002998339797398053, 4.230225662826825e-05, -0.0005435790577559274, -0.00310015206601566, -0.003206675941342496, -0.0200907101832426, -0.00941169168009992, -0.0036594024115474966, 0.0002819809761520631, -0.016948255860636863, -0.010663347215357888, -0.0059496657314275225, 0.00017545710082078614, -0.007654047736945557, 0.007871807094335104, 0.004036947582003236, -0.009385060711241344, -0.00027726936940375424, 0.004542935989884533, 0.005155448273108654, -0.0034463546608680673, 0.005847853462824126, -0.010476930433513054, -0.008000250331796188, -0.006855118671841076, 0.005634805712144697, -0.0033131998166915366, 0.0062473179953643765, -0.009385060711237792, 0.011839821450884358, -0.0013691390916559243, -0.004298545663584896, 0.008324533564562309, -0.0030468901283260408, 0.0072859257799633426, 0.017432324906396346, -0.0025142707516332408, 0.002705399140204179, 0.0031581256104207256, -0.0011294603721321295, 0.012692012453620727, 0.00014882613196931516, 0.011200678198837188, 0.00432988823919267, 0.01274527439130324, -0.0027805804399818612, -0.004112128881767596, -0.0038724501622242613, -0.002594163658109494, 0.02148023216942896, -1.095968104092293e-05, -0.014231897039356234, 0.010534903977919896, 0.01887039722353645, -0.0028604733464634435, 0.006939723185097613, 0.01282516729780614, -0.007920357425284408, 0.015514895150226415, 0.009576189099849586, 0.002012993950481601, 0.0047559837405630745, -0.006215975419777919, -0.025097332324369503, -0.018146649458217645, -0.005017581822188255, -0.01436505188355408, -0.0021946991255834547, -0.013033503441740812, 0.002305934607671034, 0.00046839775799334404, -0.010503561402365413, 0.0123191788899506, 0.010082177507712231, 0.022758518673572148, -0.020170603089757044, 0.0011608029477381265, -0.005097474728691154, 0.0045695669587217935, -0.000916412621466911, -0.010450299464696222, 0.019269861756070483, -0.0025142707516110363, 0.013224631830354383, -0.009624739430763363, -0.0003571622759253046, -0.0056567250742292075, 0.008111485813884656, -0.007840464518763746, -0.0017153416865465232, 0.0069663541539233265, 0.006247317995366153, 0.0004950287268323805, 0.016154038402278914, 0.0015868984490987614, -0.0015555558735318442, -0.010556823340021282, -0.017321089424309655, -0.018918947554464438, 0.008803891003588582, -0.004591486320813409, -0.004218652757132624, 0.009656082006353373, -0.014125373164032062, 0.00888378391010658, -0.005070843759843235, 0.010375118164927422, 0.005315234086118892, -0.00919864392940184, -0.005683356043067356, -0.002540901720441191, -0.026135940108984457, 0.0011341719788928728, 0.009576189099870014, 0.005528281836804538, -0.026029416233607883, -0.0018218655618760238, -0.0048577960091655825, 0.006540258652561803, -0.004405069538934825, 0.0052619721484443716, -0.007254583204366227, 0.005554912805624923, 0.009043569723138134, -0.006695332858835279, 0.007632128374837954, -0.0018218655618662538, -0.02642888076614547, 0.0026521372025447576, 0.0045429359898703225, -0.018865685616781036, 0.007498973530652542, -0.009118751022897165, 0.0050222934289188, 0.011546880793695813, -0.018599375928434192, 0.0062206870265280045, 0.007312556748821031, 0.0019064700751227903, -0.007254583204391096, 0.009096831660799332, -0.009944311056825583, -0.009917680087956349, 0.009389772317994094, 0.005182079241936144, -0.00808014323829287, 0.022678625767076355, 0.005448388930284764, 0.001240695854249907, 0.004303257270342975, 0.0022260417011539246, 0.003584221111774255, -0.002114806219075227, 0.010694689790949674, -0.0037659262868876553, -0.012607407940394388, -0.007520892892745934, 0.009522927162149308, -0.006988273516018495, 0.021373708294097682, -0.010876394966046199, -0.0052039986040464115, -0.008772548428040317, -0.004538224383114908, 0.002758661077884028, 0.002332565576516288, -0.02155541346922263, -0.0021414371879089344, 0.003610852080611515, 0.0030516017350734614, 0.016154038402283355, 0.0053152340861073455, 0.013331155705690101, -0.0052306295728632435, -0.011355752405108, -0.019318412087002912, 0.008191378720392883, -0.011755216937625157, -0.0063224992951349535, 0.017086122311550156, 0.008164747751539636, -0.003499616598549693, 0.0012673268230809498, 0.010375118164923869, -0.011329121436276068, 0.00835116453341822, 0.005421757961465268, 0.010960999479324052, -0.0016887107177154803, 0.0024923513895238614, -0.008266560020122604, -0.00027726936940375424, -0.019052102398656956, 0.011067523354639341, -0.009731263306095528, 0.0060342702446885, 0.012239285983439707, 0.01407682283309697, 0.009043569723131029, -0.0027539494711321666, 0.0033179114234256346, -0.004245283725937021, -0.011808478875288131, 0.0055016508679539555, -0.0064556541393034905, 0.008377795502235053, 0.015461633212555448, 0.015328478368378917, -0.012500884064997386, -0.021582044438042125, -0.015536814512307373, 0.014423025427952929, -0.0057898799183977445, -0.0073344761109011, -0.0006234719642641551, 0.0016667913555989955, 0.0041701024261771025, -0.0030468901283500216, -0.017800446863358133, -0.01596291001371153, -0.011222597560921699, -0.011142704654407254, 0.0013738506984202203, 0.0009477551970347164, -0.009118751022882066, -0.017800446863365238, 0.014396394459108564, 0.0018532081374642573, 0.015594788056731979, 0.008697367128273292, -0.025310380075054262, 0.004329888239177571, -0.006908380609531584, -0.008080143238279547, -0.008639393583857569, 0.007552235468346602, 0.009922391694719757, -0.005550201198910365, 0.017352431999899665, -1.0959681060462856e-05, -0.007094797391348884, 0.009096831660794003, 0.0031314946416038936, -0.008000250331797076, 0.0024657204206768313, -0.0018484965307079548, -0.004032235975223841, -0.019691245650710343, 0.0021994107323264345, 0.01548826418140603, -0.009784525243789588, -0.01239436018968565, -0.00515073666635768, 0.005102186335433245, -0.003393092723189106, -0.00642902317048577, -0.0016354487800178674, 0.0092832484426566, -0.012580776971534924, -0.00051694808892222, -0.009225274898227553, 0.004569566958722682, 0.001799946199769309, 0.000441766789161413, -0.002753949471133943, 0.02669990206126993, -0.0028072114087995814, 0.007951700000857542, -0.0021946991255763493, 0.0008944932593637489, -0.011968264688331232, -0.009331798773582811, 0.00472935277171338, 0.003930423706647979, -0.0040588669440868586, -0.002247961063239323, 0.0005482906644944663, 0.01793831331428475, 0.007392449655313271, 0.0009743861658799702, -0.008479607770834896, 0.01136046401184121, -0.006801856734163003, 0.011813190482047986, -0.0005169480889151146, -0.007334476110883337, 0.013810513144743908, -0.0004903171200822953, -0.01822654236472321, -0.012101419532502433, 0.013650727331729229, 0.00451630502103928, 0.0009743861658666475, 0.018657349472846363, -0.011249228529742084, -0.011089442716735398, 0.01873724237935992, -0.0147911473848934, 0.026060758809201445, 0.00472935277171338, 0.006700044465584476, -0.02248749737845568, 0.0013205887607226074, 0.006806568340922858, -0.008905703272212406, 0.016207300339952546, -0.020783115372966954, -0.005523570230050012, -0.003393092723174007, -0.017108041673629337, 0.00896367681661836, -0.004192021788272271, 0.002785292046695531, -0.001369139091679017, 0.0101620704142098, -0.0020349133125714403, -0.007574154830424007, 0.011546880793710912, 9.556419429124219e-05, 0.01596762162044474, 0.0011608029477399029, -0.0022213300944384784, -0.004644748258488818, 0.010694689790933687, -0.013086765379443754, 0.004676090834044189, -0.0030735210971712945, 0.019296492724915737, -0.003606140473862318, -0.00831982195781844, 0.010028915570054586, 0.00915009359847474, 0.00017545710079147625, -0.007467630955086513, 0.002572244296025872, 0.0004950287268332687, -0.016735208109922795, -0.0020881752502273088, 0.003823899831323807, -0.012474253096206311, 0.0061674250888543725, 0.00036187388265229714, -0.012660669878065356, 0.002492351389501657, 0.0039037927378098303, -0.00898559617871797, -0.0010495674656416654, -0.012154681470175177, 0.01996226694580283, -0.019424935962335077, -0.015297135792808447, -0.013006872472921316, -0.010157358807482808, -0.004085497912921454, -0.0021414371879053817, -0.008160036144806426, -0.00786709548759923, 0.0044630430833798584, -0.0061893444509371065, 0.014423025427968916, 0.009176724567308447, -0.010077465900956817, -0.00030390033822591533, 0.00387716176899211, -0.009731263306101745, 0.010002284601208444, -0.005417046354723176, 0.0056081747433154305, 0.003957054675481686, 0.0064869967148988295, -0.004138759850600415, -0.004245283725955673, -0.010823133028359244, -0.0004370551824033342, -0.0011560913409898177, 0.0064071038083595155, -0.0029403662529823293, -0.005709987011914386, -0.007813833549930926, -0.012420991158528238, -0.01087639496606041, 0.004915769553591964, 0.0028385539843798213, -0.0021946991256021064, -0.012793824722241887, 0.007445711592991344, -0.0050708437598459, -0.0058964037937494496, 0.0043831501768556436, -0.007440999986230601, -0.011755216937649138, -0.011302490467419268, 0.005155448273101548, -0.026641928516856872, -0.004271914694763623, 0.015435002243709306, 0.0020662558881587856, 0.0055016508679734955, 0.008351164533405786, 0.002172779763507826, -0.0021680681567550764, -0.013353075067802145, 0.008937045847783764, 0.01237244082759581, 0.001906470075126343, -0.0041121288817747015, 0.004276626301507491, -0.005843141856076706, -0.0021680681567497473, 0.011227309167674449, 0.007818545156678347, 0.004063578550811187, -0.01942493596232886, -0.0036860333803989676, 0.003104863672749758, -0.0062159754197734784, -0.0026474255957902315, 0.004276626301509268, -0.011409014342764756, -0.00805351226946538, -0.010210620745141341, -0.010982918841397904, 0.007791914187859739, 0.004729352771735584, -0.004644748258479048, 0.015142061586522537, 0.0007080764775233561, 0.005821222493986866, 0.01567468096326241, 0.0013205887607323774, 0.0053951269926271195, -0.017960232676385246, 0.004755983740558634, 0.010774582697473889, 0.0005216596956634234, 0.017192646186884097, -0.009491584586601043, -0.003526247567371854, -0.018732530772624045, -0.016575422296921438, 0.0032380185169413878, 0.005821222493991307, -0.004378438570098453, 0.009416403286830466, 0.013144738923849708, -0.021395627656206173, -0.003446354660870732, 0.0033445423922815465, 0.0005216596956651998, -0.00866602455269394, 0.018364408815673805, -0.006988273516036259, 0.008191378720382225, 0.010481642040278238, 0.004409781145680469, -0.010636716246525069, 0.004383150176862749, 0.010854475603965241, -0.002647425595773356, 0.01791168234544749, 0.0021994107323228818, 0.0031314946415879064, 0.01082784463513331, -0.016602053265749817, -0.01934504305582596, 0.015248585461869801, 0.012079500170408153, -0.0031267830348546966, -0.0032066759413389434, 0.001933101043982255, 0.013277893768031568, 0.010135439445371652, 0.011946345326236063, 0.005208710210769851, -0.00251427075161903, 0.012265916952278744, -0.005363784417033557, -0.02123584184317817, 0.0023591965453526598, -0.0017153416865376414, 0.00046839775799334404, 0.007392449655305278, -0.008213298082468512, 0.015248585461860031, -0.006109451544449307, 0.015195323524183735, -0.00578987991841462, -0.019984186307905993, 0.01993563597696557, -0.014950933197916072, 0.01924323078724477, -0.0015289249046830378, 0.006140794120018889, -0.001768603624204168, -0.0004903171200894008, 0.0031314946415585965, 0.0025456133272019343, -0.011888371781813234, -0.018785792710313665, 0.0005216596956794106, -0.011116073685558447, 0.003451066267619929, -0.008479607770826902, 0.0018798391062926356, -0.002247961063263304, 0.011600142731380991, -0.008399714864330221, 0.009762605881696196, -0.009358429742404972, -0.015163980948603495, -0.011542169186979478, -0.00011748355639262797, -0.002807211408812016, 0.006753306403246562, -0.004644748258473719, -0.0011560913409942586, 0.00371737595597299, -0.0019017584683913569, 0.01807146815846128, -0.004724641164982835, -0.0028604733464829835, 0.001826577168616339, 0.000681445508676326, -0.008000250331774872, -0.012287836314340161, 0.014476287365629226, -0.010982918841381029, -0.008106774207117695, 0.0023325655765109587, 0.01993563597697179, 0.0055549128056222585, 0.01349094151871455, 0.011546880793712688, 0.0012673268230489754, 0.005794591525159376, 0.014556180272154329, -0.005390415385877034, 0.009815867819351176, 0.005927746369335907, 0.002945077859714651, 0.0017999461998128297, 0.020468255353701004, 0.01024196332073224, -0.015510183543494982, -0.0044317005077942895, 0.010534903977925225, -0.015270504823960529, 0.008537581315243514, -0.008080143238306192, 0.0020662558881330284, -0.011302490467434367, -0.0007566268084380212, 0.007525604499481808, 0.018737242379373242, -0.006508916076986004, -0.020463543746957136, -0.00014411452526186252, 0.009363141349160387, -0.0076274167680798755, 0.008191378720370679, -0.0016887107177003813, 0.006593520590245205, 0.007072878029278584, 0.021613387013633023, 0.00041513582032948193, 0.0034510662676145998, 0.006566889621407057, 0.01775189653241327, -0.025976154295952902, -0.00017074549406714823, 0.005475019899138012, 0.009682712975194185, 0.0011874339165833803, -0.0011028294032904284, 0.0032912804545892627, 0.004516305021033951, -0.002247961063258863, -0.006935011578367067, 0.016047514526937867, 0.004303257270343863, -0.007467630955074078, -0.0008098887461205351, 0.005874484431662275, -0.00914538199172732, -0.004884426978006395, 0.010694689790945233, 0.006779937372076716, 0.001080910041210359, -0.0032066759413629242, -0.00014411452523077628, -0.011409014342781632, -0.0024610088139533914, 0.0019331010439715968, -0.007440999986242147, 0.01365072733169903, -0.004032235975262921, -0.008106774207132794, 0.010881106572804278, 0.01080121366628628, 0.0025456133271717363, 0.009416403286825137, 0.0046760908340433005, 0.009016938754306203, -0.0124742530961921, 0.002359196545343778, -0.014524837696559878, 0.0067533064032705425, -0.005736617980760528, -0.005630094105374184, 0.0013472197295811839, 0.015221954493052081, -0.027281071768903153, 0.021160660543422694, -0.022727176097983914, -0.015749862263010783, -0.013512860880810607, -0.003952343068745812, 0.0036641140183117926, -0.012500884065041795, -0.03090288353059023, 0.002412458483006752, 0.0015070055426074092, -0.00602955863793575, -0.019717876619551156, 0.004090209519663546, -0.004564855351961938, 0.0035842211117778078, -0.0170547797359637, -0.008905703272217735, -0.0011028294033312847, 0.011893083388572201, 0.008963676816631683, 0.007685390312506257, 0.00920335553613949, -0.007174690297888198, -0.0041653908194083655, 0.0002020880696447236, 0.00347769723645186, -0.0055768321677343025, 0.0077652832189727405, -0.011835109844137826, 0.005741329587509725, -0.0004370551824202096, -0.00823992905131199, -0.0027273185023011237, -0.009864418150293375, -0.004058866944085082, -0.024990808449042667, -6.422161872254861e-05, -0.003446354660866291, 0.010508273009095959, 0.011466987887171598, -0.0029669972218400176, 0.008963676816615695, -0.010397037527007491, -0.015057457073280212, -0.011542169186947504, -0.013752539600333513, 0.00014882613195776884, -0.004085497912921454, -0.015803124200689744, -0.006615439952319058, 0.010162070414238222, -0.004804534071486621, 0.0016401603867883807, -0.00805351226946982, -0.01564333838766796, 0.0011075410100431782, 0.003717375955948121, 0.013970298957755922, -0.004112128881772925, 0.013011584079680283, -0.024617974885327243, 0.0027053991402086197, -0.008452976802014511, -0.00839971486431157, 0.0017200532932921675, -0.019291781118155882, 0.010082177507729106, 0.013038215048466029, -0.013353075067781717, 0.007046247060422672, -0.002567532689257135, 0.004649459865232686, -0.003686033380386533, -0.0019550204060490017, -0.009811156212617078, 0.0037173759559738784, 0.0014004816672539278, 0.0043565192080388115, 0.004036947581982808, -0.0036327714427262237, -0.0037925572557302445, 0.0040902095196670984, -0.021289103780850027, 0.006060901213522207, 0.0038505308001530736, -0.0062426063886205085, 0.009043569723142575, -0.0012359842474838345, -0.014072111226379747, 0.00816474775155207, -0.003206675941341608, 0.005661436680964194, 0.010588165915603298, -0.008239929051309325, -0.015270504823965858, 0.004143471457345171, -0.013859063475676336, -0.006322499295123407, 0.01082784463513864, 0.005874484431657834, -0.008559500677350229, -0.007068166422546263, 9.556419428324858e-05, -0.012207943407830157, -0.0032865688478382893, 0.0012939577919111045, -0.0012892461851619075, -0.011755216937645585, 0.00451630502105882, 0.010801213666283616, -0.0019816513748835973, -0.004777903102627157, 0.017086122311542162, -0.007467630955077631, 0.008937045847776659, -0.00038379324474835386, -0.008586131646173278, -0.012980241504079615, -0.012660669878051145, 0.001879839106304182, 0.001054279072373987, 0.004249995332664902, 0.012425702765280988, 0.006913092216251471, -0.010317144620494823, -0.004724641164979282, -0.005044212791021074, 0.007605497405984707, -0.001955020406074759, 0.0028119230155443375, 0.018151361064960625, -0.015270504823956976, -0.0027805804399676504, -0.006935011578353745, 0.0033179114234238583, -0.008266560020143032, -0.0052039986040419706, -0.001289246185169901, -0.0037126643492246814, -0.014524837696552773, -0.0004903171200991707, 0.003344542392254901, -0.01596291001368666, 0.007445711592967363, 0.01386377508241754, 0.017751896532439027, -0.0009696745591165623, -0.011888371781803464, 0.001746684262101894, -0.0013425081228346514, -0.021528782500362276, 0.003051601735085896, 0.003717375955976543, 0.009416403286839348, -0.004405069538960582, -0.0002506384005718232, -0.008745917459193286, 0.014130084770769713, -0.005203998604033089, 0.007046247060460864, -0.012101419532485558, 0.005208710210740541, 0.0009743861658728648, 0.0006281835710266748, -0.0003837932447465775, 0.0005216596956607589, 0.0035575901429396595, -0.0019550204060720944, 0.01021533235190386, 0.008324533564554315, 0.010508273009094182, -0.014604730603081428, -0.007361107079723261, -0.00786709548761877, -0.002753949471128614, -0.001449031998179251, 0.015275216430687522, -0.007574154830409796, -0.0036327714427164537, -0.005709987011896622, 9.556419430190033e-05, 0.0026787681713553724, -0.004138759850604856, -0.007760571612271505, -0.0019017584683655997, -0.0026474255957857906, -0.0005702100266038457, -0.012261205345506454, 0.0022526726700142774, 0.01021533235190386, 0.004090209519671539, -0.0005968409954411058, 0.0002020880696278482, -0.00038379324474391296, 0.0108544756039608, 0.0053152340861224445, 0.007552235468320845, -0.009544846524271122, 0.017192646186886762, -0.009624739430761586, -0.0005169480888955746, -0.005230629572849921, -0.0074942619239219965, 0.007232663842305698, 0.003371173361120583, 0.0027586610778698173, -0.005363784417018458, -0.017267827486612042, -0.00597629670025146, 0.006886461247442632, 0.018417670753327897, -0.008186667113641022, -0.0038724501622464658, -0.018705899803780568, -0.003286568847836513, -0.005789879918409291, -0.0011028294033197383, -0.002008282343759049, -0.00552357023007044, -0.002461008813941845, -0.004271914694774281, -0.018199911395901047, 0.008297902595730378, 0.003744006924797816, -0.008426345833169258, 0.008191378720387554, 0.007419080624128327, 0.003024970766229096, -0.002567532689288221, 0.0044097811456920155, 0.0014271126360902997, -0.0027539494711072976, 0.015008906742346007, -0.007041535453694792, 0.011946345326246721, -0.002780580439970315, 0.001853208137463369, 0.0016401603867679526, 0.003903792737808942, 0.011440356918350325, -0.005789879918409291, 0.008164747751554735, -0.008026881300617461, 0.0014803745737488327, -0.0041653908194208, -0.004591486320816962, -0.007813833549925597, -0.008559500677352005, 0.002066255888160562, 0.01207950017040993, -0.0032066759413433843, 0.005128817304282052, -0.00810677420711059, 0.0081647477515423, 0.006566889621411498, -0.0030202591594843398, -0.007600785799232845, 0.01508879964886134, -0.009811156212641059, -0.0029403662529823293, -0.004431700507783631, -0.010929656903731377, -0.01021062074516177, 0.004196733395027685, 0.002412458483012969, -0.008479607770835784, 0.007765283218994057, -0.0023544849386061273, -0.010183989776316515, -0.005869772824925512, 0.0028119230155478903, 0.003317911423418529, 0.004090209519680421, -0.007361107079722373, -0.0025142707516021545, -0.0007832577772788341, -0.005869772824921071, 0.00901693875431242, 0.0032646494857511144, 0.0024657204206892658, 0.011706666606693616, -0.013725908631486483, 0.014156715739614079, 0.012079500170412594, 0.002811923015561213, 0.0008412313216972223, -0.00195502040606943, 0.013544203456375747, 0.01716601521805572, 0.0010809100412139117, 6.893322546996927e-05, -0.012314467283190744, -0.0006501029331049679, -0.016096064857888948, 0.0030516017350601388, 0.013996929926585189, 0.00030861194498399414, 0.0044364121145283875, 0.00992239169470377, 0.0040369475820041245, 0.002359196545334008, 0.002252672669986744, 0.000228719038478431, -0.0045914863208089685, 0.013224631830340172, -0.00014411452521567725, 0.018337777846797465, -0.006828487703002928, 0.00677993737208471, -0.0009164126214686874, 0.0005749216333414964, -0.009065489085206657, -0.005683356043065579, 0.0010542790723846451, -0.008719286490333822, -0.006695332858842384, -0.020516805684598793, 0.013064846017329934, -0.0004636861512814505, -0.0073877380485551924, 0.001240695854215268, -0.002993628190658626, 0.02177317282663349, -0.024857653604867913, 0.015035537711156621, -0.00286047334646522, 0.0007347074463623926, -0.004804534071508826, 0.007791914187860627, 0.014769228022835534, -0.008852441334541439, -0.007574154830428448, 0.003530959174114834, 0.015248585461873354, 0.010028915570046593, 0.015062168680006316, 0.016633395841314957, 0.007445711592993121, -0.004911057946837438, 0.0032646494857768715, -0.003153414003679522, 0.003211387548070377, -0.0022213300944029513, -0.02224781865892389, 0.0063804728395524535, -0.010050834932147978, 0.007658759343652122, 0.014396394459137873, 0.008590843252911817, 0.015861097745108133, 0.009203355536121727, -0.009704632337275143, -0.0022479610632570868, -0.010903025934887012, -0.013912325413325988, 0.03484897852502655, -0.0038990811310863904, -0.00038379324474391296, 0.0025189823583664506, 0.009815867819382262, -0.015696600325335375, -0.013219920223606962, 0.011999607263909695, -0.012261205345515336, 0.004489674052190473, -0.011462276280443717, 0.00033524291382658333, 0.00440978114570445, 0.01948290950676057, 0.0043831501768654135, 0.0015336365114206885, 0.003184756579229564, 0.0067533064032501144, 0.0003618738826451917, -0.028799036992542604, -0.007014904484883289, -0.010210620745153776, -3.759064986752492e-05, -0.0024610088139436215, 0.007951700000855766, 0.004542935989865882, 0.01053490397795187, 0.00946966522450321, -0.004245283725929028, -0.014311789945868902, 0.0005482906645024599, 0.009656082006339162, -0.002274592032105005, 0.008830521972433836, -0.00834645292665126, 0.014449656396802624, 0.011333833043011055, -0.007201321266702365, 0.004143471457328296, 0.0037173759559347985, -0.006349130263972214, -0.0008098887461169824, 0.008058223876197701, 0.017112753280382087, 0.007951700000877082, 0.00688646124743908, -0.0016620797488791084, -0.005949665731421305, -0.0023544849385963573, -0.007121428360201243, -0.001209353278659897, -0.007733940643430692, -0.018785792710304783, 0.004862507615921885, 0.009496296193336029, -0.0034996165985319294, -0.00038379324475368293, -0.00432517663245946, -0.019744507588375093, -0.0030202591594816752, -0.01274056278455582, -0.017614030081520404, -0.002807211408817345, 0.011200678198828307, -0.007733940643424475, -0.0057366179807543105, -0.014098742195190361, -0.00011748355636065355, -0.003686033380375875, -0.0010761984344771491, 0.023797126458165785, -0.005576832167728973, 0.01671328874785516, -0.006189344450939771, -0.0020082823437412856, 0.0005482906644989072, 0.0018798391063050701, -0.005869772824922848, -0.009544846524275563, -0.013113396348269468, 0.0023591965453260144, 0.0009743861658764175, -0.011648693062275228, 0.009096831660797555, -0.009544846524275563, 0.014156715739590098, -0.004138759850595086, -0.012021526625995982, -0.010024203963304501, -0.005603463136552023, 0.02014868372766987, 0.0006548145398586058, 0.008111485813881991, -0.0004903171200938417, 0.01543500224371197, -0.00363277144270846, 0.006407103808375503, -0.004192021788282929, -0.004112128881762267, -0.0010761984344753728, 0.004329888239199775, 0.007445711592977133, 0.0020396249193179727, -0.009411691680069723, -0.00017074549406626005, 0.006806568340940622, 0.004542935989884533, 0.005741329587494626, 0.0054750198991220245, -0.009331798773585476, 0.008191378720388443, 0.014050191864240169, -0.010024203963325817, -0.017294458455480388, 0.010934368510461923, 0.002998339797388283, -0.003286568847857829, 0.0027586610778769227, -0.008080143238300863, 0.004489674052194026, -0.009651370399603287, -0.019131995305163407, -0.006935011578354633, 0.006034270244686724, 0.023717233551664663, 0.0072859257799633426, -0.012314467283201402, -0.015510183543485212, 0.011280571105339199, -0.006482285108150521, -0.013938956382168577, 0.016367086152969, 0.019216599818408397, -0.001156091340981824, 0.014050191864252604, 0.007206032873463997, 0.0029184468908942662, 0.0012939577918977818, -0.029145239587401228, 0.007285925779947355, 0.015967621620426975, -0.005603463136565345, -0.0029403662529672303, 0.018177992033804102, 0.00310486367272933, 0.005288603117276303, 4.2302256649584535e-05, 0.01604751452694586, 0.005981008307008651, 0.001001017134726112, 0.0028918159220632234, 0.011174047229986606, -0.01415200413286044, -0.004112128881772037, -0.00025063840057359954, 0.002785292046704413, 0.0031314946415896827, 0.0017999461997915134, 0.018364408815649824, -0.010610085277691361, -0.0015555558735140806, -0.010503561402348538, 0.0015868984491040905, -0.0033131998166853194, 0.00536849602378453, 0.009469665224489887, -0.005097474728687601, 0.0008146003528750612, -0.0008631506837861735, -0.005257260541687181, 0.014369763490286402, 0.009256617473816675, -0.026721821423357106, -0.011275859498604213, 0.006966354153940202, 0.003238018516933394, 0.013597465394038721, -0.01295361053526456, -0.010024203963311606, -0.0009963055279555988, -0.020170603089735728, -0.004058866944090411, -0.0020615442813793905, -0.008373083895495625, 0.011893083388535786, -0.01029051365166378, 0.006194056057704067, -0.002913735284145069, -0.0013158771540000558, -0.004325176632465677, -0.004724641164976617, -0.0004370551824157687, -0.005630094105400829, 0.005261972148424832, 0.0022260417011530365, 0.01895029013005356, 0.0067000444655827, -0.008026881300616573, 0.010481642040256034, -0.0019816513749049136, 0.0027852920467221765, 0.0033978043299258687, 0.010508273009097735, 0.0037706378936332996, 0.011600142731354346, -0.0002772693694010897, 0.01666002681017087, -0.01015735880750146, -0.00214143718790627, 0.008883783910124343, -0.013060134410586954, 0.020494886322519612, -0.011568800155789205, -0.006349130263947345, -0.005789879918440377, 0.008910414878958939, 0.021879696702004736, -0.0025941636581308103, 0.004249995332683554, 0.0010010171347127894, 0.008244640658054081, 0.000841231321691005, 0.0003086119449813296, 0.005741329587485744, -0.00786709548760367, 0.012319178889918625, 0.005208710210763634, 0.00952292716216352, 0.0002020880696322891, -0.0032066759413336143, 0.016526871965986345, -6.422161871544319e-05, -0.01580312420069685, -0.009491584586606372, 0.004596197927553725, 0.013091476986168082, -0.009012227147564111, -0.01220794340784881, 0.0015070055426180673, -0.009651370399594406, -0.007547523861582306, 0.0019331010439733731, 0.010774582697449908, 0.006167425088839273, 0.0070196160916067285, -0.005443677323562213, 0.01990900500810522, -0.010157358807489025, 0.0014537436049106844, -0.010450299464664248, -0.01319328925477059, 0.00797833096967615, -0.013779170569146793, -0.00672196382767698, -0.017347720393161126, -0.028133262771662615, -0.005230629572858803, 0.007259294811136741, 0.014263239614945356, -0.0021414371879053817, -0.011355752405076913, -0.0009696745591369904, 0.0018265771686198917, -0.00014411452522100632, 0.00491576955357953, 0.01820462300263692, 0.016899705529684894, 0.004542935989873875, 0.007978330969693026, 0.010082177507725554, 0.013517572487534046, -0.000809888746100107, -0.018253173333563133, -0.014817778353758193, 0.0024657204206741667, 0.0023325655765100706, 0.011600142731354346, -0.012740562784542497, -0.013965587351001396, -0.00288710431531225, 0.005634805712150914, -0.006349130263984648, -0.01154216918694928, -0.014152004132858664, 0.003584221111784913, -0.008399714864300023, 0.011866452419726059, -0.0013425081228266578, -0.0019017584684037914, 0.021453601200632555, 0.0014271126360929642, 0.0017200532932735157, -0.018412959146590246, -0.002833842377653717, -0.00198165137487738, 0.005767960556330998, 0.01306484601734681, -0.005097474728687601, -0.02062332955995494, -0.005976296700278105, 0.008590843252922475, -0.013273182161277042, 0.019269861756069595, -0.004990950853350995, -0.015030826104433181, -0.0053105224793732475, 0.004995662460093975, 0.002492351389526526, -0.015323766761643043, -0.013273182161270825, -0.0046181172896311296, -0.0024876397827764407, -0.014152004132871987, -0.001182722309818196, 0.0014271126360743125, 0.0013738506984015686, 0.01998889791463565, -0.004085497912925007, -0.018572744959589826, -0.002141437187912487, 0.01125394013649128, 0.001959732012804416, 0.0009743861658781938, -0.001449031998179251, -0.0011560913409844886, 0.020947612792724613, -0.0001174835563872989, -0.00405886694408597, -0.002913735284153951, 0.013411048612206322, 0.009176724567296901, -0.009385060711236903, -0.02168856831339916, 0.012771905360152047, 0.007259294811124306, -0.0003571622759155346, 0.007419080624140761, 0.011014261416971038, -0.0023544849385865874, 0.0038238998313158135, 0.0005216596956758579, 0.005554912805630252, -0.02461797488531925, -0.0037659262868983134, -0.011195966592087991, -0.014285158977054735, 0.004729352771718709, 0.014476287365610574, -0.01423189703936334, -0.002221330094420715, 0.002359196545329567, -0.013353075067787934, 0.025155305868776345, -0.00027726936939131974, 0.007232663842286158, 0.003610852080621285, 0.00526197214843549, 0.006513627683747636, -0.0014224010293366618, -0.001262615216317542, 0.001959732012814186, -0.008133405175960284, 0.006273948964193643, -0.0009164126214926682, 0.001773315230948036, 0.014236608646117865, 0.009522927162162631, -0.008479607770834008, -0.007227952235536961, -0.00685511867184907, -0.017161303611303858, 0.002146148794651914, 0.019775850163958886, -0.0015555558735149688, -0.003978974037589289, -0.008799179396849155, -0.009438322648920305, 0.014050191864273032, 0.00819137872037956, -0.001901758468386916, 0.010854475603974123, 0.008404426471065207, -0.00557683216775029, 0.00518207924192815, -0.013166658285930666, 0.008830521972448935, -0.014711254478410929, -0.0070415354536939034, -0.012341098252003135, 0.0041967333950188035, 6.89332254690811e-05, 0.009895760725878944, 0.01160014273136234, -0.0053371534482051786, 0.0015070055425807638, 0.0081647477515423, 0.015594788056718656, 0.00036187388264874443, -0.0036061404738880753, 0.003610852080619509, 0.004276626301525255, -0.009012227147542795, -0.01540365966812196, -0.003978974037582184, -0.028372941491189074, -0.008719286490332046, 0.005368496023788971, -0.00802688130063789, -0.009358429742416519, 0.000495028726829716, 0.004436412114504407, -0.0060029276691055955, -0.00491105794685609, -0.015243873855109946, -0.006322499295122519, 0.006779937372111355, 0.003930423706653308, 0.010215332351896755, -0.013566122818462922, 0.005581543774452413, -0.0051773676351949405, -0.007946988394103904, 0.011014261416972815, -0.008186667113644575, 0.010481642040274686, -0.012074788563667838, -0.010663347215356112, 0.009735974912855383, 0.01045501107141078, 0.003983685644334933, 0.0002020880696314009, -0.019904293401383555, 0.01269201245362872, 0.00643373477721898, -0.018759161741461305, 0.010108808476546827, -0.0037392953180566124, -0.018253173333562245, -0.02152878250036583, 0.014050191864252604, 0.0065136276837307605, 0.01807146815845151, -0.0032599378790214573, 0.00912346262963748, -0.01018398977634316, -0.0009696745591245559, 0.012452333734116472, 0.0024390894518422357, 0.002518982358339805, 0.02004215985233504, -0.0001973764629061847, -0.0044317005077791904, 0.010375118164912323, 0.023850388395841193, 0.006513627683719214, 0.009176724567308447, -0.005097474728676943, 0.009363141349159498, -0.00027726936938687885, -0.0035528785362215487, -0.01742761329964182, -0.003712664349218464, -0.0007566268084540084, -0.011355752405100006, 0.008910414878956274, -0.001129460372159663, -0.016974886829453695, 0.007339187717637863, -0.013992218319854643, -0.0011560913410040285, 0.003797268862467895, 0.0016135294179395743, 0.009363141349157722, 0.011813190482058644, 0.007206032873475543, 0.01948290950677034, -0.0037126643492344513, -0.0009430435902997303, -0.011701954999953301, 0.007658759343660115, -0.0007299958396123074, -0.004298545663630193, -0.009118751022887395, -0.0038458191934092056, -0.006881749640693435, -0.0018218655618760238, 0.012958322141983558, 0.003930423706665742, 0.0005749216333414964, 0.0073924496552848495, 0.00036187388264696807, 0.0031048636727524226, -0.005470308292385262, -0.005923034762590262, -0.011329121436264522, 0.017432324906401675, -0.017161303611296752, 0.0039037927378346993, 0.0012939577918906764, 0.002146148794644809, -0.002913735284144181, -0.005496939261208311, -0.0030468901283358107, 0.01897692109887128, -0.0058697728249264, 0.0018265771686118981, -0.0007566268084477912, -0.02773379823910993, -9.085258756869052e-05, 0.007898438063190127, 0.005741329587483968, 0.003637483049447887, 0.0009477551970533682, -0.004005605006417667, -0.015323766761641266, 0.016340455184129077, 0.014289870583779063, -0.0008897816526394209, -0.007654047736937564, 0.004649459865207817, 0.0078185451566668, -0.0035262475673896176, -0.010716609153037737, 0.0003618738826505208, -0.002354484938600798, 0.009709343944011906, 0.014449656396782196, 0.007339187717639639, -0.010610085277700243, -0.01420526607052075, 0.008510950346416024, 0.013011584079656302, 0.014396394459130768, -0.011888371781833662, -0.004192021788275824, -0.0022213300944038394, -0.004671379227317196, 0.008004961938529398, -0.003952343068741371, 0.004835876647053539, -0.001315877154011602, 0.0010542790723961915, 0.0067000444655773705, -0.004777903102646697, -0.022833699973339172, 0.006060901213515102, -0.010796502059547741, 0.02246557801636495, -0.000410424213575844, -0.012820455691056054, -0.001342508122837316, 0.028031450503060107, 0.0056348057121420325, 0.00403694758198192, -0.006375761232804145, 0.0055016508679734955, 0.010481642040254258, 0.013357786674544236, -0.01907873336747823, -0.002061544281402483, 0.012399071796457939, 0.008271271626888677, -0.0017419726553642434, -0.018173280427074445, 0.0036907449871517173, -0.010210620745159105, -0.0072545832043973135, 0.005102186335435022, -0.011488907249298741, -0.01279382472224011, 0.0017466842621178813, -0.009864418150288934, -0.0032599378790285627, -0.019797769526054054, -0.011595431124617583, -0.01106281174791146, -0.002381115907430953, 0.004196733395021468, -0.002008282343708423, 0.010375118164907882, 0.005341865054949935, 0.006460365746058017, -0.025070701355541125, 0.014715966085139698, 0.0008678622905291533, -0.00602955863793575, 0.002465720420715911, -0.005363784417043327, -0.0005169480889204436, 0.014289870583766628, -0.008532869708495205, -0.007813833549922045, 0.015648049994402058, 0.016739919716685314, 0.004809245678228713, -0.005363784417039774, 0.0010010171347172303, -0.015057457073257119, -0.014924302229093023, 0.006194056057694297, 0.005341865054962369, 0.0022260417011530365, 0.004409781145702674, -0.011355752405094677, 0.006460365746042029, -0.0009430435903095002, 0.010428380102605495, -0.006056189606760576, 0.0001221951631293905, 0.008910414878954498, 0.0065402586525573625, 0.003317911423406983, -0.004245283725936133, 0.002971708828570563, 0.024223221959549512, -0.020037448245569855, -0.007707309674596097, 0.005421757961489249, 0.0008678622905486932, 0.01580783580742562, 0.006833199309755678, -0.00573661798073033, -0.013592753787297518, -0.0037925572557311327, -0.0003837932447501302, 0.0015868984491058669, 0.010694689790969214, -0.021715199282224873, -0.002594163658108606, 0.02158675604477711, -0.0038458191933932184, 0.011227309167676225, 0.0021195178258306413, 0.008910414878960715, -0.00981115621263573, 0.0008678622905362587, -0.011568800155789205, -0.005496939261222522, -0.0046181172896559985, 0.007951700000839779, 0.005847853462835673, -0.014791147384921821, 0.020175314696484037, -0.002407746876272654, -0.012687300846893734, 0.0037972688624847706, -0.00823992905131643, 0.004569566958704918, -0.01130249046742371, -0.014924302229101016, -0.0006501029331262842, 0.02361070967633161, -0.019025471429810814, 0.004329888239204216, 0.00917672456731733, 0.004942400522418566, -0.0042719146947796105, -0.004032235975232723, -0.002114806219064569, 0.006966354153920662, 0.0024390894518164785, -0.011542169186946616, 0.0038771617689841165, -0.003446354660845863, -0.006908380609529807, 0.01847093269100153, -0.0001973764629230601, -0.00730784514206384, -0.008612762615010539, -0.0008365197149613479, -0.003925712099915657, -0.0009430435902819667, -0.008373083895486744, 0.0051554482730828965, 0.002252672669996514, 0.005608174743327865, -0.0028072114087942523, -0.011488907249279201, -0.006136082513285679, 0.007898438063188351, 0.0038238998313246952, -0.00379255725571781, -0.0067219638276494464, 0.0010010171347234476, -0.009172012960556586, -0.006801856734172773, -0.009172012960573461, 0.0077386522501807775, -0.003472985629698222, 0.005794591525162041, 0.0009743861658675357, -0.01577649323182051, 0.010082177507736212, -0.010769871090722027, -0.003925712099904111, 0.01120067819882209, 0.011706666606722926, -0.004831165040328322, -0.004538224383131784, -0.022301080596592193, 0.0034776972364642944, -0.0002772693694188533, 0.0029450778597315264, -0.008745917459183516, 0.01064142785326272, 0.002146148794635927, 0.012558857609453966, -0.012314467283194297, 0.0006281835710142403, 0.009229986504945664, 0.0004683977579951204, -0.017028148767127327, -0.004777903102662684, 0.011413725949524611, 0.010774582697452573, -0.0008897816526314273, 0.0027586610778813636, 0.011919714357419231, 0.011706666606707827, 0.0060342702446885, 0.007152770935771713, -0.00555020119887395, 0.010455011071409004, -0.0017686036242272607, 0.01857745656634968, 0.012905060204317031, 0.0037440069248102503, 0.005901115400495982, -0.006961642547196334, -0.005630094105411487, -0.00030390033824190255, -0.01891894755447776, -0.012420991158550443, -0.017906970738695627, 0.003371173361085056, -0.010450299464683788, -0.016815101016447898, -0.001555555873535397, 0.0018265771686154508, -0.0017686036241908454, -0.0005169480889213318, 0.007259294811104766, 0.009070200691968289, -0.0025941636581263694, 0.016180669371129497, 0.004596197927546619, -0.015856386138344725, 0.01596762162043852, -0.0025675326892846684, 0.013357786674515815, -0.00845297680198609, -0.013938956382143708, 0.007578866437152776, -0.012234574376674523, 0.014662704147482941, -0.004644748258453291, 0.016367086152991206, -0.011835109844157365, -0.009305167804749992, 0.004702721802903653, 0.012931691173158733, 0.00992239169470821, 0.0066467825278788695, -0.008133405175969166, -0.008532869708489876, 0.022385685109869158, 0.0055815437744586305, -0.010530192371187574, 0.007871807094350203, -0.008266560020151026, -0.010583454308851437, -0.017267827486644904, -0.005203998604034865, 0.01538174030605699, 0.0017733152309418188, 0.01303821504848468, -0.005257260541705833, 0.005448388930298975, 0.006726675434407525, -0.002407746876287753, 1.567128780521898e-05, -0.007920357425296842, 0.006407103808385273, -0.0027539494711374957, 0.00494240052242656, 0.024516162616728288, -0.0040854979129081315, 0.002891815922047236, -0.006136082513269692, 0.001666791355626529, 0.003424435298769346, 0.0077120212813488465, 0.008031592907369323, 0.0023059346076736986, 0.023584078707451717, -0.007014904484860196, -0.0012626152163193183, 0.0028385539843869267, 0.0003618738826611789, 0.00848431937758054, 0.015648049994407387, 0.02257210189171044, -0.0052039986040366415, -0.01455146866538648, -0.002034913312574993, 0.006540258652552033, -0.01329981313011519, -0.005630094105396388, -0.006988273516014942, -0.008053512269442287, 0.009869129757024808, 0.006194056057699626, 0.015514895150213981, 0.0057679605563203395, 0.0004151358203188238, 0.014636073178634135, 0.0033711733611019312, -0.00602955863793575, -0.007893726456433825, -0.016415636483919194, -0.01207478856367672, 0.002945077859728862, 0.008111485813879327, -0.0117019549999684, -0.005923034762599144, 0.004489674052195802, -0.004032235975257592, 0.008351164533376476, -0.0025142707516119245, 0.007498973530644548, 0.0019064700751290076, -0.014338420914698169, 0.006966354153939314, -0.0082132980824694, -0.011275859498593555, 0.011387094980674028, -0.0011827223098057615, 0.016553502934823605, -0.0011827223098359596, 0.005634805712143809, 0.01583446677624334, 0.0014537436049160135, 0.005155448273103325, 0.006460365746051799, 0.005448388930290093, 0.004356519208026377, -0.0015555558735229624, 0.0024124584830085283, 0.013411048612211651, -0.00014411452522811175, 0.00795170000085399, -0.0008631506838074898, 0.007179401904612526, -0.00970463233728669, 0.0010276481035695895, -0.0009696745591245559, -0.011488907249280977, 0.0016401603867723935, -0.0017952345930423164, 0.025394984588320568, 0.007152770935802799, 0.00853758131524529, 0.0016667913556025482, 0.011200678198828307, -0.013379706036621641, -0.011329121436249423, 0.0016934223244540192, -0.017108041673630225, -0.005443677323563989, -0.005363784417053985, 0.019695957257456875, 0.009389772317994094, -0.004405069538955253, 0.008191378720393772, 0.007712021281350623, 0.02235905414103989, -0.006162713482113169, -0.0025941636581219285, 0.0008678622905451405, 0.005901115400500423, 0.0024923513895194205, -0.005896403793760996, 0.0021727797635042734, -0.006855118671840188, -0.009864418150299592, 0.006486996714899718, 0.01125394013651082, 0.014902382867002295, 0.003344542392273553, -0.00014411452522722357, -0.013912325413328652, 0.0024923513895158678, 0.01463607317864657, -0.005736617980736547, 0.017831789438950807, -0.018093387520553783, 0.014236608646099214, -0.0011294603721232477, -0.0020349133125732166, -0.003020259159475458, -0.01740098233084275, -0.004325176632440808, 0.0031314946415639255, -0.0013957700605233825, 0.012558857609464624, 0.017672003625923693, -0.006375761232816579, 0.0016135294179440152, -0.006455654139301714, 0.005208710210753864, 0.011307202074178235, -0.00584314185609891, 0.007285925779961566, -0.003712664349233563, -0.00017074549406537187, 0.0014004816672379405, 0.00030861194499109956, -0.01697488682946613, -0.009544846524275563, 0.00576796055633455, -0.007440999986240371, 0.008590843252918035, -0.0129269795664122, 0.0061407941200579685, 0.005501650867979713, 0.0014537436049266717, 0.0015602674802632777, 0.014715966085142362, 0.005421757961458162, 0.002332565576517176, 0.0033445423922771056, -0.008719286490372902, 0.0010010171347216712, 0.0033179114234398455, -0.009544846524270234, 0.0033978043299391913, -0.01503082610442874, 0.0038771617689841165, 0.007419080624144314, -0.00019737646292394828, 0.014209977677284158, 0.0011075410100502836, 0.012239285983436154, -0.002247961063248205, 0.006806568340907759, -0.008426345833164817, -0.0017952345930298819, 0.005874484431680038, -0.004911057946849873, 0.018098099127309197, -0.009411691680065282, -0.0013957700605100598, 0.007072878029280361, 0.009363141349169268, 0.009229986504974974, 0.007365818686468906, -3.759064990571659e-05, 0.005981008306989999, -0.00552357023008021, 0.01929649272493883, -0.0015022939358644294, -0.019131995305140315, -0.020783115372955407, 0.012585488578282344, -0.009305167804734005, -0.01380580153798494, 0.0037706378936572804, -0.016335743577378103, -0.001662079748877332, -0.002168068156752412, -0.00943832264892297, -0.0026207946269583005, -0.011595431124618472, -0.010956287872569526, 0.004889138584754704, 0.0018532081374535991, 0.003264649485759108, 0.005608174743328753, -0.0037659262869027543, 0.009629451037499237, 0.005155448273085561, -0.005816510887243886, -0.000863150683798608, -0.004405069538940154, -0.0006234719642810305, -0.005177367635202046, 0.00036187388266029075, 0.003078232703903616, -0.0005435790577621447, -0.013193289254762597, 0.008271271626879795, 0.00611416315117097, -0.015563445481142857, -0.013006872472932862, -0.004644748258473719, -0.004618117289646229, 0.001959732012789317, 0.005874484431665827, -0.018865685616792582, 0.009229986504987409, 0.004596197927536849, 0.009389772317998535, -0.00179523459306008, -0.0007299958396078665, 0.0011075410100804817, 0.006992985122797002, -0.0015022939358537712, -0.000570210026590523, 0.0008146003528608503, 0.0013738506984299903, -0.009251905867078136, -0.007494261923902457, 0.009363141349156834, 0.007206032873455115, -0.0053371534481998495, 0.010854475603971458, -0.009757894274945222, 0.004249995332684442, 0.005048924397760501, 0.004383150176864525, 0.005155448273118424, 0.0036641140182904763, -0.002514270751615477, 0.015381740306059655, -0.0098111562126455, 0.01114741626115201, 0.000548290664513118, -0.005177367635186947, -0.015243873855134815, 0.008324533564581849, 0.0027852920467337228, -0.006295868326310128, -0.012980241504095602, -0.005443677323543561, 0.017032860373857872, -0.00022400743171857584, -0.002114806219069898, 0.004755983740567515, 0.0013205887607385947, 0.00574132958748752, -0.0007566268084477912, 0.0027852920467221765, 0.0047559837405630745, 0.011067523354657993, 0.009522927162201711, -0.007574154830395585, -0.010290513651647792, 0.0024923513895149796, -0.0025409017204474083, -0.004325176632454131, -0.007068166422527611, 0.002332565576487866, 0.015488264181410472, -0.01559007644999788, -0.006082820575631587, 0.01471596608514325, -0.00986441815031025, -0.014950933197942717, 0.0037706378936226415, -0.00459148632080808, -0.016602053265754257, -0.012394360189693643, 0.0006281835710222339, 0.008084854845052725, 0.0017733152309471478, 0.006460365746063346, -0.007041535453717884, -0.014817778353746647, -0.0037659262868938725, -0.0031001520660138837, 0.00427662630151282, -0.009544846524269346, -0.0061893444509522055, -0.004058866944100181, 0.009549558131002556, 0.008031592907350671, 0.0021994107323326517, -0.006961642547206104, 0.009043569723150569, -0.0017952345930689617, -0.0035795095050463743, -0.0017153416865429705, 0.012558857609457519, 0.003744006924773835, -0.002434377845130342, 0.0005749216333521545, -0.0035528785362020088, -0.01242099115854689, -0.002008282343733292, -0.012900348597574052, 0.00012219516314360135, -0.0011560913409880413, -0.009092120054050135, -0.004271914694770729, -0.003765926286875221, -0.0011827223098199724, 0.01948290950676146, 0.006300579933036232, -0.005443677323534679, 0.025687925245502008, 0.004729352771725814, -0.009598108461934096, 0.01136046401183144, 0.0073125567487997145, -0.01015735880751123, 0.01168003563788389, 0.009496296193331588, -0.00142240102935709, 0.0170328603738783, -0.01202152662599243, 0.008164747751546741, -0.00014411452522100632, -0.008106774207115919, 0.00861747422176773, 0.012319178889949711, -0.001342508122847974, 0.015435002243719964, 0.011706666606692728, -0.00776057161227417, 0.0017466842621240986, -0.00642902317046623, 0.003957054675482574, 0.005208710210774292, -0.009731263306107074, -0.013246551192447775, 0.0026255062337074975, -0.02685497626753186, -0.010290513651661115, -0.003552878536203785, 0.0061407941200180005, -0.0029403662529876584, 0.007791914187838422, -0.0028338423776510524, -0.013912325413336646, 0.0035575901429707457, 0.002652137202546534, 0.008830521972449823, 0.0039570546754843505, 0.006060901213520431, -0.00325993787901524, 0.00872399809708213, -0.00421865275709532, -0.00160881781118416, 0.0028918159220729933, 0.014209977677285046, 0.0025722442960338654, 0.01756547975057643, 0.0007347074463597281, 0.011360464011837657, -0.0011827223098217488, 0.0005482906645006835, 0.011227309167684218, -0.00997094202564952, 0.0006281835710044703, 0.012345809858770096, -0.00483116504033454, 0.025235198775294343, -0.0016887107176950522, 0.002705399140200626, 0.007498973530645436, -0.020436912778109217, -0.00046368615124769974, 0.003717375955971214, -0.0039523430687467, 0.001560267480265054, 0.006460365746065122, 0.001933101043957386, 0.006007639275847687, 0.018870397223542668, -0.006295868326286147, -0.005550201198889937, -0.0027805804399685385, -0.008666024552677065, 0.0033711733611019312, 0.014795858991661248, 0.006939723185076296, 0.0038238998313158135, -0.00030390033822946805, 0.009070200691970953, 0.011280571105335646, 0.005102186335433245, -0.025177225230899936, -0.004644748258463061, 0.0013205887607332656, -0.005869772824931729, 0.007419080624145202, -0.0028338423776173016, 0.005821222493985978, -0.009331798773574818, -6.422161871810772e-05, -0.012234574376672747, -0.020277126965105197, -0.00999757299447257, -0.018226542364744525, 0.008058223876202142, 0.0037972688624643425, 0.010268594289601474, -0.018519483021925076, -0.0007832577772877158, 0.00837779550222617, 0.026167282684554927, -0.008106774207132794, 0.005448388930283876, -0.007547523861571648, -0.017853708801030876, -0.022114663814763347, 0.01431650155260833, 0.005235341179594677, 0.016207300339925013, 0.018257884940319435, 0.007472342561827716, 0.013198000861498471, 0.005874484431682703, 0.0069663541539286555, 0.013650727331724788, -0.0046713792273092025, -0.0008897816526269864, 0.0034244352987862214, -3.759064988262395e-05, -0.000277269369397537, 0.004116840488497253, -0.0151639809486106, -0.006562178014635656, 0.00012219516314626588, 0.0003352429138363533, -0.004671379227289663, -0.0033664617543491815, 0.03471582368084558, 0.0055815437744737295, 0.01269201245362872, 0.003131494641575472, -0.006775225765344395, 0.015594788056715103, -0.002114806219074339, 0.0017999461997861843, 0.0014004816672494869, -0.003606140473872088, 0.002492351389507874, 0.019642695319787684, -0.01748087523735098, -0.00640239220164851, -0.00941169168007061, 0.012186024045750976, -0.007414369017405775, 0.012532226640625588, -0.0007832577772743932, 0.010668058822110638, -0.0037392953180628297, -0.0013691390916816815, 0.00925661747380424, -0.0057632489495862416, -0.008026881300604138, -0.005257260541706721, 0.002199410732299789, -0.007414369017414657, -9.085258755003878e-05, -0.020676591497613472, -0.01116933562327116, -0.010476930433532594, 0.0026787681713615896, -0.013006872472915987, -0.011888371781798135, 0.01002891557005725, 0.01351757248751806, -0.014338420914721262, 0.01791168234544749, -0.0018484965307195012, -0.006429023170474224, -0.004431700507790737, 0.0020662558881330284, 0.009735974912850942, 0.004596197927551948, 0.008750629065939819, -0.000596840995447323, 0.0059277463693447885, -0.0044583314766208915, -0.004831165040309671, -0.005443677323569318, -0.009624739430765139, -0.005630094105390171, -0.001422401029352649, 0.0009477551970507037, -0.00035716227591908734, 0.007658759343684984, 0.004862507615915668, -0.001289246185174342, -0.0027273185022895774, -0.010716609153043954, 0.020628041166693478, 0.010960999479324052, -0.009944311056808708, 0.010321856227245796, 0.014236608646112536, 0.017592110719410137, 0.005128817304269617, 0.0005749216333370555, -0.004165390819437675, 0.0020396249193082028, 0.008990307785460061, -0.018572744959618248, 0.010774582697483659, -0.013406337005474, -0.005150736666361233, -0.01449820672772173, 0.00313149464158613, 0.005315234086104681, -0.015829755169515458, -0.007467630955067861, -0.005763248949579136, 0.004596197927549284, -0.0006501029330907571, -0.012713931815722113, 0.00028198097612452955, -6.422161869767962e-05, 0.01317136989266654, -0.0026207946269583005, -0.00600292766911803, 0.0027852920467168474, 0.003104863672735547, 0.00385053080016462, 0.012984953110840358, -0.004431700507810277, 0.0021195178258155423, 0.007845176125507614, 0.01010880847656015, 0.006806568340917529, 0.004542935989873875, 0.0002287190384748783, -0.004751272133824536, -0.014924302229085917, -0.0088524413345068, -0.012341098252011129, -0.008799179396852708, 0.004249995332682666, 0.021666648951292444, -0.0017686036242015035, 0.001400481667239717, -0.0022213300944242675, 0.006407103808382608, -0.00959810846194209, 0.0039037927378116066, 0.010135439445385863, -0.004857796009153148, -0.008612762615002545, -0.016628684234581748, -0.0036327714427262237, -0.00232785396976265, 0.007046247060454647, -0.015776493231828503, -0.0026740565646115044, 0.00020208806964294723, -0.001715341686540306, -0.011355752405091124, 0.011919714357396138, 0.017245908124540854, -0.008452976802010959, 0.00044176678915963663, 0.006460365746045582, 0.016633395841350485, 0.007658759343665444, -0.0009164126214633583, -0.002567532689292662, -0.00035716227591819916, 0.008670736159405834, -0.012767193753381534, 0.003371173361115254, -0.0011827223098306305, 0.0030516017350894487, -0.016655315203439436, -0.011781847906468634, -0.0006767339019502217, 0.0007613384151996527, -0.008000250331781089, -0.008985596178724187, 0.00028198097615828033, 0.02132044635642405, -0.003419723692020149, -0.025257118137393064, -0.004218652757120189, 0.008324533564553427, -0.008186667113656121, -0.023579367100743376, 0.009043569723117706, -0.02560332073224636, 0.02014868372765566, -0.004618117289629353, 0.007099508998115844, 0.011733297575540647, 0.004995662460073547, 0.007152770935778818, 0.01884376625470985, -0.01186174081298308, -0.007121428360204796, 0.00699298512276858, -0.007574154830400914, -0.0037392953180610533, -0.013486229911946701, -0.006668701889987361, -0.006562178014624109, -0.004857796009179793, -0.006082820575604941, 0.010960999479310729, -0.010610085277697578, -0.0013158771540000558, 0.009416403286834019, -0.010237251714001694, -0.008293190988982957, -0.009784525243771824, 0.005714698618647596, -0.00200828234373418, 0.0004151358203232647, 0.009895760725865621, -0.0020615442814087004, 0.00036187388265584985, -0.008666024552677953, -0.0020082823437217456, -0.0067752257653479475, 0.01942964756906651, -0.004591486320801863, 0.01013543944540718, -0.003393092723208646, 0.003957054675504779, 0.004835876647070414, 0.006433734777234079, -0.009784525243778042, 0.013597465394052044, -0.02054343665344316, 0.011866452419715401, -0.004085497912917013, -0.002807211408806687, 0.015834466776269984, 6.893322545131753e-05, 0.006087532182360356, 0.00632721090187971, -0.03015721640319491, 0.006114163151178964, 0.02414332905301464, -0.0034197236920379126, -0.0038191882245772746, -0.018253173333572903, 0.005155448273096219, -0.008080143238298199, 0.013464310549863967, 0.012931691173156956, -0.004671379227300321, -0.0015022939358564358, -0.012847086659911966, 0.007072878029280361, -0.011595431124612254, -0.010716609153032408, -0.0025409017204447437, -0.006775225765352388, 0.0012406958542214852, 0.006593520590223889, -0.010610085277694026, 0.0021195178258315295, -0.006322499295118078, 0.0022793036388373267, -0.022860330942171103, -0.002034913312565223, 0.001906470075116573, 0.008510950346407142, -0.010476930433513942, -0.003126783034836933, 0.0136507273317239, -0.0023278539697546563, -0.007041535453710779, 0.002492351389516756, 0.012026238232733633, 0.0012673268230702917, 0.0072326638422950396, 0.0019863629816523343, -0.000623471964268596, 0.00076133841518633, -0.0021148062190876615, -0.008745917459195951, 0.0007080764775508896, -0.0034729856297115447, 0.0065668896213937344, 0.004223364363834747, 0.005288603117289625, -0.0009430435902872958, -0.0021148062190627925, 0.006140794120024218, -0.01066334721536144, 0.012026238232738073, 0.017698634594755625, 0.016899705529699993, 0.010801213666289833, -0.005017581822178485, -0.011542169186934181, 0.03138695257638169, 0.008271271626890453, -0.020703222466464943, -0.007201321266703253, 0.024303114866049746, 0.003744006924798704, 0.00241245848301741, -0.008772548428027882, -0.000410424213585614, 0.007206032873443569, -0.004538224383130007, -0.0019816513748844855, -0.006375761232817467, 0.00733918771763431, 0.0006015526021903028, 0.011653404669040413, -0.007574154830414237, -0.007574154830408908, 0.006273948964192755, -0.00839971486432134, -0.003153414003664423, 0.006140794120010007, -0.000383793244734143, -0.004032235975255816, 0.006620151559072696, -0.005523570230058006, 0.009549558131002556, 0.0023059346076523823, -9.08525875571442e-05, 0.005182079241933479, -0.013725908631477601, 0.011147416261154675, 0.010028915570053698, -0.010610085277695802, 0.0020928868569898285, -0.012341098252021787, 0.019030183036547577, -0.007893726456444483, 0.005581543774467512, 0.003024970766245083, -0.016921624891783615, 0.010455011071424991, -0.005150736666363009, 0.001986362981635459, 0.010002284601223543, -0.0006501029330960861, -0.013140027317088077, 0.004596197927546619, -0.0008631506837897263, 0.010721320759780717, 0.010375118164914987, -0.004511593414305182, -0.009624739430757145, -0.011835109844149372, -0.0013957700605127243, 0.00685983027859649, 9.556419427347862e-05, -0.0018751274995496559, 0.00997565363236319, 0.00014882613195421612, -0.0011028294033108565, 0.005741329587472421, -0.003339830785505704, 0.006859830278575174, -0.008612762615012315, -0.01766729201918693, -0.007867095487604558, 0.0037706378936537277, 0.0045961979275386255, -0.0033664617543749387, -0.006695332858830838, -0.015163980948621258, 0.003823899831309596, 0.005794591525152271, -0.004085497912922342, 0.017938313314292742, 0.008297902595725049, -0.015510183543494982, 0.005182079241915716, 0.01594099065160215, 0.014130084770774154, -0.009970942025634422, -0.02642888076615968, 0.01668665777899392, 0.0028651849532259632, 0.009949022663546359, 0.019269861756079365, 0.009709343944016346, 0.008297902595710838, -0.01180847887530323, 0.0029717088285581283, -0.006082820575592507, -0.009598108461950972, 0.006673413496717906, -0.015403659668149494, -0.012767193753391304, -0.017321089424338076, 0.012558857609472618, 0.0019064700751494357, -0.010157358807484584, -0.008905703272203525, 0.0019064700751387775, -0.006721963827653887, -0.003126783034812952, 0.01660676487250523, -0.006269237357472868, 0.0011341719788982019, 0.014209977677280605, 0.010854475603961689, 0.012239285983430825, -0.0013957700605082834, -0.014365051883538982, -0.010583454308860318, -0.008133405175966502, 0.009416403286842012, 0.003371173361091273, -0.0038191882245568465, -0.005923034762607138, -0.003925712099912104, -0.01431178994587512, 0.009469665224501433, 0.007552235468327062, -0.012314467283196073, 0.01447628736560791, -0.0023012230009085144, 0.008857152941275537, -0.010317144620500152, -0.002993628190664843, 0.0051021863354190344, -0.014684623509571892, 0.007019616091612946, -0.0030202591594878925, -0.007440999986231489, -0.0015022939358653176, -0.011808478875302342, -0.004511593414285642, 0.006886461247431086, -0.008745917459186181, 0.01080121366628628, -0.016122695826709332, -0.0003571622758968829, 0.003637483049476309, -0.0044583314766208915, 0.015488264181389155, 0.02006879082114299, 0.009602820068696616, -0.01029051365167355, -0.006642070921141219, -0.013832432506833747, -0.01564333838765819, -0.012234574376683405, 0.007206032873470214, 0.004436412114531052, -0.003632771442713789, 0.024116698084212018, 0.009283248442652159, -0.013566122818464699, 0.00771202128135684, 0.0071794019046365065, 0.006247317995359047, -0.005630094105387506, 0.007392449655303501, 0.003344542392269112, 0.0013472197295829602, -0.007920357425285296, -0.01329981313011519, 0.01703286037387386, -0.009864418150280052, -0.008852441334529892, -0.004112128881772925, -0.007574154830423119, 0.0045163050210383915, 0.006353841870702759, 0.013384417643358404, 0.023877019364668683, -0.004351807601273627, -0.00712142836019769, 0.0040635785508404965, 0.005608174743305661, 0.017405693937583067, 0.013464310549887948, 0.016873074560851187, 0.007392449655306166, -0.0008365197149649006, 0.008351164533397792, 0.0035043282052713565, -0.0009963055279609279, 0.0016934223244264857, 0.007099508998118509, 0.01093436851046814, 0.019030183036557347, -0.005470308292391479, -0.00917201296053527, 0.010721320759770947, -0.002993628190633757, -0.00616271348212738, 0.0024390894518218076, -0.010343775589349846, -0.0075741548304169015, 0.004489674052197579, -0.014391682852374466, -0.01255414600270921, -0.0033131998166915366, -0.026322356890816856, -0.005097474728696483, -0.01039703752699861, -0.007014904484855755, 0.0006548145398435068, 0.0052886031172958425, -0.010370406558184442, 0.006194056057695185, -0.004085497912907243, 0.00014882613196487426, 0.005847853462823238, -0.0016887107176906113, 0.012212655014580243, -0.007760571612269729, -0.0065355470458206, -0.015483552574623971, 0.002732030109047656, -0.014391682852362031, -0.007600785799266596, 0.009709343944034998, -0.0021414371879195926, -0.008799179396874912, 0.008857152941287971, -0.004325176632428374, -0.012554146002695, -0.002940366252985882, 0.005581543774474618, -0.003659402411559043, -0.014578099634225516, -0.01425852800819083, 0.003903792737814271, 0.009815867819369828, 0.00430325727035985, 0.0033978043299294214, -0.007201321266691707, -0.008373083895482303, -0.0017419726553615789, 0.008910414878936734, -0.003366461754336747, -0.005630094105399053, -0.011222597560927916, 0.016633395841330056, 0.003397804329947185, -0.00802688130063789, 0.011813190482028446, 0.006273948964214071, -0.008692655521527648, -0.0003039003382196981, -0.012207943407824828, 0.002146148794656355, -0.007547523861568095, -0.015723231294161977, -0.004112128881756938, 0.00291844689088272, 0.002705399140213949, 0.00803159290736044, 0.007046247060454647, -0.02315327159937297, -0.01220794340783904, 0.008377795502238605, -0.015004195135607468, -0.007946988394116339, -0.020969532154826886, -0.006002927669102043, 0.003717375955947233, -0.007227952235547619, 0.005954377338177608, 0.00046839775800222583, 0.0015602674802774885, 0.008111485813876662, -0.0005968409954313358, 0.022865042548919412, 0.0008944932593486499, -0.0077339406434218105, 0.00198636298163013, -0.016921624891784504, -0.0005968409954366649, 0.0021195178258004432, -0.0021680681567364246, 0.004676090834061064, -0.008559500677338683, 0.011440356918334338, 0.016793181654328748, 0.015088799648840912, 0.005448388930294534, -0.0005968409954482112, -0.006056189606796103, -0.0067752257653515, 0.0020928868569711767, 0.007206032873457779, -0.009438322648909647, 0.0012939577919111045, 0.010108808476570807, 0.021027505699240834, 0.017592110719405696, -0.017693922988022415, -0.0009963055279733624, 0.004676090834075275, -0.00672196382766721, 0.019855743070452014, 0.013331155705700759, 0.0032113875480987986, 1.567128777679727e-05, -0.003978974037590177, 0.004862507615900569, 0.0035309591741290447, -0.025150594262025372, 0.011094154323483707, 0.013224631830353495, -0.0051507366663585685, 0.011706666606714933, 0.007738652250196765, -0.01684173198526473, -0.017667292019165615, 0.009709343944009241, -0.004431700507776526, 0.008937045847776659, 0.007498973530654318, -0.01084976399722315, 0.03191957195306294, 0.009895760725870062, -0.004698010196141134, -0.0011560913409978113, 0.0014537436049160135, 0.01277190536013606, -0.013033503441763017, -0.010823133028377008, -0.0013425081228355396, 0.012106131139260512, 0.007445711592970028, -0.013992218319838656, -0.0064023922016502866, 0.005155448273104213, -0.009038858116409365, 0.001959732012804416, 0.006220687026533334, -0.0035528785361895743, -0.0024876397827693353, -0.011329121436242318, 0.004995662460082428, -0.000996305527971586, 0.0027320301090432153, -0.004724641164981058, -0.014817778353765299, -0.0038990811310775086, 0.004356519208022824, 0.0014803745737577145, 0.009735974912859824, -0.00451159341427676, -0.00959810846193676, 0.0032646494857511144, 0.0241965909907087, -0.0050442127910121926, 0.0027053991402121724, -0.018492852053087816, -0.004431700507778302, -0.007014904484860196, -0.00768067870576683, 0.015514895150231744, 0.007765283219010044, 0.0036108520806381605, -0.02049017471579262, 0.019589433382082078, 0.008484319377579652, 0.02563466330782571, 0.006540258652568021, -0.006695332858833503, 0.012532226640604271, -0.013193289254758156, -0.001821865561872471, -0.007281214173222139, -0.00555020119889349, 0.0037706378936368523, 0.0027586610778849163, -0.01321992022359364, 0.007578866437163434, -0.0015821868423557817, 0.0050489243977462905, -0.0070681664225356045, -0.003659402411559931, 0.004303257270363403, 0.003371173361105484, -0.01218131243901599, -0.005417046354715183, 0.00350432820525981, 0.010801213666298715, -0.00802688130062279, -0.003233306910172651, -0.0037925572557266918, 0.012585488578296555, -0.00592303476259648, -0.0018218655618706947, 0.004249995332681777, 0.00832453356455698, 9.556419430190033e-05, 0.003983685644319834, -0.0006234719642561615, -0.0011827223098146433, -0.00341972369201482, 0.008564212284088768, 0.023291138050280047, -0.0036594024115332857, 0.006247317995365265, 0.01929649272492373, 0.014183346708430022, 0.0037972688624607898, 0.005288603117278967, 0.0013472197295909538, 0.009975653632387171, -0.0015022939358511067, 0.007419080624147867, -0.022141294783587284, 0.0007347074463703862, -0.012367729220865264, -0.028878929899057937, 0.013570834425228995, 0.0015868984491040905, 0.0011608029477327975, 0.02060141019787043, 0.0012140648854028768, -0.0009696745591281086, 0.00294507785972975, 0.0045961979275732645, -0.01569660032532738, -0.006508916076969129, -0.0125807769715367, 0.0036641140182904763, 0.012665381484805671, -0.006189344450949541, -0.019478197900030025, -0.019797769526063824, -0.0080002503317953, 0.0077120212813142075, -0.010823133028373455, -0.008106774207140788, -0.0049376889156755865, -0.00813340517595762, 0.0034776972364607417, -0.0016088178111957063, 0.004596197927559054, -0.0019550204060774234, 0.0018798391062784248, -0.0016354487800178674, 0.00038850485151176173, 0.01351757248753227, 0.012186024045738542, -0.004484962445466145, -0.013486229911959136, -0.007893726456447148, 0.0015602674802730476, 0.002678768171387347, 0.013757251207080046, 0.005981008307006874, -0.0017952345930485336, 0.004569566958702254, 0.010135439445394745, -0.01252751503388172, 0.007552235468306634, 0.011706666606702498, 0.0012939577919004464, -0.006029558637931309, 0.009922391694711763, -0.0049376889156853565, -0.011355752405106223, 0.003850530800145968, -0.0043518076012842855, 0.017885051376625327, -0.00680185673416922, 0.008111485813865116, 0.005235341179592012, -0.0029403662529672303, -0.009225274898239988, -0.003712664349212247, -0.0057366179807543105, -0.0027273185023055646, 0.009922391694716204, 0.012345809858770096, -0.01391232541331977, 0.017192646186871663, -0.0012626152163317528, -0.007760571612259959, -0.005177367635191388, 0.001480374573760379, 0.0029450778597261973, -0.008026881300613908, 0.00667341349674011, -0.0009430435903121648, -0.012580776971548246, -3.759064987018945e-05, 0.008723998097098118, -0.007733940643422699, 0.005048924397759613, 0.0066734134967454395, -0.015590076449985446, -0.006082820575621817, 0.004809245678235818, 0.017858420407753428, 0.0019331010439600504, 0.016713288747837396, 0.010401749133762017, 0.004622828896363451, -0.0014224010293482081, 0.0015602674802641658, 0.0030782327039196034, 0.00022871903846954922, 0.016127407433446983, -0.0065089160769717935, -3.759064988440031e-05, -0.0201173411520843, 0.01112078529232452, -0.006588808983483574, -0.01697488682946524, 0.016899705529685782, -0.005390415385873482, 0.010827844635126205, 0.02025520760300381, -0.007014904484864637, -0.002461008813916088, 0.009549558130998115, 0.0066201515590771365, -0.0009430435903050594, 0.0005482906645148944, 0.006620151559071807, -0.008026881300635225, -0.009837787181459667, 0.0093897723179861, -0.017800446863366126, -0.0027539494711277257, -0.0011294603721614394, 0.012372440827601139, -0.00198165137489692, 0.01122730916765402, 0.0067266754344235125, -0.004245283725931692, 0.009309879411484978, 0.006300579933029127, 0.009469665224509427, -0.011915002750656711, -0.004591486320803639, 0.006753306403252779, 0.00989576072585674, -0.004378438570118881, 0.007232663842290599, 0.006034270244687612, 0.007099508998117621, -0.0074143690173968935, 0.008031592907367546, -0.01042366849585985, 0.004249995332683554, -0.01819991139589927, 0.007738652250176337, 0.004622828896377662, 0.01658013390364932, 0.002678768171354484, -0.006775225765355053, -0.0036061404738578773, 0.006859830278581391, -0.001422401029352649, -0.005523570230065111, 0.0062473179953626, 0.004143471457339842, 0.020015528883479128, 0.0045163050210383915, -0.007600785799251497, -0.0024077468762557785, -0.012687300846894622, -0.012181312438984904, -0.010876394966067515, -0.004271914694753853, -0.004351807601290503, -0.0007299958395936557, 0.012292547921097352, 0.0031581256104216138, 0.00030861194497067146, -0.00525726054170228, -0.009757894274944334, -0.009837787181466773, -0.0023012230009387125, -0.0034463546608698437, -0.0005169480889435363, -0.01079650205955307, -0.013486229911933378, -0.003765926286896537, -0.009731263306111515, -0.008879072303384916, -0.010556823340026611, -0.008692655521499226, 0.0005482906645140062, -0.014657992540738185, -0.0028072114088155686, 0.0048358766470633086, -0.014045480257507847, 0.006167425088857037, 0.005288603117259427, -0.022753807066821174, -0.00903885811637295, -0.006029558637943744, -0.00552357023007044, -0.010024203963307166, 0.011520249824841677, -0.0063757612327934865, 0.01359746539405382, -0.028399572460001465, 0.010801213666284504, -0.0010761984344780373, 0.00046839775799245587, 0.015355109337206407, 0.002092886856977394, 0.010801213666303155, 0.004463043083368312, -0.00986441815029071, -0.019637983713034046, -0.020570067622286636, -0.007254583204371556, 0.009975653632356085, 0.008404426471066095, -0.011249228529761623, 0.002226041701169912, -0.019531459837695664, 0.008218009689213268, -0.009438322648919417, 0.00129395779190844, -0.008186667113635693, -0.005576832167722756, -0.0011294603721561103, 0.013411048612195664, 0.0011075410100493954, -0.0042985456636213115, -0.0020349133125767693, 0.01405019186427392, 0.012372440827599362, -0.005070843759870769, -0.006881749640680113, -0.002461008813922305, -0.01838632817776542, 0.0008412313216918932, -0.002461008813932075, -0.007547523861591188, -0.018013494614055325, -0.023659260007227623, -0.00275394947114016, -0.013752539600314861, -0.002274592032099676, -0.001475662967020952, 0.003823899831308708, -0.007041535453701897, -0.00025063840059047493, 0.008271271626888677, -0.0029403662529770003, -0.00328656884786227, 0.009043569723128364, -0.005417046354706301, 0.0009477551970453746, 0.017352431999907658, 0.006060901213527536, 0.0019064700751423302, 0.007605497405982042, 0.016420348090631975, -0.01718793458013579, 0.00582122249399486, -0.014098742195179703, 0.0031314946415879064, 0.0077120212813373, 0.0053418650549375, 0.006486996714876625, 0.017751896532439027, -0.01337970603662253, -0.020090710183235494, 0.0073125567488148135, 0.0037173759559543385, 0.009016938754296433, -0.0034463546608636264, 0.0036108520806283906, 0.011546880793686043, -0.010503561402354755, -0.008985596178711752, -0.001422401029342879, -0.0017419726553731252, -0.014391682852389565, 0.009203355536132385, -0.012980241504094714, 0.016819812623181107, 0.002039624919313532, -0.007387738048573844, 0.004702721802910759, -0.010689978184207583, 0.017592110719415466, -0.006162713482111393, 0.005048924397743626, 0.011999607263896372, 0.013570834425203238, 0.002092886856978282, -0.005709987011914386, -0.010610085277695802, 0.011014261416968374, -0.0017153416865349769, 0.01221265501457136, -0.02533701104391639, 0.004223364363846294, 0.02688631884312187, 0.0035309591741077284, -0.00019737646288486843, 0.008271271626890453, 0.01210613113925163, -0.00544367732354889, -0.0031800449725034596, -0.009891049119136852, -0.015190611917455854, -0.0006767339019351226, 0.001746684262106335, 0.007712021281341741, -0.011968264688309027, -0.008026881300650324, 0.018311146877979745, -0.0010229364968008525, 0.002732030109047656, -0.010849763997231143, -0.014205266070537625, 0.009336510380300922, 0.009602820068677076, -0.00893233424104345, -0.013273182161263719, -0.0042452837259379095, 0.016952967467349644, 0.006806568340925523, 0.0035043282052855673, -0.010530192371210667, 0.007658759343652122, 0.003371173361111701, -0.009092120054044805, 0.0037440069247871577, 0.00419673339502058, -0.008319821957806894, -0.0036327714427093483, -0.006429023170468895, 0.0031847565792473276, 0.0007613384151916591, 0.005048924397763166, 0.011280571105334758, -0.01314002731709607, 0.008457688408767261, 0.007605497406010464, 0.010907737541629103, 0.014955644804684809, 0.003850530800130869, -0.008186667113636581, 0.012665381484803007, 0.00853758131524085, -0.013166658285956423, -0.0022479610632570868, -0.005869772824922848, 0.0013472197295882893, 0.01713938424919803, -1.0959681045363823e-05, -0.0063224992951251835, 0.010321856227243131, 0.00057492163334949, 0.0068864612474, 0.009815867819364499, -0.010610085277686032, 0.005102186335429693, 0.006327210901883262, 0.014130084770763496, 0.002359196545339337, 0.017245908124554177, -0.02805336986514373, 0.0101887013830666, 0.005501650867967278, 0.0011608029477221393, 0.009842498788204423, 1.5671287786567234e-05, -0.01135575240508846, -0.00909212005405724, 0.002146148794646585, -0.004644748258476383, -0.0107965020595433, -0.0019283894372348342, 0.021826434764315117, -0.009118751022871407, -0.015483552574652393, -0.006615439952311952, 0.008963676816609478, -0.013592753787301959, 0.01114741626116622, -0.0015289249046714914, 0.01341104861220721, 0.020601410197873093, -0.0006234719642606024, 0.001054279072373987, -0.013326444098945345, 0.004782614709394117, 0.006833199309767224, 0.02989561832156351, 0.014316501552619876, -0.017187934580143782, -0.006349130263972214, -0.008026881300619237, -0.004698010196149127, 0.003451066267605718, 0.013251262799187202, -0.0030202591594825634, 0.004889138584749375, 0.004143471457344283, 0.013198000861508241, 0.009016938754276005, 0.009869129757049677, -0.0028604733464581145, 0.015940990651608367, 0.010934368510459258, 0.0015070055425905338, 0.013091476986152095, -0.0015022939358502185, -0.017587399112682256, -0.00272731850232244, 0.010028915570075903, 0.006646782527899298, 0.0027586610778769227, -0.002487639782787987, 0.004143471457339842, -0.010530192371185798, -0.00520399860402776, 0.013411048612193, 0.012984953110830588, 0.010428380102597501, -0.014258528008196159, -0.013113396348263251, -0.007920357425266644, 0.010135439445391192, -0.015776493231828503, -0.0006501029331174024, -0.0004104242135811731, 0.0026787681713749123, -0.004192021788270495, 0.0003885048514957745, -0.0036327714427066837, -0.003446354660860962, -0.003419723692050347, -0.017800446863358133, -0.0016354487800436246, -0.010769871090717587, -0.00760078579923551, 0.028137974378409147, 0.009735974912855383, 0.00946966522449344, 0.004223364363827642, 0.0057146986186369375, -0.002647425595801778, -0.005017581822176709, -0.003552878536213555, 0.006859830278591161, -0.006349130263963332, 0.00403694758198192, 0.0064071038083790555, -0.01577649323184449, 0.0014004816672521514, -0.009491584586586832, 0.005688067649826323, -0.00448496244545904, -0.019291781118168316, -0.012900348597552735, -0.010556823340014176, -0.00011748355637575258, 0.0038771617689690174, 0.004835876647058868, 0.006513627683734313, -0.004325176632451466, 0.004676090834049518, 0.0010809100412139117, 0.006220687026546656, 0.0029184468908916017, -0.0034996165985363703, 0.00547501989911936, 0.0053684960237943, -0.006482285108156738, 0.01154688079370203, -0.005177367635181618, -0.010663347215369434, 0.0018532081374642573, -0.0066420709211652, 0.0005216596956838515, 0.011040892385814516, 0.01865734947287745, 0.00046839775800489036, 0.016793181654345624, 0.006859830278597379, 0.007312556748770405, 0.016074145495775127, 0.016154038402299342, 0.024995520055776765, 0.010055546538882965, -0.01372590863148293, 0.008271271626869137, -0.00459148632081785, 0.01996226694579928, 0.006247317995368817, -0.0009696745591281086, -0.001449031998173922, -0.0019017584683709288, 0.0030516017350699087, 0.018950290130054448, -0.006881749640687218, -0.007813833549946914, 0.010321856227246684, 0.006220687026509353, 0.0067266754344395, -0.017347720393128263, -0.020916270217161248, -0.0037925572557364617, 0.028803748599279366, 0.013198000861529557, -0.005763248949597788, -0.0031267830348502557, 0.0041701024261824315, 0.005288603117307389, 0.022305792203364483, -0.022034770908241796, 0.00033524291380970794, 0.004249995332688883, 0.00022871903847754282, 0.01016207041424888, 0.00020208806964916448, -0.003020259159504768, -0.013299813130107196, 0.016154038402284243, 0.007898438063197233, -0.004698010196158009, 0.008963676816632571, 0.009123462629618828, 0.02068130310437777, -0.004564855351956609, 0.004436412114531052, 0.005341865054948158, -0.0115688001557821, 0.0075788664371509995, -0.002780580439971203, 0.0045429359898703225, 0.017485586844085077, -0.0009164126214855628, -0.004644748258476383, -0.009784525243786923, 0.011946345326230734, -0.004857796009168247, -0.00041042421356962677, 0.016686657778996583, 0.005714698618644931, 0.019056814005389278, 0.014769228022819547, -0.000410424213585614, -0.0016887107177057104, -0.02443155810347797, 0.009070200691970953, -0.006189344450970857, 0.014476287365630114, 0.00033524291382214244, -0.01061008527770646, -6.422161872876586e-05, 0.007259294811133188, -0.007041535453703673, -0.018013494614030456, 0.011040892385810963, -0.008905703272213294, -0.008879072303349389, 0.004596197927556389, -0.0038990811310624096, -0.00022400743175676752, 0.009496296193341358, 0.005874484431672045, 0.004170102426169997, -0.018759161741452424, -0.00291373528414951, 0.003451066267619929, 0.00917672456732177, -0.008239929051325312, -0.01116933562325162, -0.000756626808456673, 0.005688067649812112, -0.015323766761645707, 0.0038771617689752347, 0.004223364363851623, -0.004990950853329679, -0.0037392953180663824, -0.009385060711257331, -0.011169335623244514, -0.005177367635189611, 0.002146148794656355, 0.007445711592968252, 0.014556180272147223, 0.0013472197295847366, 0.011200678198822978, -0.004298545663615094, 1.5671287815877122e-05, -0.0031800449725123414, 0.00693972318510383, -0.0030202591594976624, -0.0034197236920228136, 0.0009211242282152199, -0.006429023170458237, 0.005315234086120668, 0.005714698618659142, 0.009709343944036775, -0.001502293935857324, 0.020388362447177677, 0.008218009689217709, 0.008830521972438277, -0.014444944790048098, -0.013113396348253481, -0.015190611917454078, 0.0026521372025598566, 0.010481642040255146, 0.00504892439776139, -0.004538224383131784, 0.006486996714884619, 0.01085447560395636, -0.007387738048556969, 0.008138116782705929, 0.004436412114514177, 0.01112078529231475, 0.009469665224501433, -0.011435645311611786, -0.003712664349223793, -0.013992218319844874, -0.0009164126214633583, 0.0033711733611028194, -0.0020881752502299733, 0.008031592907363105, -0.0015022939358537712, -0.009917680087973224, 0.010268594289565058, -0.011994895657150728, -0.003952343068753805, 0.011759928544358367, 0.0008146003528857193, 0.010960999479306288, 0.0020662558881534565, 0.012585488578275239, 0.001773315230938266, -0.018120018489396372, -0.003819188224544412, 0.01221265501457136, 0.002732030109046768, -0.0038990811310828377, -0.0001174835563872989, -0.0038724501622260377, 0.007206032873463997, 0.01719264618687344, 0.001293957791923539, 0.021959589608491648, 0.014795858991659472, 0.017059491342698685, 0.00861747422174286, -0.01758739911269558, -0.004005605006407897, 0.0028385539843798213, 0.008484319377582317, -0.01194163371949486, -0.010157358807490802, 0.002838553984382486, -0.0024610088139374042, 0.002678768171378465, 0.004303257270358962, 0.008750629065941595, 0.008723998097099894, -0.00994431105679272, -0.009172012960561915, -0.0024077468762762066, -0.006136082513295449, -0.003579509505030387, 0.00805822387619859, -0.012367729220861712, -0.015190611917439867, 0.008084854845032297, -0.002514270751619918, 0.01002891557005725, -1.0959681043587466e-05, -0.0008365197149586834, -0.014018849288684798, 0.004596197927555501, 0.0011874339165736103, 0.01269201245363405, -0.018013494614046444, -0.021848354126402292, 6.893322545575842e-05, -0.007068166422544486, 0.014396394459128992, -0.013033503441748806, 0.011147416261157339, 0.0035309591741068402, 0.0012673268230676271, 0.00590111540050664, 0.01218602404573943, 0.01309147698618407, 0.008883783910131449, -0.010929656903716278, 0.0015336365114100303, -0.006562178014668518, 0.009229986504971421, -0.00850623873968015, -0.0043518076012798446, 0.015461633212562553, -0.0059762967002692235, 0.0023591965453517716, 0.011360464011842986, -0.001102829403312633, -1.0959681049804715e-05, 0.0028119230155603248, -0.0037126643492113587, -0.013592753787328604, 0.00491576955357953, 0.01466270414748383, -0.00866602455268417, 0.009789236850529903, -0.009118751022906935, 0.011360464011833216, 0.004649459865214922, -0.02605604720244248, 0.0016667913556212, 0.004809245678236707, -0.009012227147558782, 0.012052869201590433, -0.009065489085222644, -0.011302490467427262, -0.0026474255957715798, -0.009997572994470794, 0.000867862290532706, 0.010162070414247992, 0.013490941518705668, 0.011946345326228958, -0.00717469029788198, 0.020255207603005587, -0.0055768321677343025, -0.008666024552682394, 0.009629451037518777, 0.00014882613194444616, 0.007951700000836226, -0.014178635101701254, -0.0061893444509619755, 0.0055016508679788245, -0.007840464518772627, 0.014529549303290423, 0.0003618738826745016, 0.004249995332668455, 0.0021195178258111014, 0.009096831660817095, 0.0032113875480881404, 0.019562802413265246, -0.002274592032094347, 0.006992985122771245, -0.009251905867097676, 0.012052869201575334, -0.003606140473877417, -0.01564333838764842, -0.002114806219075227, -0.0001707454940769182, 0.0015336365114455575, 0.0004683977580075549, 0.0010276481035385032, 0.00038850485150643266, 0.018976921098888155, -0.0021680681567346483, -0.001102829403323291, 0.0063272109018690514, -0.00573661798073033, -0.004218652757122854, -0.015616707418834253, -0.0051773676351905, -0.0174808752373119, 0.003770637893641293, 0.001054279072404185, -0.004484962445463481, 0.0004151358203188238, 0.008084854845039402, -0.010663347215369434, -0.009544846524274675, 0.009975653632364967, -0.006588808983492456, -0.00613608251328035, 0.0018798391062935238, -0.015536814512310038, -0.0036061404738845226, 0.004755983740547087, 0.019909005008142522, -0.000863150683808378, -0.0016887107176879468, -0.007494261923914003, 0.011067523354645559, 0.006300579933045114, 0.007498973530668529, -0.0014224010293437672, -0.004351807601280733, 0.011626773700193382, -0.00943832264892297, 0.009016938754299098, -0.0007299958396247419, 0.009203355536132385, 0.000921124228235648, -0.01023725171398926, 0.0012939577919013345, -0.023712521944911913, 0.008058223876208359, 0.015461633212551895, -0.010130727838636666, -0.004298545663618647, -0.003872450162238472, -0.008399714864320451, -0.002274592032094347, -0.00019737646286621668, 0.022252530265673975, 0.011120785292310309, -0.009491584586596602, 0.004196733395016139, 0.009869129757030137, -0.004058866944094852, 0.011706666606717597, -0.0008365197149586834, -0.01519061191744342, 0.011839821450894128, -0.01329981313011075, -0.012820455691064048, -0.011435645311598464, 0.013917037020105383, 0.005341865054970363, 0.012106131139255183, -0.0017686036242157144, -0.016442267452761783, 0.000708076477512698, -0.016309112608574594, -0.013992218319830663, -0.0014756629669978594, 0.0111740472299946, 0.0066467825279037385, 0.0029184468908667327, 0.0011341719788955373, -0.0027539494711321666, 0.008004961938537392, -0.004777903102648473, -0.009651370399610393, 0.002678768171373136, -0.017747184925681836, -0.008000250331783754, -0.01708141070480984, 0.006540258652564468, -0.0013691390916727997, 0.0011874339165665049, -0.002540901720440303, -0.00014411452523344082, 0.01663339584133361, 0.0270993665938164, -0.006588808983478245, 0.001799946199770197, 0.00654025865254404, -0.0032333069102001843, -0.00869265552152143, -0.0009696745591423195, 0.0022260417011574773, 0.0011608029477097048, 0.014982275773504306, -0.00011748355638641073, -0.009172012960556586, -0.0044317005077996185, -0.015217242886281568, -0.012234574376673635, 0.0023591965453606534, -0.003686033380411402, 0.004542935989891639, -0.004271914694784051, 0.004409781145690239, 0.006407103808380832, 0.003184756579240222, 0.012612119547148026, -0.0018751274995523204, -0.006668701889998907, 0.006540258652570685, 0.0003885048514957745, 0.012612119547131151, -0.002993628190663955, 0.024090067115350777, 0.014902382866994301, -0.005789879918406626, -0.018359697208917503, 0.002785292046695531, 0.0011608029476892767, 0.0017999461997817434, -0.003446354660876061, -0.004351807601258528, 0.007658759343673438, 0.0031581256104056266, 0.005634805712155355, 0.012399071796431294, 0.0017733152309808986, -0.011275859498595331, -0.01329981313011519, 0.0017733152309613587, -0.0006234719642570496, -0.006855118671856175, 0.002758661077874258, 0.014662704147482941, -0.005363784417042439, -0.015163980948621258, -0.0019017584683762578, -0.014737885447249965, -0.010823133028381449, -0.01772055395685168, -0.013113396348252593, -0.009411691680067058, 0.009416403286839348, 0.002492351389516756, -0.008506238739675709, 0.00981586781936894, 0.003930423706661301, -0.009704632337273367, 0.005022293428933899, 0.023557447738635773, 0.005661436680972187, 0.005581543774453301, -0.002727318502313558, -0.015616707418818265, -0.015350397730475862, 0.009203355536150148, 0.0018532081374358356, 0.009735974912852718, -0.01002420396330539, -0.0006501029331191788, -0.0009696745591325495, 0.020521517291360425, -0.007680678705755284, -0.007227952235552948, 0.004676090834055735, -0.004511593414313175, 0.0014271126360849706, -0.016096064857865855, 0.002545613327200158, 0.004809245678235818, -0.00951821555542498, 0.0028918159220348016, -0.013619384756150765, 0.004463043083364759, -0.013326444098937351, 0.0032380185169289533, 0.007126139966949552, 0.015088799648852458, 0.008510950346416912, 0.0005216596956749697, -0.00808014323829731, 0.000521659695671417, -0.0026207946269529714, -0.014178635101696813, 0.0018532081374562637, 0.0025456133272063752, 0.014689335116328195, -0.0015821868423593344, -0.003845819193390554, -0.0005169480889284372, 0.020548148260202126, -0.008080143238306192, -0.0025409017204296447, -0.0011294603721578866, -0.003606140473866759, -0.0025142707516172536, 0.0015336365114162476, -0.022301080596633938, -0.011835109844151148, 0.00587448443165961, -0.00648228510816562, -0.014418313821217943, 0.009416403286834907, 0.014955644804651058, -0.016442267452726256, 0.00020208806964294723, -0.00672196382767698, 0.006700044465567601, 0.016446979059479006, -0.010689978184219129, 0.012718643422482856, 0.004276626301533248, 0.011493618856015964, -0.00680185673417899, -0.0028871043152998155, 0.010188701383079035, 0.013624096362862659, 0.018870397223543556, 0.004036947582007677, 0.009256617473806017, -0.0032599378790090228, -0.0160428029201789, -0.005603463136568898, 0.007525604499470262, 0.002172779763491839, -0.0009430435902917367, -0.01987766243254807, 0.009735974912867817, 0.012052869201555794, -0.0062426063886400485, -0.012740562784562037, 0.001533636511418024, -0.004884426977994849, -0.012314467283194297, -0.006748594796512464, 0.0021994107323273226, 0.0048891385847564806, 0.0001488261319755324, 0.004223364363846294, 0.020441624384878843, 0.001293957791913769, -0.004138759850594198, 0.005341865054956152, -0.002647425595788455, 0.006833199309761007, -0.014178635101695924, -0.005843141856094469, 6.893322545842295e-05, 0.0002020880696358418, -0.007520892892730835, 0.007925069032018506, -0.015110719010935192, 0.0012939577919075518, 0.0001221951631293905, 0.0037440069248004804, 0.0015602674802881467, -0.01287371762872258, 0.006753306403251891, -0.0036594024115483847, 0.014076822833094305, -0.0017686036242201553, -0.00270068753346564, -0.003499616598534594, 0.008431057439914902, 0.0064071038083692855, -0.015430290636973432, 0.001187433916546965, 0.006433734777207434, -0.006162713482138038, 0.002678768171373136, 0.0013205887607297129, 0.002811923015555884, -0.0097845252437887, 0.001240695854240137, -0.012048157594837683, -0.01907873336747734, -0.014152004132854223, -0.006508916076988669, 0.007791914187849969, 0.0037173759559658848, 0.004090209519659105, 0.0002020880696527172, 0.0007613384151872182, 0.014849120929346427, 0.025900972996185878, 0.00672667543441019, 0.01905681400539283, -0.00717469029786777, -0.0017153416865411941, 0.017512217812890363, 0.005634805712146473, 0.013490941518711885, -0.01604280292019311, -0.005044212791002423, -0.002034913312566111, 0.013544203456361537, -0.004085497912929448, 0.004143471457342507, 0.0002020880696482763, -0.0033131998166853194, -0.009225274898230218, 0.026353699466422853, -0.0036594024115634838, 0.0012939577919262035, 0.0019064700751521002, 0.01769863459476806, 0.0026255062336968393, -0.004644748258476383, -0.007201321266729899, 0.013943667988906228, 0.017272539093392325, -0.0022213300944233794, -0.00512410569751065, -0.012447622127356617, -0.007893726456445371, -0.016495529390430086, 0.005341865054948158, 0.0025189823583708915, 0.004143471457349612, -0.004192021788252731, 0.006007639275860122, -0.004351807601281621, 0.010534903977930554, 0.012771905360134284, -0.007574154830414237, -0.004218652757107755, 0.010082177507728218, -0.00594966573142397, 0.010881106572790955, -0.013805801537995599, 0.009949022663532148, 0.01663339584132828, 0.011919714357373046, -0.01172858596879589, -0.013566122818481574, 0.021160660543411147, -0.006988273516028265, 0.005288603117297619, -0.011861740812975974, -0.001528924904669715, 0.005688067649809447, 0.002811923015540785, -0.008399714864318675, -0.01314002731711561, -0.0021946991255914483, -0.009811156212628624, 0.012825167297811468, 0.006300579933052219, -0.013885694444499386, -0.0035795095050517034, -0.012767193753406403, 0.011227309167641586, -0.005896403793754779, 0.0028651849532224105, -0.016628684234588853, 0.0019064700751352248, -0.0020349133125616703, -0.013725908631490924, -0.001289246185164572, 0.005368496023795188, 0.0043565192080086135, -0.002833842377635065, 0.0034510662675923953, 0.0011075410100493954, 0.007738652250182554, -0.003259937879010799, 0.006513627683733425, 0.00203962491931442, 0.0057146986186520365, 0.007259294811115424, 0.005395126992628896, -0.010876394966038205, 0.009602820068678852, -0.001209353278669667, -0.01196826468831702, -0.010982918841392575, 0.009096831660798443, -0.002434377845100144, 0.003451066267616376, 0.019695957257440888, -0.014391682852375354, 0.013890406051245918, -0.021102686998998976, 0.01474259705400538, 0.00968271297516754, -0.013166658285946653, -0.013406337005475777, 0.014236608646108095, -0.00088978165262521, -0.013859063475661237, 0.010082177507720225, 0.010668058822085769, -0.01529713579279246, 0.011067523354650888, 0.0004151358203232647, -0.005203998604034865, -0.006295868326271936, 0.005048924397756949, -0.005763248949589794, -0.005523570230042019, 0.003823899831308708, 0.011706666606719374, -0.010476930433527265, -0.002620794626965406, 0.0012939577918906764, -0.004511593414290971, -0.010476930433528153, -0.008080143238301751, 0.005954377338163397, 0.009895760725872726, 0.006060901213509773, -0.00432517663243015, 0.004649459865214034, 0.011653404669045742, 0.006859830278579615, 0.0008678622905335942, 0.0097359749128616, 0.0036108520806026334, 0.010135439445403627, -0.006482285108138974, -0.00022400743174166848, -0.017587399112692914, 0.0118664524197305, -0.005363784417047768, 0.004729352771738249, 0.017006229405040152, -0.01377917056917255, -0.00850623873966061, 0.0017200532932708512, -0.003845819193390554, 0.0025456133272019343, 0.0017733152309720168, -0.011648693062283222, -0.022780438035663764, -0.00014411452522899992, -0.013219920223615844, -0.002540901720442079, -0.018093387520552007, 0.013783882175893325, 0.010401749133752247, -0.0025409017204625073, -0.001209353278659897, -0.001315877154000944, 0.0028385539843958085, 0.0011341719789026428, 0.014609442209812862, -0.003286568847847171, 0.010747951728610872, -0.003978974037569749, -0.012474253096190324, 0.00670004446557293, 0.003797268862491876, -0.004138759850590645, 0.0006814455086816551, -0.0028871043153246845, 0.008004961938524069, 0.007179401904623184, -0.019984186307910434, 0.00859084325292958, -0.02539027298156693, 0.004249995332681777, 0.0050222934289196886, 0.013943667988906228, -0.002301223000920949, -0.0020615442813980422, -0.001715341686535865, -0.000943043590288184, 0.019136706911878854, -0.010423668495848304, 0.005554912805625811, -0.009145381991710444, 0.016313824215289152, 0.0010010171346950258, -0.012740562784548715, -0.024298403259301438, -0.009385060711252002, 0.014955644804673263, 0.0043032572703651795, -0.0028604733464794307, 0.0005216596956758579, 0.004542935989862329, -0.01614932679555281, -0.015776493231832056, -0.010157358807497019, 0.0031048636727408763, -0.011462276280450823, 0.01492901383583689, 0.003957054675488791, 0.0042499953326951, -0.010077465900981686, 0.004995662460079764, -0.0015022939358653176, 0.0007347074463428527, -0.008053512269452057, 0.004569566958709359, -0.0022479610632455405, -0.0017419726553757897, -0.0030468901283207117, 0.005741329587491961, -0.0069882735160406995, -0.005736617980750758, 0.000495028726829716, -0.01007746590097991, -0.008532869708509416, -0.007920357425267532, 0.011466987887192026, 0.0007080764775384552, -0.00858613164618216, -0.0028604733464723253, 0.0029450778597412963, 0.010668058822125737, 0.004596197927551948, -0.006615439952319058, -0.0020349133125812102, -0.001395770060510948, 0.0004683977579862386, -0.002487639782768447, 0.00496903149124428, -0.0024876397827853225, 0.018630718504012656, 0.00022871903848198372, -0.002194699125574573, -0.00272731850229313, 0.007019616091614722, -0.008239929051309325, 0.0036374830494487753, 0.002945077859713763, 0.007871807094359085, 0.016580133903656424, 0.010082177507720225, -0.010716609153033296, 0.0009477551970320519, 0.003557590142952982, 0.0011341719789070837, 0.004116840488496365, -0.018865685616805905, -0.006988273516009613, 0.004622828896376774, 0.008457688408746833, 0.005022293428911695, 0.007445711593010884, -0.009731263306117732, -0.0015555558735167452, -0.0024077468762717658, 0.00853758131526039, -0.0015289249046963604, 0.008564212284080774, 0.009283248442647718, 0.015967621620445627, -0.0015821868423602226, -0.009198643929388517, -0.009065489085227973, 0.006913092216269234, -0.0024876397827604535, 0.006966354153929544, -0.015084088042124577, -0.01111607368558154, 0.0011608029477274684, 0.009203355536143931, -0.002966997221812484, -0.006269237357463986, 0.010401749133733595, 0.009016938754283998, -0.00839971486433111, -3.759064988084759e-05, -0.00885244133454055, 0.0028385539843709395, -0.003153414003683963, -0.014737885447236643, 0.02265199479821156, 0.0023858275141792618, -0.009411691680086598, 0.003797268862466119, 0.010188701383051502, 0.0005482906644962426, -0.0059496657314275225, 0.0028651849532232987, 0.01620730033995965, 0.00041513582032859375, -0.005736617980731218, 0.012718643422473086, -0.004271914694781387, 0.0057413295874733095, -0.005949665731424858, -0.005949665731413312, -0.027414226613050374, -0.015430290636987642, 0.00853758131521154, 9.556419429745944e-05, 0.0073125567487997145, 0.01207950017041437, 0.0057679605563247804, -0.007973619362946494, 0.007046247060435107, 0.010055546538871418, -0.011728585968784344, 0.007046247060447541, 0.0005216596956651998, 0.008590843252924252, -0.008213298082472065, 0.02006879082114832, -3.759064988262395e-05, 0.016793181654339406, -0.015030826104437622, 0.0040902095196875266, 0.009016938754282222, -0.01063671624652418, -0.00600292766909849, -0.011142704654393931, 0.01942964756910559, -0.007547523861566319, 0.006753306403248338, -0.004192021788283817, 0.014689335116336188, -0.0076540477369020365, 0.01295832214199688, 0.013171369892678975, 0.004489674052188697, -0.0008365197149631243, 0.009416403286849118, 0.01780515847010289, 0.022492208985201323, 0.0023325655765153996, -0.0030202591594932215, -0.009145381991759294, 0.005661436680981069, 0.00507555536659865, -0.015723231294177076, 0.011333833043017272, 0.021826434764312452, 0.011253940136494833, 0.012825167297804363, 0.0014004816672565923, -0.011994895657147175, 0.007046247060437771, -0.007787202581089225, 0.00992239169471798, 0.007046247060427113, -0.015616707418836917, -0.0032333069101797562, -0.002966997221822254, 0.018763873348198068, -0.020064079214392017, 0.014742597054004491, 0.004090209519645782, 0.0009211242282054499, -0.0060029276691402345, 0.0025189823583469106, -0.01694825586061466, -0.00022400743172923399, 0.004915769553585747, -0.011622062093457508, 0.015940990651598597, -0.014524837696571424, -0.0142851589770423, 0.0014803745737488327, 0.011733297575546864, -0.010130727838647324, 0.010055546538895399, 0.008590843252913594, -0.013965587351018272, 0.0008678622905300415, -0.0068817496406943235, 0.00419673339503035, -0.01127585949859089, 0.023317769019102208, -0.0018218655618813528, -0.005443677323540896, -0.0007566268084424621, -0.0032599378790338918, -0.01306013441060383, -0.019265150149345267, -0.0014224010293544254, 0.006540258652574238, -0.0036860333803874212, -0.024404927134650478, 0.014289870583807485, -0.0032599378790081346, -0.006002927669109148, 0.012345809858777201, -0.011462276280439276, -0.006349130263975766, -0.01867926883494686, 0.008377795502235053, 0.02502215102461136, -0.007440999986233265, -0.007547523861582306, -0.006508916076968241, 0.010881106572790067, -0.006162713482106064, -0.004911057946825004, -0.0013425081228408686, 0.0027320301090245636, 0.01120067819882209, -0.00464474825845862, -0.012953610535237914, -0.00552357023006067, -0.006455654139315925, -0.013113396348252593, 0.0013738506984006804, 0.0005749216333361673, 0.019323123693743227, -0.008053512269463603, 0.002891815922041019, 0.009043569723124811, 0.0007347074463632808, 0.01836440881566581, 0.008697367128258193, 0.018843766254724947, 0.006140794120024218, 0.0027320301090298926, -0.009518215555418763, 0.001693422324443361, 0.0021727797634847335, -0.0019550204060578835, 0.01367735830056116, -0.0011827223098155315, 0.0018532081374385, 0.011014261416988802, -0.0007033648707777118, 0.01820462300263692, 0.016580133903654648, -0.0012892461851716774, 0.009309879411480537, 0.0020396249193312954, 0.013650727331715906, -0.006349130263967773, 0.019829112101635182, 0.005341865054942829, -0.01929178111815677, -0.008985596178714417, -0.0038458191934074293, -0.01582975516950924, -0.010876394966063074, -0.01649552939042298, 0.0005749216333299501, -0.010929656903737595, 0.006007639275837917, 0.008750629065953142, 0.0038238998313104844, 0.015408371274890698, 0.006726675434426177, 0.0009743861658737529, -0.008559500677347565, 0.001187433916552294, 0.00797833096969569, 0.0029983397973891712, -0.023925569695595783, -0.0025409017204527373, 0.003823899831314037, 0.0024390894518564465, -0.02365926000724272, 0.009176724567306671, 0.0013472197295882893, 0.0008678622905469169, 0.010694689790950562, 0.0008412313216936695, -0.005683356043074461, 0.011919714357379263, 0.007951700000846884, 0.01183982145089768, 0.01639371712179294, 0.012478964702948403, 0.004276626301516373, 0.010907737541618445, -0.008026881300630784, -0.007094797391372865, -0.005337153448212284, 0.0005482906645086771, 0.009203355536132385, -0.013140027317110281, -0.02030375793393091, -0.024245141321649122, 0.0014004816672530396, 0.0009211242282063381, 0.0003885048515170908, 0.00217277976348651, 0.014795858991673683, -0.033992075915541875, 0.0037706378936368523, -0.005337153448222054, 0.002705399140205955, 0.0036641140182727128, 0.000867862290527377, -0.029118608618580843, -0.007867095487608111, -0.0007299958396194128, 0.009443034255649962, -0.009118751022898053, -0.0068284877030011515, -0.009464953617762006, -0.006162713482114945, -0.0021148062190912142, 0.0021461487946483615, -0.014391682852385124, -0.004591486320805416, -0.003712664349232675, -0.0008631506837870617, 0.008164747751548518, -0.025656582669927985, -0.005949665731411535, -0.008266560020154579, -0.01694825586061821, -0.0014490319981828037, -0.003046890128332258, -0.014258528008203264, -0.008532869708504975, -0.0015555558735282915, -0.0028871043153007037, -0.0044849624454528225, -0.009145381991720214, -0.009917680087972336, -0.002540901720461619, 0.006886461247430198, 0.00036187388265229714, -0.009731263306126614, 0.003477697236433208, -0.00392571209988013, 0.005421757961467932, -0.0026474255957857906, -0.007574154830424007, 0.00014882613196398609, 0.01620730033995521, -0.0006234719642579378, -0.006189344450949541, 0.016367086152982324, 0.003957054675492344, -0.0017419726553891124, -0.009731263306122173, -0.010423668495861627, 0.001720053293269963, -0.00690838060952359, -0.004671379227302985, 0.0004683977579995613, -0.014871040291406956, 0.008777260034773526, -0.020463543746961577, 0.005315234086131326, -0.0032865688478489474, 0.013943667988923103, 0.010561534946763373, 0.0033445423922655593, -0.012207943407840816, -0.002221330094421603, -0.017667292019202918, -0.00805351226945561, 0.0031048636727364354, -0.004351807601268298, 0.006007639275860122, 0.0024923513895087623, 0.002039624919303762, 0.009443034255657956, -0.014152004132849783, 0.009629451037521441, 0.004010316613153542, 0.014050191864275696, -0.01132912143627074, -0.014471575758890687, -0.0011560913409729423, 0.012665381484808336, 0.015168692555383778, 0.011546880793700254, 0.005528281836804538, -0.0019017584683780342, 0.008537581315248843, -0.006322499295149164, -0.005124105697504433, 0.0012673268230658508, -0.011435645311598464, 0.0036374830494638744, 0.009949022663537477, 0.019695957257463093, -0.005736617980750758, 0.00752560449950046, 0.005767960556330998, 0.004942400522402579, 0.003104863672724889, -0.006029558637954402, -0.005203998604015325, 0.0032646494857555552, -0.0011827223098350714, -0.003632771442707572, -0.01023725171398926, 0.021320446356440037, -0.007760571612243972, 0.005022293428926794, 0.0019863629816487816, 0.005767960556335439, 0.008723998097088348, 0.008058223876215465, 0.009522927162192829, 0.0031048636727506462, 0.02065467213552541, -0.014391682852373577, 0.0165801339036582, -0.012634038909209444, 0.00928324844264683, 0.003131494641570143, 0.0004151358203268174, 0.004170102426176214, 0.006460365746058905, 0.016074145495766246, -0.0021414371879098226, -0.004032235975246934, -0.00459148632079831, 0.0021195178258324177, 0.0005482906645104535, 0.012186024045777621, -0.004964319884500412, -0.008452976802001189, -0.007654047736934899, -0.007121428360225224, -0.00965137039961661, -0.003739295318065494, -0.0002506384005638296, -0.009837787181446345, 0.017565479750588864, -0.011888371781815898, -0.005523570230065111, 0.008750629065930049, -0.0023012230009298307, 0.0021727797634945034, -0.002993628190644415, -0.004458331476618227, 0.0017200532932815094, 0.002945077859725309, 0.0004950287268474796, -0.0028338423776412824, -0.0001174835563748644, -0.004511593414283865, 0.0007347074463481817, 0.006167425088856149, 0.008910414878942063, 0.002625506233704833, 0.017112753280379422, -0.01393895638217657, 0.007791914187825988, -0.0037659262868983134, 0.016793181654345624, 0.0007347074463321945, -0.004698010196150015, 0.012905060204331242, -0.0159096480760077, 0.009043569723123923, -0.005283891510535987, 0.016580133903666194, 0.009709343944023452, 0.007232663842276388, -0.007627416768090534, -0.017880339769868137, 0.006939723185114488, -0.0060295586379419674, 0.005182079241941473, 0.0038238998313104844, -0.0019816513748995845, 0.0017733152309817868, -0.03668180376793373, 0.009709343944016346, -0.013779170569170773, 0.0025722442960338654, 0.005794591525155823, 0.003291280454596368, -0.005230629572865908, 0.022572101891721097, 0.009363141349135518, -0.005550201198900595, 0.002785292046725729, 0.016127407433442542, 0.012532226640618482, -0.010956287872569526, -0.00027726936940286606, 0.01506216868001875, -0.00874591745918707, 0.012452333734113807, -0.0021414371878982763, 0.01932312369374589, -0.02286033094217821, -0.004564855351993025, 0.01343767958104003, 0.001187433916567393, 0.007578866437148335, 0.011946345326224517, 0.007019616091604952, -0.007307845142056735, 0.0007080764775215798, -0.005789879918401297, -0.013752539600312197, -0.0015821868423717689, 0.00638047283954446, 0.005581543774474618, -0.002887104315322908, 0.016100776464599953, -0.018652637866126476, 0.005608174743295002, -0.0004370551824237623, 0.009682712975187968, 0.014502918334486026, 0.004383150176862749, 0.0049956624601028565, 0.0010809100412236816, 0.01178655951322849, -0.010689978184196924, 0.015940990651589715, -0.0032066759413442725, 0.006353841870694765, -0.0038458191934047647, 0.002811923015552331, -0.0024610088139391806, -0.011435645311609122, 0.01301158407965275, -0.011169335623253396, 0.02041499341602737, -0.0022479610632561986, 0.00579459152514783, -0.021182579905496546, 0.003957054675471028, 0.009469665224489887, 0.0009477551970267228, -0.013459598943112105, 0.010987630448116903, 0.015568157087880508, -0.005044212791010416, -0.02424514132164024, -0.011888371781822116, -0.006855118671849958, -0.02214129478359972, -0.0003571622759031001, -0.0003305313070605109, -0.004644748258485265, -0.00752089289273794, -0.003472985629692893, -0.014178635101687043, 0.030481499635964582, 0.0006015526021787565, 0.0006548145398275196, -0.010077465900986127, -0.015696600325346033, 0.011706666606728255, -0.002354484938594581, 0.009469665224496993, -0.0022745920320836888, -0.0010761984344807018, 0.001560267480255284, -0.009358429742409413, 0.008191378720376008, -0.0067752257653328485, -0.003686033380400744, -0.007600785799248833, -0.0004636861512530288, -0.00653554704579129, -0.011568800155774106, -0.004884426977985967, 0.012265916952267197, -0.0022479610632410996, -0.013859063475659461, 0.011839821450895016, 0.013331155705690101, -0.0005435790577577038, 0.005901115400510193, 0.0013738506984104504, -0.0053105224793634775, 0.008857152941281754, 0.02827112922259367, -0.004937688915672034, -0.006109451544454636, 0.0011608029477336856, -0.023313057412376104, 0.011413725949521059, -0.004431700507767644, -0.014258528008203264, 0.014982275773493647, -0.008799179396873136, 0.01042838010257352, -0.0042452837259281395, 0.010348487196092826, -0.0061893444509468765, 0.007126139966961986, -0.002647425595777797, 0.008537581315234632, -0.0038458191934145347, -0.011595431124614919, 0.003584221111778696, -0.013779170569154786, -0.001049567465654988, 0.014476287365631002, -0.007227952235560053, 0.005475019899111366, 0.0037440069247862695, -0.003632771442728888, 0.002625506233695951, -0.001528924904683926, 0.008697367128258193, -0.013512860880790178, -0.0060828205756102705, -0.003180044972496354, -0.002674056564613281, -0.0046181172896408995, -0.004005605006396351, -0.006961642547190117, 0.006966354153946419, -0.008133405175978048, -0.00898559617871264, -0.010476930433521936, -0.014737885447235755, 0.010162070414251545, -0.012847086659909301, -0.005949665731418641, 0.0009211242281983445, -0.009464953617775329, 0.004596197927557277, -0.006242606388616068, -0.004591486320783211, -0.006189344450962864, -0.0006767339019377872, -0.00816003614480909, -0.0018218655618813528, -0.005843141856072265, -0.010982918841405898, -0.01122259756092081, 0.0039037927378062776, -0.004005605006406121, 0.0010542790723953033, 0.01090773754165486, 0.034263097210614823, 0.0025988752648409275, -0.007680678705762389, -0.0026474255958062187, 0.008510950346418689, 0.0018265771686332144, -0.0017952345930520863, -0.0029669972218142604, -0.022194556721281344, -0.0021946991255878956, 0.006966354153935761, 0.00510218633545545, -0.005230629572858803, 0.004862507615897904, 0.0026255062337119384, 0.00632721090187971, 0.014423025427955594, 0.0008146003528706203, -0.008399714864319563, -0.008186667113633028, 0.0011075410100485072, 0.012478964702948403, 0.016180669371133938, 0.0037706378936421814, 0.0015070055426091855, 0.012292547921101793, -0.011355752405092012, -0.0039257120998836825, -0.01689499392294458, -0.01194163371948509, 0.0021994107323317635, -0.005203998604025983, 0.005581543774470177, -0.008026881300607691, 0.02020194566533995, 6.89332254522057e-05, 0.0028918159220596706, -0.005869772824931729, -0.006828487703029573, -0.008692655521513437, -0.0013425081228284341, 0.012665381484807448, 0.007179401904625848, 0.0010542790723713225, -0.011675324031127587, -0.003606140473885411, 0.0048358766470633086, 0.008723998097100782, 0.011893083388550885, 0.016154038402288684, 0.0025722442960454117, 0.013064846017321052, -0.007041535453690351, -0.0007832577772877158, -0.010263882682839842, -0.014418313821237483, -0.022833699973319632, 0.003690744987105532, 0.014476287365631002, 0.013171369892678975, 0.0019597320127928697, -0.007094797391383523, 0.018231253971492833, -0.019611352744182575, 0.0022793036388222276, 0.016233931308809346, -0.001156091341001364, 0.02643359237290177, 0.003930423706651531, -0.025470165888081375, 0.0008146003528652912, -0.00784046451874687, 0.007712021281341741, -0.0004104242135731795, -0.0032333069101859735, -0.0020881752502166506, -0.0034463546608742845, -0.016255850670888528, 0.007472342561809953, 0.011946345326230734, 0.008004961938529398, -0.006109451544449307, -0.0022213300944242675, -0.002540901720461619, 0.006114163151189622, 0.010588165915622838, 0.006593520590246982, -0.01894557852332568, 0.014875751898150824, 0.0032113875480881404, -0.0012093532786838779, -0.012181312439014214, 0.010774582697475665, 0.0074723425618197226, -0.010237251714014128, 0.0038771617689690174, -0.011568800155789205, -0.014684623509562122, 0.02302482836192521, 0.016260562277619073, -0.007494261923898016, 0.0010276481035598195, 0.010082177507734436, 0.021746541857800672, 0.00832453356455698, 0.016340455184129965, -0.01726782748664757, -0.006136082513263474, 0.007046247060424449, -0.009571477493106606, -0.005283891510535987, 0.0056614366809837335, -0.014338420914719485, -0.00014411452522011814, -0.009118751022875848, 0.013251262799194308, 0.00329128045458571, -0.006349130263942904, 0.00406357855082895, 0.0020662558881330284, 0.006220687026539551, -0.005550201198881943, 0.0010276481035589313, -0.0021414371879089344, -0.008958965209873604, 0.013757251207064947, -0.0009963055279804678, 0.0008944932593832888, 0.001693422324447802, -0.0055502011988828315, 0.0036641140182975818, -0.022647283191492562, 0.013730620238228575, 0.023557447738635773, 0.013091476986161865, 0.003264649485764437, -0.005044212791002423, 0.019695957257451546, 0.0038771617689699056, 0.022705256735888746, 0.019802481132787264, 0.011147416261164445, 0.007206032873456003, -0.013725908631490924, -0.007654047736925129, 0.007445711592970916, 0.002172779763497168, -0.016309112608568377, -0.004831165040338092, 0.004755983740576397, -0.005017581822163386, -0.0034729856297106565, 0.0038238998313122607, -0.006056189606779228, 0.006859830278584056, -0.00030390033824989615, 0.018204623002638698, 0.004170102426177991, -0.00789372645644093, 0.0102685942895695, 0.015355109337214401, 0.005741329587490185, 0.0028918159220348016, -0.00022400743174255666, -0.0005169480889346545, 0.021187291512244855, 0.0015602674802730476, 0.0004417667891578603, -0.0009164126214527002, 0.0012140648854126468, -0.008080143238296422, -0.00025063840056027686, 0.01964269531976548, -0.009891049119125306, -0.005017581822164274, 0.0010010171346994667, -0.0007299958396096429, 0.008857152941275537, -0.007387738048567627, -0.019185257242819276, -0.009331798773547284, -0.0009164126214624702, -0.005417046354726729, -0.0096780013684441, 0.004249995332686218, 0.0008944932593735189, 0.0012939577919155454, 0.0022260417011619182, -0.015776493231841826, 0.01596762162043852, -0.0017153416865216542, 0.015355109337208184, -0.00855950067734046, 0.009043569723116818, 0.0006814455086985305, -0.005630094105410599, 0.02451616261675138, -0.01399221831985109, -0.00581651088726165, -0.0037925572557249154, 0.0025722442960143255, -0.005044212791005975, -0.0072013212667192406, 0.002332565576506518, 0.0024923513895203087, -0.01337970603664207, -0.008905703272188426, 0.0008678622905380351, 0.010774582697444579, -0.004431700507780967, -0.00746763095507319, -0.011941633719508182, 0.006460365746064234, 0.01724590812456661, 0.011733297575543311, 0.011280571105316106, 0.008058223876187931, -0.007201321266713023, 0.012399071796432182, -0.0007566268084486794, 0.0022526726699902966, -0.001262615216332641, 0.027205890469153893, -0.009464953617752236, 0.011680035637867014, -0.0031534140036821867, 0.010428380102574408, -0.0017952345930485336, 0.0011341719788910964, 0.002945077859724421, 0.007179401904625848, 0.019323123693754773, -0.007654047736915359, 0.0081647477515423, 0.00028198097615295126, 0.0091500935984552, -0.002594163658120152, 0.002279303638834662, -0.0158830171072033, 0.019722588226270155, 0.005554912805634693, -0.016442267452732473, 0.013490941518719879, -0.002833842377643947, -0.012500884065032913, -0.002966997221808043, -0.0035528785361993442, -0.011275859498599772, -0.00195502040604989, -0.017773815894520872, 0.0016401603867581827, -0.004112128881757826, 0.002625506233695951, -0.0210227940924943, -0.006402392201640517, -0.008186667113657897, -0.011435645311598464, -0.0028871043153184672, -0.01577649323184893, -0.011941633719488642, -0.024724498760684277, 0.0024124584830049756, -0.0005435790577568156, 0.01455618027215344, -0.018199911395893942, 0.0031847565792366694, -0.005470308292398585, -0.0066420709211749696, 0.005528281836792992, -0.02424514132162159, 0.0032646494857564434, -0.0006234719642606024, 0.008351164533412891, -0.007041535453706338, 0.014289870583781727, -0.0014756629670182875, 0.004542935989862329, -0.005656725074255853, 0.0021461487946643487, -0.008692655521506332, 0.00345106626760483, 0.0026521372025243295, -0.00014411452521656543, -0.007307845142053182, -0.02310000966168335, -0.0059230347625955915, 0.01298495311081993, -0.010343775589363169, -0.01180847887531744, 0.004063578550831615, 0.0064337347772260856, -0.0014224010293446554, 0.019456278537941962, 0.015861097745108133, 0.001799946199784408, -0.006136082513284791, -0.02152878250038892, 0.011147416261184873, 0.01346431054985775, 0.006114163151185181, -0.006588808983483574, 0.007578866437164322, -0.020090710183255922, -0.009225274898223113, -0.012048157594825248, 0.005421757961446616, 0.008777260034782408, -0.01111607368558687, 0.0005749216333326146, -0.021342365718539646, 0.007605497405980266, 0.0009477551970311637, 0.0027586610778946863, -0.0018218655618893465, 0.007126139966956657, 0.019216599818398628, 0.013730620238223246, 0.009336510380324903, 0.012345809858755885, -0.005603463136574227, -0.015190611917452301, -0.017294458455491935, 0.006886461247436415, 0.009389772318017187, 0.006806568340917529, 0.004596197927554613, 0.005954377338166061, 0.006726675434420848, -0.004431700507801395, 0.004569566958699589, -0.014631361571911583, 0.004915769553591076, 0.019403016600251455, -0.005017581822182038, 0.0010542790723748752, -0.010050834932157748, 0.006167425088865031, -0.010370406558172895, -0.0018484965307328238, -0.006429023170467119, 0.004116840488518569, 0.012186024045711896, 0.004489674052207349, 0.0032113875481041276, -0.0007299958396114192, -0.0013158771539956149, 0.016686657779009018, 0.011227309167656685, 0.0012939577918995582, -0.00962473943077935, 0.010534903977939436, 0.0062206870265377745, -0.009571477493105718, -0.004271914694774281, 0.005022293428917024, 0.010881106572790955, 0.0018265771686101218, 0.0012406958542365842, 0.02118729151226617, -0.005523570230043795, -0.0033664617543740505, 0.011786559513214279, 0.00869736712827418, 0.0010542790723819806, -0.0004104242135678504, 0.015701311932074802, -0.024325034228145803, -0.0032333069101797562, -0.008586131646167061, 0.007978330969688585, 0.003158125610402962, 0.020414993416014937, -0.003046890128322488, 0.0022793036388408794, 0.002439089451843124, 0.003957054675495009, 0.008590843252911817, -0.006375761232806809, -0.012101419532515756, 0.004223364363864057, 0.0011341719788857674, 0.0038771617689903337, -0.00307352109716863, -0.007414369017390676, 0.012186024045745647, -0.018732530772614275, 0.0017733152309418188, -0.011728585968804772, 0.014023560895428666, 0.009549558131007885, -0.0011827223098093143, -0.008239929051330641, -0.007707309674596097, -0.01753413717498553, -0.003952343068738706, 0.009922391694695776, -0.004671379227304762, 0.000495028726814617, 0.0038238998313016026, 0.0007879693840120439, 0.007498973530635666, 0.0014803745737514973, -0.010077465900959481, -0.013592753787300182, -0.0074942619238971275, 0.0004950287268279396, -0.004032235975271803, -0.009757894274962986, 0.0016667913556238645, 0.014689335116306879, 0.008004961938527622, 0.007498973530655206, 0.007285925779956237, -0.015803124200678198, 0.01077458269746856, 0.007179401904600091, 0.01998889791463032, -0.011595431124610478, 0.002891815922056118, 0.005368496023782754, -0.01148890724928453, 0.015168692555351804, 0.02957604669551639, 0.008963676816616584, 0.011466987887176927, -0.022860330942175544, -6.422161870212051e-05, -0.006642070921183851, 0.007632128374843283, -0.004964319884504853, -0.005310522479350155, 0.01285179826666294, -0.0016887107176897231, 0.006566889621387517, -0.0032865688478533883, -0.005177367635209151, -0.007600785799263043, -0.0011028294033001984, -0.013166658285920008, 0.0028385539843869267, -0.004271914694780499, 0.003104863672724001, -0.007654047736922465, -0.008026881300636113, -0.0012359842474714, 0.013411048612208099, -0.0035795095050277226, 0.0024657204206919303, 0.009682712975192409, -0.015510183543494094, -0.004484962445456375, 0.00417010242616378, 0.01101426141696571, 0.008138116782712146, -0.006828487703005592, 0.0082979025957437, -0.008373083895492073, -0.025763106545277026, 0.011813190482039104, -0.0018218655618937873, -0.0008631506837808445, -0.009651370399598846, -0.002940366252975224, 0.020281838571849953, 0.017299170062224256, -0.019771138557226564, 0.0010010171347278884, -0.0048577960091753525, 0.007046247060453759, 0.0029717088285838855, -0.00429854566361243, -0.01345959894313431, 0.004329888239181123, -0.007733940643448456, -0.0008897816526172164, -0.003765926286916077, -0.0011827223098288542, -0.0012093532786527916, 0.0027586610778804754, 0.007046247060451094, -0.00882581036569352, 0.020175314696484925, 0.005741329587482191, -0.002913735284162833, -0.01966461468188907, 0.005235341179603559, 0.010960999479310729, -0.01380580153799027, 0.0030516017350894487, 0.014875751898171252, 0.003823899831318478, 0.020175314696493807, -0.005550201198875726, -0.004351807601276292, 0.008404426471062543, 0.010854475603979452, -0.009198643929394734, -0.01700151779827941, 0.013917037020068967, 0.0037440069248013685, 0.004463043083363871, 0.001906470075111244, 0.014662704147482941, -0.014897671260255763, -0.01377917056916278, -0.004618117289641788, 0.004622828896382991, -0.0046713792273287424, -0.0030468901283153826, 0.008990307785429863, -0.004777903102652026, -0.012554146002730526, 0.004889138584749375, 0.0018532081374473819, -0.013140027317097847, 0.004969031491247833, 0.008138116782702376, 0.0011874339165744985, 0.00395705467547991, -0.010583454308877194, 0.010321856227242243, 0.015142061586529643, 0.01223928598342372, -0.005496939261210976, -0.005709987011903728, 0.00952292716215819, 0.004223364363831195, -0.00941169168008571, -0.005363784417032669, 0.008777260034774415, -0.0028072114087898115, -0.005044212791023739, 0.010774582697472113, -0.018705899803777903, -0.014018849288667035, -0.0003305313070738336, 0.002811923015541673, -0.0011560913409907059, -0.0011827223098350714, 0.006992985122786344, -0.0022213300944233794, -0.004644748258491482, -0.018226542364740972, -0.007520892892741493, -0.025656582669928873, 0.0016401603867466363, 0.015301847399526558, -0.001369139091659477, 0.008351164533380917, -0.008479607770830455, 0.014076822833086311, 0.0029717088285501347, 0.00483587664706242, 0.01815136106496773, 0.007259294811108319, 0.008377795502207519, -0.01010409686982694, -0.010290513651672661, -0.006136082513273244, -0.002354484938635437, 0.0016934223244495783, 0.0020396249193259663, 0.017885051376610228, 0.009602820068667306, -0.0016088178111868245, -0.007627416768115403, -0.01199489565715961, -0.011888371781807905, 0.009496296193344023, -0.004538224383132672, 0.0014271126361027342, -0.002833842377638618, -0.0022479610632704095, 0.0026255062336915103, 0.011813190482063085, -0.009385060711250226, 0.001959732012814186, 0.0052886031172807435, -0.008719286490361355, 0.004569566958719129, -0.004724641164982835, 0.004063578550834279, 0.009735974912867817, -0.01103618077909907, -0.007574154830424895, 0.010428380102592172, -0.0012093532786483507, 0.005022293428925906, -0.020197234058579205, -0.02408535550860691, -0.011515538218109356, 0.006566889621423044, -0.0013957700604985135, -0.01745424426849329, 0.009443034255684601, -0.0028604733464838716, 0.004090209519671539, 0.0010010171347216712, 0.004889138584760033, 0.004063578550846714, -0.003952343068739594, -0.008293190988970522, 0.008138116782702376, 0.002758661077868929, 0.003344542392254901, -0.00011748355638641073, -0.012873717628719916, 0.0005216596956696407, 0.015221954493044088, 0.013357786674511374, 0.005581543774477282, -0.011595431124625577, 0.008990307785452956, -0.013539491849639873, -0.0030735210971508664, -0.007574154830419566, -0.017587399112688473, 0.019110075943056692, -0.008932334241041673, 0.006300579933050443, 0.006327210901871716, -0.011675324031117817, 0.012425702765277435, 0.0014004816672281706, -0.00310015206600589, -0.007520892892754816, -0.0007566268084486794, -0.001555555873510528, 0.007179401904639171, -0.0009164126214651347, -0.012048157594832354, 0.00291844689088272, 0.017352431999904994, -0.0011560913409791596, -0.007494261923911338, 0.009096831660798443, -0.004058866944093076, 0.0023591965453224617, 0.00012219516312406142, -0.001768603624194398, 0.0030782327039400315, -0.0032599378789965883, 0.002998339797398053, 0.0003086119449893232, 0.0003352429138159252, 0.0056348057121322626, 0.00036187388265229714, 0.006593520590226554, -0.006482285108153185, -0.008532869708506752, 0.008191378720391107, 0.0025988752648622437, -0.011409014342770085, -0.005896403793751226, 0.00776528321901182, 0.012958322142001322, 0.015301847399546098, -0.01348622991199111, 0.007072878029283913, -0.00427191469478494, -0.006402392201630747, 0.00606090121351599, 0.02214600639034625, 0.008777260034775303, -0.0018484965307097312, 0.006407103808382608, 0.011999607263904366, -0.003792557255716922, 0.00012219516313471956, -0.013086765379412668, 0.013517572487558027, -0.0029403662529787766, 0.0039836856443304924, -0.0005968409954455467, -0.0038458191933932184, -0.0011560913409942586, 0.01761874168826605, 0.021134029574593427, -0.009305167804718906, 0.0001754571008021344, -0.013246551192445999, 0.006886461247431086, 0.00014882613195865702, -0.014711254478414482, -0.007867095487635645, -0.007654047736932235, -0.004964319884488866, 0.01996226694579306, 0.00611416315120028, -0.025709844607625598, -0.0015555558735229624, 0.005634805712140256, 0.00507555536659865, 0.004942400522422119, -0.01271393181571323, -0.0031800449725079005, -0.008932334241041673, -0.00051694808892222, -0.0011028294033046393, 0.012052869201565564, 0.004782614709416322, 0.015967621620446515, -0.00730784514205407, -0.009704632337260932, 0.01301158407966252, -0.009225274898235547, -0.01010409686983671, 0.005261972148430161, 0.01061479688443967, -0.006136082513292784, 0.0010809100412263462, 0.01157351176252508, -0.0012359842474989335, 0.001080910041215688, -0.00038379324475368293, -0.010636716246546385, -0.004112128881760491, -0.0014490319981872446, -0.013752539600316638, 0.009203355536134161, -0.012740562784569143, 0.0003352429138283597, 0.006913092216278116, 0.00044176678915430756, -0.004831165040326546, -0.01921188821166009, -0.008106774207151446, 0.005475019899118472, 0.006353841870701871, 0.022412316078711747, -0.011169335623254284, -0.0036594024115608192, -0.010849763997219597, 0.00038850485148689273, -0.005656725074235425, -0.00405886694408597, -0.006748594796511576, -0.0035528785362020088, -0.006375761232788157, -0.0041653908194332345, -0.009678001368451206, 0.0023325655765109587, 0.004489674052190473, -0.003952343068751141, 0.0017200532932877266, 0.005981008307012203, 0.005847853462835673, -0.006109451544428879, -0.004032235975267362, 0.009123462629626822, -0.017880339769864584, 0.016367086152942356, 0.01636708615295923, -0.015004195135588816, 0.00510218633543591, 0.0025189823583620097, 0.008723998097099894, 0.01397029895775237, 0.007845176125497844, -0.012687300846875083, -0.0025941636581254812, -0.0023544849385821465, -0.005869772824929065, -0.014231897039345576, -0.0078937264564658, -0.013992218319827998, 0.0028119230155576602, -0.002993628190653297, 0.012186024045758082, 0.008191378720371567, -0.002647425595813324, 4.23022566344855e-05, 0.0029184468908898253, 0.0007879693840306956, 0.007392449655306166, 0.008431057439900691, 0.013544203456381965, -0.002061544281390937, -0.007707309674585439, -0.027680536301455838, 1.5671287775909093e-05, 0.000894493259374407, 0.00414347145732652, 0.006220687026530669, -0.004538224383113132, -0.016335743577402084, -0.0006767339019466689, -0.01990429340140132, -0.00800025033178553, 0.006087532182355915, -0.002567532689288221, -0.009864418150295151, 0.00808485484504562, 0.015514895150241514, -0.004271914694762735, -0.0008631506837852854, -0.0013158771540044967, 0.0040369475820041245, 0.0028119230155576602, -0.0022745920320836888, 0.0074723425618046235, -0.02488428457368208, -0.01564333838767684, 0.011893083388565096, 0.0112006781988363, 0.009416403286830466, 0.007179401904617855, 0.010455011071418774, -0.013992218319842209, -0.0025675326892793393, -0.00046368615127168056, -0.0048577960091718, -0.007041535453693015, -0.001369139091649707, 0.0003618738826496326, -0.011036180779057325, 0.004463043083384299, 0.001480374573749721, -0.0015555558735327324, -0.0024077468762744303, 0.0007879693840218138, -0.007121428360189697, -0.01178184790647041, -0.0027539494711454893, -0.009065489085242184, 0.005235341179613329, -0.01729445845548394, -0.00773394064342714, -0.00011748355639884522, 0.001986362981641676, -0.006349130263959779, -0.0054436773235515545, 0.004303257270374949, 0.009043569723121259, 0.00680656834092197, -0.003046890128342028, -0.008000250331782865, 0.028084712440722193, 0.007152770935793029, -0.0017686036242023917, 0.0074457115929877915, 0.01580783580742473, -0.0023012230009191725, 0.004409781145715996, 0.006194056057700514, 0.01013543944539208, 0.0012406958542392488, -0.014524837696548332, 0.009549558131006108, -0.014285158977028978, -0.004484962445456375, 0.006700044465574706, -0.0062958683262897, 0.011946345326224517, -0.002221330094430485, -0.00011748355640062158, -0.0012093532786607852, -0.0013425081228284341, 6.893322544865299e-05, -0.001342508122827546, 0.011866452419710072, 0.004170102426170885, -0.008452976801998524, 0.009682712975194185, -0.0008897816526278746, 0.01756547975058176, -0.011435645311612674, -0.014098742195177927, -0.00693501157836085, 0.009522927162160855, -0.01159543112461403, 0.01623393130878803, -0.00035716227589865923, 0.009176724567309336, 0.01218602404575364, -0.0064556541393283595, 0.00526197214844526, -0.00951821555544452, 0.009789236850519245, -0.009331798773582811, 0.003903792737808942, -0.01175521693763315, 0.01687307456084941, 0.0061674250888543725, -0.006935011578357297, -0.008452976801994971, -0.005709987011901063, -0.011009549810238717, 0.01820462300264669, -0.002966997221837353, 0.007738652250152356, -0.008106774207133682, 0.016606764872501678, -0.006455654139322142, -0.0080002503317953, 0.005261972148447924, 0.0029450778597333027, 0.004862507615920997, 0.0022260417011485956, 0.015541526119073445, -0.008612762615014091, -0.005257260541708497, 0.0171393842492078, 0.009656082006339162, 0.004329888239201551, 0.002412458483011193, 0.0035309591741228274, 0.0015070055425887574, 0.01516869255536335, 0.01205286920156734, 0.0030516017350832314, 0.0006548145398568295, 0.00901693875429288, 0.013038215048503332, -0.013166658285925337, -0.017534137174998854, 0.003264649485734239, 0.0007879693840173729, -0.004351807601280733, -0.005044212791010416, -0.002487639782793316, -0.006455654139325695, 0.004196733395027685, 0.01993563597696113, -0.0034996165985363703, 0.005528281836808091, 0.0016135294179324688, 0.0207345650420363, -0.011116073685578876, 0.015008906742353112, -1.0959681049804715e-05, 0.005714698618662695, -0.00850623873964551, -0.013086765379413556, 0.012745274391306793, -0.00565672507423276, 0.00624731799538214, -0.013912325413348192, 0.010641427853283147, -0.005097474728672502, 0.010960999479293854, 0.013437679581038253, 0.0033711733611081485, 0.004676090834036195, 0.0011341719789017546, -0.02384567678909022, 0.009922391694715316, 0.02997551122805664, -0.014498206727718177, -0.0008897816526340918, 0.007072878029301677, 0.0006814455086852078, 0.0012406958542268143, -0.006828487703010033, 0.013490941518691457, 0.0001221951631533713, -0.006828487703002928, 0.005155448273088226, -0.01063671624653395, 0.0021461487946581315, 0.006353841870714305, -0.007840464518762857, 0.014343132521453583, 0.004436412114537269, -0.016655315203424337, 0.01807146815846572, 0.000867862290552246, -0.013699277662650111, 0.010135439445386751, -0.003659402411550161, -0.01183510984416003, -0.009651370399600623, 0.013570834425215672, 0.013384417643363733, 0.0025189823583504634, -0.012687300846889293, -0.007867095487612552, 0.003930423706644426, 0.004436412114539046, -0.014444944790064973, -0.0031001520659827975, -0.010397037527019926, 0.018071468158468385, -0.008719286490347145, -0.00629586832629947, -0.0062958683262897, 0.003983685644322499, 0.010455011071431208, 0.009203355536134161, -0.01148890724928009, -0.008293190988958976, -0.005896403793751226, -0.006402392201633411, 0.000787969384032472, -0.0029403662529627894, -0.019558090806537365, -0.011222597560924363, -0.009970942025642415, -0.009784525243784259, -0.0021680681567453064, -0.0013425081228248814, 0.006753306403246562, -0.003952343068759134, 0.011174047229991046, -0.0052039986040268715, -0.0075741548304115724, 0.011333833043019048, 0.010082177507714896, -0.012314467283172092, 0.013304524736855505, 0.011466987887185809, -0.013432967974294385, -0.002993628190669284, 0.015701311932073914, 0.0003352429138026025, -0.006162713482113169, -0.009464953617738914, 0.0033445423922522366, -0.000596840995441994, 0.0070995089981167325, 0.004889138584737829, -0.003526247567370966, 0.012239285983424608, 0.0035043282052713565, -0.0003837932447297021, 0.011333833043011943, -0.003419723692054788, -0.0031534140036661995, -0.006908380609524478, 0.011253940136498386, -0.010450299464674018, -0.002753949471138384, 0.006034270244675177, -0.002247961063253534, -0.012367729220878587, -0.011249228529749189, -0.007973619362974915, -0.0012626152163246473, -0.014498206727737717, 0.00440978114568491, -0.022594021253822483, -0.002274592032099676, -0.005550201198881943, 0.0054483889302856525, 0.011120785292328073, 0.0006814455086665561, 0.010854475603957248, -0.02107605603016527, 0.013118107954976033, 0.000228719038478431, -0.01500419513563056, 0.0033445423922762174, 0.01008217750770335, 0.007791914187847304, -0.0066420709211696405, 0.007445711592958482, 0.01612740743343455, 0.006646782527910844, -0.013512860880793731, 0.0011075410100707117, -0.002807211408806687, 0.010241963320726022, 0.008484319377576988, -0.006908380609525366, 0.009549558131011437, 0.006140794120022441, 0.004596197927542178, 0.0043831501768751835, -0.0015022939358555476, -0.0053105224793679184, -0.010769871090692718, -0.013113396348265915, -0.017534137175006848, -0.008399714864320451, -0.0011028294033152974, 0.008803891003617004, 0.00941640328681359, 0.012984953110818154, 0.005714698618652925, 0.006886461247424869, 0.005581543774476394, 0.009869129757029249, 0.010002284601218214, -0.004964319884510182, -0.016708577141095304, -0.020863008279492057, -0.0007832577773010385, -0.0014756629670280574, 0.015727942900904957, 0.014715966085169008, 0.013757251207060506, -0.0003837932447385839, 0.0005482906645060126, 0.030002142196904558, 0.009682712975185304, 0.0029983397974051584, 0.011466987887202684, -0.011116073685569994, -0.01782707783221582, -0.010610085277695802, -0.00035716227591464644, -0.004431700507797842, 0.001373850698398904, 0.014103453801916466, -0.007387738048553416, 0.002518982358369115, 0.009975653632381842, -0.016708577141089975, -0.015563445481154403, 0.008803891003615227, 0.0052353411795973415, 0.009522927162190165, -0.015030826104423411, 0.00017545710082078614, 0.008191378720398212, 4.230225662471554e-05, 0.0003352429138230306, -0.007920357425284408, -0.01290034859757494, 0.0056880676498201055, 0.009895760725862068, -0.002381115907435394, 0.0026255062336986157, 0.005048924397737409, 0.020787826979708157, 0.00041513582032415286, 0.013144738923859478, 0.0044364121145283875, 0.008510950346416024, -0.010397037527011932, -0.012101419532510427, 0.010614796884426347, 0.008963676816611255, -0.012234574376681628, -0.0060029276690958255, -0.010610085277694914, -0.001662079748881773, 0.008510950346401813, -0.0076540477369064774, 0.008004961938535615, -0.008293190988974963, -0.003339830785524356, -0.0052306295728534735, -0.0053371534481998495, 0.00976260588171396, 0.015435002243722629, 0.005368496023796077, -0.0020881752502264206, 0.02129381538759567, -0.014258528008197935, -0.003206675941351378, -0.0005435790577612565, 0.011200678198833636, -0.0028072114088137923, 0.002012993950482489, -0.013166658285928001, 0.002066255888150792, 0.012612119547128486, -0.03417849269737161, -0.013326444098935575, -0.005257260541696951, 0.0012140648853966596, 0.005448388930302528, -0.005709987011910833, 0.008910414878947392, 0.005954377338174055, 0.004116840488515017, -0.0011294603721534457, -0.018599375928431527, 0.00675330640325722, -0.006242606388637384, -0.006908380609520037, 0.019935635976978006, -0.004964319884514623, 0.008590843252899383, 0.015248585461860031, -0.0033930927231722308, -0.0063757612327934865, 0.0015868984491076432, -0.007893726456432937, 0.010455011071427656, 0.007951700000867312, -0.005177367635215369, 0.002252672669986744, -1.0959681045363823e-05, 0.0067799373720918155, -0.010263882682822079, -0.002088175250263724, -0.007787202581094554, 0.004143471457342507, -0.008799179396844714, -0.015510183543494094, -0.00778720258108212, 0.005714698618665359, 0.024116698084180932, -0.003180044972480367, 0.0177518965324186, 0.005767960556302576, -0.0007566268084575611, 0.0029983397973811776, 0.004596197927544843, -0.0004903171201160461, -0.022194556721292003, 0.0002020880696438354, 0.015887728713935623, 0.001666791355606101, 0.0010809100412236816, -0.0024343778451116904, 0.0017200532932930557, 0.012399071796428629, 0.004276626301507491, -0.0029936281906568496, 0.010641427853266272, 0.0037440069247969276, 0.001480374573760379, -0.024724498760690494, -0.003126783034851144, 0.004303257270357186, -0.019717876619545827, 0.0001488261319506634, -0.006801856734178102, 0.005235341179618658, -0.014471575758876476, 0.002598875264872902, -0.0030468901283349226, 0.002732030109041439, 0.001906470075141442, -0.008666024552682394, -0.0029936281906515205, -0.0109030259348879, -0.00019737646291595468, -0.0017153416865225424, -0.011462276280442829, -0.004644748258487041, 0.0016667913556283054, 0.017645372657099756, 0.0059543773381811604, 0.015674680963225995, 0.012532226640623811, -0.008080143238305304, 0.020201945665321297, -0.0017952345930316582, -0.021528782500380927, -0.008426345833167481, 0.0009477551970578091, 0.0049690314912460565, 0.019509540475600495, 0.016287193246459886, -0.008452976801994971, 0.0014803745737523855, -0.012207943407847921, 0.0035575901429600876, -0.0009430435903086121, -0.007574154830412461, 0.00438315017686719, 0.010455011071443643, -0.012634038909222767, -0.02160867540689093, 0.014875751898151712, -0.0018484965307346002, 0.00952292716216352, -0.0033398307855136977, 0.005235341179606223, 0.012292547921077812, -0.010050834932150643, 0.0007080764775162507, 0.006060901213530201, -0.003925712099913881, -0.018812423679130497, -0.0055502011988881605, -0.013140027317107617, -0.018626006897268788, 0.003557590142952982, -0.0011827223098359596, 0.013863775082413987, 0.010534903977926113, 0.020574779229016293, 0.003264649485764437, 0.0014004816672565923, -0.018199911395910817, -0.007654047736918912, -0.004937688915681804, 0.0014537436049177899, -0.008186667113631252, -0.00046368615125924606, 0.010881106572797172, 0.011919714357399691, -0.005896403793751226, -0.011435645311618892, -0.004990950853340337, 0.010082177507728218, -0.006881749640656132, 0.008457688408727293, 0.009842498788203535, 0.0033179114234309637, 0.01149361885602218, 0.006167425088855261, -0.011915002750640724, 0.0040902095196475585, -0.0059762967002692235, -0.019504828868853963, -0.01140901434277719, 0.01125394013650105, 0.005155448273094443, -0.018439590115414184, -0.007254583204381326, 0.001933101043972485, 0.006140794120032211, 0.0015602674802668304, 0.004755983740571956, 0.020867719886225267, 0.0011874339165602876, 0.0061940560576863035, -0.010157358807480144, -0.010796502059551294, 0.0089370458477811, -0.0007566268084415739, -0.014737885447245525, 0.014343132521462465, -0.0005169480889382072, 0.008058223876214576, -0.010982918841383693, 0.0017200532932886148, 0.00022871903847754282, -0.003952343068733377, -0.0024077468762753185, -0.013299813130104532, -0.013805801537972506, -0.003446354660876949, -0.007387738048557857, -0.012527515033871062, 0.005741329587481303, 0.00238582751418015, -0.011142704654409918, -0.0020082823437359565, 0.021187291512250184, 0.019988897914622328, 0.0037173759559738784, -0.010556823340024835, 0.019935635976962907, -0.021608675406892708, -0.0027273185023144464, -0.0037392953180717114, -0.00035716227591020555, 0.019429647569109143, -0.010849763997199169, -0.00523062957285525, 0.00584785346282235, 0.007472342561822387, 0.004223364363856952, -0.00600292766909849, -0.003765926286892096, 0.00922998650497675, 0.0016934223244362556, -0.0013425081228435332, -0.018412959146605345, 0.01596762162042964, -0.0046447482584923705, -0.0008365197149622361, 0.005981008307008651, 0.00347769723643232, -0.010610085277688697, 0.007232663842296816, 0.007525604499468486, 0.003078232703908057, -0.0016620797488782202, 0.005235341179619546, -0.0036327714427244473, -0.0015022939358466658, -0.006615439952345703, 0.003371173361105484, 0.000708076477518027, -0.00379255725572758, -0.005470308292380821, 0.010135439445393857, -0.0005435790577816846, -0.013060134410585178, -0.007627416768078099, 0.02206611348383536, -0.004005605006417667, 0.02281178061124578, 0.005261972148457694, -0.0066154399523181695, -0.0060295586379419674, -0.01465799254074085, -0.005203998604024207, 0.00888378391012079, -0.001715341686525207, 0.00819137872036535, -0.018572744959604037, 0.013730620238233904, 0.0034510662676234816, -0.012341098252024452, 0.025394984588309022, -0.027680536301446068, 0.0016401603867777226, -0.001475662967015623, 0.002838553984388703, 0.007285925779970448, -0.0067219638276547755, -0.0006234719642970177, -0.014684623509586991, -0.004484962445451934, -0.005550201198880167, 0.0024124584829934292, 0.021799803795478745, -0.02507070135554912, -0.01015735880749613, -0.004405069538929496, 0.003823899831304267, -0.008932334241036344, -0.00288710431534156, 0.004383150176852979, -0.012048157594832354, 0.003637483049466539, 0.015488264181382938, 0.006034270244692941, -0.00011748355640239794, 0.011786559513225825, 0.0007080764775322379, -0.0014756629669996357, 0.0034510662676021653, 0.0021994107323264345, -0.010157358807504124, -0.0034729856297168737, -0.002620794626960965, -0.004964319884489754, -0.004058866944072648, -0.008666024552669072, 0.0016934223244415847, -0.012500884065027584, 0.013730620238244562, -0.0039523430687502525, -0.004058866944070871, -0.014817778353756417, -0.005763248949595123, -0.017400982330837422, -0.007014904484863749, 0.002492351389522973, 0.014982275773537168, 0.0012673268230907198, 0.006673413496741887, 0.010321856227239579, -0.010689978184212023, -0.007440999986258134, -0.014977564166771096, 0.010188701383075482, -0.018439590115423066, -0.0001707454940680364, -0.01183510984413072, -0.006215975419804565, -0.013219920223602522, -0.0036327714427146773, 0.011786559513198291, 0.005688067649812112, -0.01585638613835183, -0.009624739430786455, -0.007520892892746822, -0.007307845142070057, 0.003717375955948121, 0.014023560895423337, 0.002412458483011193, -0.009518215555428533, -0.012101419532497992, 0.011280571105342752, -0.01894557852331502, -0.0027805804399818612, -0.011382383373943483, -0.009038858116380055, -0.0044583314766208915, -0.00464474825846839, -0.0012093532786670025, -0.0169216248917623, 0.0015868984491040905, 0.004010316613165088, -0.0008365197149791115, 0.010534903977923449, 0.011733297575540647, -0.006082820575606718, -0.01692162489179516, 0.009522927162155526, 0.002465720420681272, -0.0032066759413593715, 0.02006879082115809, -0.0048311650403336515, -0.005337153448201626, 0.00219941073232377, -0.0009164126214589174, 0.014662704147497152, -0.001422401029352649, -0.006961642547184788, -0.0033930927232015407, -0.0021946991255878956, 0.0051820792419494666, -0.0010495674656425535, -0.000596840995432224, -0.0025409017204536255, -0.001235984247486499, 0.0008146003528670676, -0.000916412621476681, 0.011227309167670896, -0.019797769526062048, 0.006353841870711641, -0.00674859479650447, 0.012532226640620259, 0.008830521972440053, -0.012607407940386395, -0.006855118671826865, -0.0003305313070729454, 0.01857745656635057, 0.002252672670021383, -0.014737885447259735, -0.008053512269458274, -0.009331798773572153, 0.005981008306995328, -0.015110719010956508, 0.005528281836788551, -0.003180044972505236, -0.007494261923905121, -0.0016354487800427364, -0.004032235975277132, 0.020894350855067856, 0.015994252589279334, 0.004463043083355878, -0.001289246185169901, -6.422161870212051e-05, 0.002865184953230404, 0.007445711592983351, 0.0039037927378098303, -0.003259937878994812, 0.012692012453623391, 0.007472342561807288, 0.007658759343656563, 0.023397661925629087, -0.006136082513297225, 0.0020129939504558436, 0.004276626301514597, 0.014875751898168588, 0.014822489960474527, 0.0036907449871579345, 0.008324533564572079, -0.0058165108872492155, -0.010823133028381449, -0.0013691390916656943, -0.0028338423776457233, 0.007605497406000694, 0.010987630448144436, 0.0027320301090503207, 0.00829790259571972, -0.003606140473860542, 0.0008678622905264888, -0.0198776624325534, -0.0015555558735380615, 0.022172637359181735, 0.00717940190462496, 0.005501650867955732, 0.005182079241925486, 0.005528281836785887, -0.0005968409954340004, -0.0020881752502264206, 0.015887728713933846, 0.008164747751545853, 0.005927746369364328, 0.009576189099830046, 0.0016667913556025482, 0.017405693937564415, -9.08525875447097e-05, 0.00574132958747775, -0.006242606388632055, 0.017911682345462587, 0.0005482906645033481, -0.002993628190639974, -0.005949665731438181, 0.006380472839528473, -0.0003837932447545711, 0.003930423706663078, -0.0167352081099299, 0.0020129939504762717, -0.012820455691065824, -0.017267827486644904, -0.0028338423776412824, -0.014737885447249965, 0.017166015218059272, -0.004618117289622248, 0.01178655951323826, -0.005576832167729862, -0.004964319884509294, -0.0036860333803900858, 0.0030249707662166614, -0.0004903171201133816, 0.0004950287268119524, 0.011227309167675337, 0.013331155705689213, 0.0002553500073076975, -0.006668701889997131, 0.002039624919309091, -0.01015735880748192, 0.0007613384151881064, 0.02022857663418076, -0.008452976802010959, -0.006988273516026489, -0.002008282343739509, -0.0007832577772894922, 0.012825167297809692, -0.01159543112460959, 0.016420348090647074, -0.01167532403113647, -0.003978974037585736, 0.021986220577339566, 0.0030249707662362013, 0.010162070414232893, -0.01830643527123943, -0.009811156212639283, 0.0033978043299338623, -0.017800446863348363, 0.007791914187860627, -0.006322499295127848, -0.007813833549930926, 0.013677358300563824, 0.007179401904616078, 0.0054750198991024845, -0.0050442127910068635, 0.006486996714888171, -0.00525726054170228, -0.0012359842475087035, 0.008377795502223506, -0.013006872472924869, -0.011568800155798975, -0.0027539494711312784, -0.0004636861512734569, 0.006859830278587609, -0.01923851918050179, 0.01716601521804062, 0.010508273009108393, -0.014285158977013879, 0.0017733152309595823, -0.007520892892746822, 0.011200678198834524, -0.007174690297886421, 0.0014803745737586027, -0.0010761984344878073, -0.004058866944082418, -0.004751272133836082, 0.018444301722165157, -0.0031534140036697522, 0.0027053991402112842, 0.012292547921095576, 0.0061407941200180005, 0.017778527501277175, -0.0018751274995612022, 0.005874484431665827, -0.007787202581106101, -0.0037126643492140232, -0.010476930433522824, 0.028164605347239302, -0.009278536835918949, -0.01039703752702792, 0.010082177507726442, -0.012420991158536232, -0.0029936281906426387, 0.01676655068551991, 0.006140794120032211, 0.005395126992623567, 0.010295225258415641, 0.005048924397773824, -0.0024343778451081377, 0.004010316613160647, 0.005022293428893043, 0.0012939577919128809, 0.003344542392263783, -0.003579509505019729, -0.006402392201644069, 0.0030516017350574742, 0.0008146003528803902, 0.011360464011833216, -0.0004903171201124934, 0.0012140648854055414, -0.018546113990761448, -0.008612762615016756, 0.0035842211117804723, 0.002226041701166359, 6.893322548151559e-05, 0.003877161768976123, 0.013783882175883555, -0.018226542364721432, -0.0026740565646079517, -0.0017686036242245962, -0.01252751503387195, -0.007174690297871322, -0.0096780013684441, 0.008723998097090124, -0.0054969392612198575, 0.012319178889924842, 0.008457688408746833, -0.0022745920320828006, 0.007951700000859319, -0.005017581822189143, -0.012873717628721693, 0.013597465394054709, 0.014636073178644793, -0.01729445845548927, -0.001821865561882241, 0.018284515909147814, -0.010769871090704264, 0.00630057993302735, -0.005124105697518644, 0.008644105190598772, 0.008777260034770862, 0.006486996714905047, 0.010747951728595773, -0.012554146002696775, -0.012447622127339741, 0.01591435968277377, 0.0021461487946483615, -0.0062426063886205085, 0.006167425088875689, 0.007072878029277696, 0.0027852920467115183, -0.001395770060506507, -0.003366461754361616, 0.008031592907359553, 0.004569566958712912, 0.0099756536323925, -0.010423668495831429, 0.005847853462814356, 0.012026238232735409, -0.007600785799239951, -0.003872450162251795, -0.007467630955069637, -0.006002927669107372, -0.024458189072323222, 0.0011341719788955373, 0.0007347074463579517, -0.011781847906452647, 0.005714698618657366, -0.011142704654401925, -0.0008098887461125415, 0.016180669371125056, 0.0007347074463490699, -0.005044212791029068, 0.004995662460068218, -0.011968264688316133, -0.00970463233728136, -0.0034463546608698437, 0.00046839775801288397, 0.004969031491248721, 0.012692012453639379, -0.008133405175955843, -0.006695332858827285, 0.015994252589279334, -0.008133405175961173, 0.026966211749637203, 0.012505595671796321, 0.0027320301090245636, -0.007973619362955375, -0.011169335623240961, -0.007973619362969586, -0.003313199816687984, 0.009443034255676608, -0.008852441334522787, 0.014556180272135677, -0.0006501029330907571, -0.01926515014932928, 0.01069468979093724, -0.013273182161284147, -0.01175521693761361, 0.003291280454599921, 0.007871807094368855, -0.007520892892744158, 0.014502918334473591, 0.0011874339165629522, -0.009704632337273367, -0.0012626152163290882, 0.0025189823583602333, 0.010028915570061692, -0.0017686036242077208, -0.004112128881767596, -0.021954878001720246, 0.001214064885408206, 0.0015070055426127382, 0.0017466842621223222, 0.012026238232737185, -0.010769871090709593, 0.009842498788211529, 0.006806568340925523, 0.005128817304258959, -0.016548791328084178, -0.0018751274995496559, 0.0021195178258262004, -0.0010761984344958009, 0.003131494641581689, -0.020410281809264852, 0.005235341179599118, -0.012367729220840395, 0.006726675434416407, 0.015195323524199722, 0.008937045847782876, -0.011089442716739839, -0.002833842377643059, 0.026992842718477128, -0.010636716246506417, 0.002732030109005912, 0.002465720420695483, 0.00028198097614939854, 0.00928324844263706, -0.01625585067087343, -0.008506238739654393, -0.001795234593044981, 9.556419429834762e-05, -0.003446354660857409, -0.012607407940385507, -0.004724641164975729, -0.0014756629669978594, -0.002860473346475878, 0.0010276481035536023, 0.00046839775799245587, -0.018333066240069584, 0.0037706378936324114, -0.010503561402348538, -0.01300687247291421, -0.009891049119132411, 0.011147416261153786, 0.009949022663549023, -0.01039703752700838, -0.014285158977023649, 0.012106131139231202, 0.004249995332694212, -0.014764516416079232, -0.02163530637571842, 0.010588165915629055, -0.010104096869796741, -0.00035716227591020555, -0.003073521097163301, 0.009815867819376045, -0.005603463136557352, -0.0070947973913675355, 0.009549558131006108, 0.004356519208029042, 0.0032113875480890286, -0.011089442716745168, -0.018173280427068228, -0.0009430435902988421, -0.012873717628746562, 0.003131494641590571, 0.01516869255535358, 0.011253940136503715, 0.009869129757044348, 0.007632128374818414, -0.00251427075160926, 0.007312556748811261, 0.006114163151173635, -0.014018849288680357, -0.009278536835918061, 0.009629451037530323, 0.006167425088871248, -0.004245283725913929, 0.015914359682761337, -0.007973619362955375, 0.0028918159220729933, -0.0139389563821819, -0.004378438570121546, 0.011440356918341443, -0.0025675326892908856, -0.014817778353767963, 0.002732030109047656, 0.004436412114539934, -0.018013494614071313, 0.0021994107323468626, 0.014396394459137873, -0.015403659668133507, 0.01687307456084941, -0.006615439952334157, -0.009997572994469017, -0.015510183543493206, -0.028372941491179304, -0.016841731985277164, 0.0025988752648409275, 0.004063578550837832, -0.005283891510544869, 0.0034776972364536363, 0.007685390312505369, -0.014018849288677693, 0.0012673268230800616, -0.015536814512311814, -0.001555555873515857, -0.005124105697514203, -0.007840464518760193, -0.0029403662529992047, 0.00046839775798890315, -0.014258528008193494, -0.00531052247936703, 0.006353841870729404, 0.00076133841518633, 0.0008412313217149858, -0.003632771442728, 0.012798536328987531, 0.011413725949497966, -0.010689978184221793, -0.008958965209878933, 0.016154038402278026, -0.00544367732354889, -0.017267827486633358, 0.008830521972456928, 0.008537581315239962, 0.009469665224504098, 0.004542935989884533, 0.0020396249193010973, -0.0033930927231944352, -0.01921188821166364, -0.00413875985060308, -0.004138759850610185, 0.0002020880696314009, -0.010024203963316047, 0.0057945915251567115, 0.00760549740599803, -0.012873717628749226, -0.005177367635188723, 0.01751221781292056, -0.010210620745163546, -0.008985596178717081, -0.010050834932139985, -0.002461008813931187, -0.005789879918419949, -0.012607407940401494, 0.003930423706659525, 0.021746541857806, 0.006140794120022441, 0.001347219729576743, 0.0052886031172656445, -0.0027273185022993474, 0.013890406051249471, 0.0016934223244344793, -0.011169335623238297, 4.23022566344855e-05, -0.010636716246531286, 0.012745274391306793, 0.0011075410100636063, -0.015909648076018357, -0.0133530750677755, -0.005124105697508874, -0.0016354487800249728, 0.00859084325292958, 0.0048092456782411475, -0.0035528785362002324, -0.0019017584683798106, 0.0014537436049240071, 0.005261972148447924, 0.010881106572791843, 0.011919714357417455, 0.013411048612204546, -0.008293190988999832, 0.008271271626898447, -0.006695332858841496, -0.0057898799184323835, 0.0038505308001433036, -0.016122695826707556, -0.007547523861578753, -0.014098742195172598, -0.0016620797488631212, -0.028985453774406977, -0.0011560913409836004, -0.004698010196157121, -0.009464953617741578, 0.004702721802891219, -0.001235984247476729, -0.015883017107182873, -0.016175957764363424, -0.005816510887246551, -0.007893726456444483, -0.008053512269464491, -0.0044849624454723624, 0.008244640658065627, -0.006269237357433788, -0.0056300941054026055, 0.006859830278602708, 0.0189236591612012, 0.020974243761561873, -0.003659402411559043, -0.018173280427063787, 0.008084854845041178, 0.009229986504970533, -0.012154681470161854, 0.009096831660802884, -0.002860473346461667, -0.0003571622759128701, 0.019163337880729436, -0.02251412834730271, 0.001027648103551826, 0.004995662460075323, 0.010827844635145745, 0.009735974912855383, 0.0006814455086656679, -0.0027006875334443237, -0.003925712099915657, -0.016522160359247806, -0.009172012960566356, 0.0014803745737488327, -0.008772548428017224, -0.018572744959606702, -0.003153414003687516, 0.011280571105327653, 0.0002819809761636094, 0.015541526119079663, -0.011781847906467746, -0.005177367635196717, 0.00845768840875305, -0.004964319884514623, -0.0037392953180477306, 0.006353841870711641, -0.00035716227590576466, -0.0235527361318999, -0.019398304993522686, -0.00669533285882995, -0.00919864392938674, -0.00837308389547431, -0.004591486320801863, -0.011781847906484622, 0.0015070055425701057, 0.0063804728395426835, -0.005443677323563101, 0.007791914187825988, -0.021368996687352038, 0.005368496023779201, -0.005257260541704056, -0.016415636483895213, -0.015483552574646176, -0.022114663814758018, 0.0039836856443260515, 0.016020883558121035, -0.0011560913409978113, 0.003983685644318946, 0.017751896532414158, 0.010694689790944345, 0.006566889621392846, -0.02003744824556808, -0.013299813130100091, -0.003339830785524356, 0.01183982145087814, -0.002487639782783546, 0.003317911423441622, 0.015727942900887193, -0.0008365197149755588, 0.029283106038342943, -0.0031267830348351566, -0.0050974747286804956, -1.0959681031152968e-05, -0.007414369017395117, -0.010343775589332083, -0.012767193753411732, 0.01514206158652609, -0.009464953617751348, -0.002168068156732872, 0.011014261416978144, -0.016468898421575062, 0.0047826147094145455, 0.0073125567487899445, -0.004005605006414115, 0.001347219729586513, -0.013885694444505603, 0.0032646494857422326, 0.0001754571008056871, 0.004303257270352745, 0.00033524291379727345, -0.004990950853344778, -0.0011028294033144093, 0.002705399140220166, 0.006566889621387517, -0.006881749640672119, 0.005501650867971719, -0.0014490319981854682, -0.007414369017399558, -0.020623329559970927, -0.0067752257653381776, 0.01761874168824651, 0.0019064700751352248, 0.023743864520501035, -0.02030375793393624, -0.006269237357464874, -0.0044317005077791904, 6.89332254646402e-05, -0.0046181172896311296, -0.001395770060520718, -0.006855118671871274, -0.005363784417057538, -0.013912325413338422, 0.005315234086128662, -0.009305167804734893, 0.018337777846825887, -0.009598108461935873, 0.006247317995342172, 0.02057477922904294, -0.0016088178111974827, -0.003686033380382092, -0.0015821868423557817, 0.005874484431664939, 0.005634805712139368, -0.002887104315328237, 0.012212655014592677, 0.028936903443485207, -0.029544704119953913, -0.01782707783217674, 0.01381051314472348, 0.006673413496742775, 0.002332565576507406, 0.019695957257446217, -0.0098111562126304, -0.008612762614998992, -0.011622062093462837, -0.007574154830413349, -0.011355752405101782, 0.012958322141990664, 0.0007080764775233561, 0.008670736159423598, 0.012319178889930171, -0.007600785799266596, -0.01159543112460426, -0.020117341152070978, 0.00640710380838172, 0.002891815922046348, -0.0048844269779868554, -0.008506238739666827, 0.013917037020060086, 0.0036641140183011345, 0.006700044465580035, -0.01045029946465803, 0.0009743861658764175, 0.004223364363856064, 0.0022793036388373267, -0.011542169186958162, -0.004458331476623556, 0.014982275773521181, -0.007361107079730367, 0.0012673268230924961, 0.005981008307025526, 0.007339187717645856, 0.008537581315257725, 0.0051288173042509655, -0.011169335623245402, -0.014524837696569648, -0.005896403793747673, -0.013912325413317994, -0.0076274167680949745, 0.002838553984392256, 0.005821222494009071, -0.002168068156757741, 0.008937045847784653, 0.013357786674536243, 0.011759928544380571, -0.003206675941351378, -0.021422258625038992, 0.02022857663415145, -0.00810677420711059, 0.008058223876209247, -0.027574012426094363, 0.01596762162043497, -0.021129317967827355, -0.005630094105404382, -0.0028871043153140263, 0.01341104861220277, 0.0006015526021734274, -0.0003571622758959947, 0.001986362981635459, -0.011409014342778967, 0.016873074560841417, -0.00038379324474924204, -0.011142704654403701, -0.009891049119135964, -0.018865685616799688, 0.004249995332682666, -0.01037040655817556, 0.0040902095196724275, -0.0005968409954446585, 0.0037440069248022567, -0.005709987011901951, 0.006753306403231463, -0.004378438570113552, 0.0027053991402032906, 0.01769863459475829, -0.020996163123669476, 0.0076321283748139734, 0.001507005542606521, 0.006913092216259464, 0.007791914187852633, 0.0016135294179555615, 0.00483587664707219, -0.006402392201628082, 0.013650727331722123, -0.00941169168008038, -0.010183989776329838, -0.0175341371750104, 0.0031314946415887945, -0.00669533285882018, 0.0014537436049364416, -0.01385906347566479, 0.004196733395013474, 0.003690744987129513, -0.008879072303389357, 0.010668058822098203, -0.000996305527956487, 0.00014882613198174965, 0.007072878029281249, -0.0024610088139533914, -0.014338420914699945, -0.014950933197931171, -0.012793824722240998, -0.01433842091471682, -0.005896403793760108, -0.016921624891782727, -0.014231897039370445, 0.003584221111788466, 0.016100776464624822, 0.009522927162160855, -0.018572744959596932, -0.011169335623253396, -0.006455654139335465, -0.010823133028387666, -0.0034197236920370244, -0.004138759850588869, 0.0029450778597359673, -0.003419723692009491, -0.0008365197149560188, 0.004090209519669763, 0.009629451037511672, 9.556419428946583e-05, -0.006908380609518261, -0.018865685616801464, -0.013938956382168577, 0.00409020951965644, -0.01764066105034079, 0.013677358300549614, -0.012447622127371716, 0.014423025427968916, -0.007707309674598761, 0.007019616091598735, 0.0017200532932735157, 0.006726675434421736, -0.014711254478422475, -0.0011028294033108565, -0.006269237357448887, -0.014311789945864462, 0.00954955813100522, -0.009225274898241764, -0.011275859498593555, -0.013752539600318414, 0.002891815922056118, 0.00984249878820087, 0.004969031491238951, -0.018839054647973974, 0.011759928544369025, 0.004090209519679533, -0.014551468665403355, 0.007179401904619631, -0.016042802920209098, 0.013917037020080514, -0.0019017584683895805, -0.003978974037592842, 0.005395126992618238, 0.0018265771686376553, -0.00397897403758396, 0.011227309167665567, 0.0008412313216927814, -0.009544846524263129, -0.007414369017403999, 0.0029450778597084337, 0.02121392248109455, 0.018763873348193627, 0.008510950346389379, -0.014817778353747535, -0.013646015724984473, -0.011595431124625577, 0.018710611410523548, -0.0009696745591263323, 0.0016401603867759462, -0.008825810365705067, 0.01085447560396613, -9.085258755803238e-05, 0.013863775082415764, -0.002221330094426044, 0.010428380102579737, 0.007818545156687229, 0.0001221951631409368, -0.013912325413347304, -0.015137349979785775, 0.0012939577919093281, -0.007361107079730367, -0.005709987011932149, 0.0017466842621107759, -0.007973619362942053, -0.006455654139310596, -0.0027539494711170676, -0.01479114738491738, -0.008479607770848219, -0.0026207946269591886, -0.0023544849385972455, -0.011728585968804772, -0.01694825586059867, 0.012931691173170279, -0.013965587351007613, 0.005208710210767187, 0.0007080764775198034, 0.022492208985205764, 0.004036947581980144, -0.0073078451420656165, 0.008777260034776191, 0.0007347074463766035, -0.012128050501335252, -0.012367729220854606, 0.009869129757025696, -0.006588808983487127, 0.0005482906644997954, 0.009842498788203535, 0.00038850485148600455, 0.000521659695686516, -0.012287836314340161, -0.00014411452522811175, -0.0065621780146596365, -0.007946988394124332, -0.014391682852378018, 0.0048358766470633086, 0.0033978043299347505, -0.01151553821812179, -0.010450299464683788, -0.016415636483899654, 0.005847853462856101, -0.006242606388616956, 0.0158078358074345, -0.008852441334538774, -0.0002506384005593887, -0.006109451544459077, 0.010002284601206668, -0.004990950853330567, 0.008111485813889985, 0.002838553984372716, 0.00843105743989181, -0.004458331476630661, 0.008404426471062543, 0.0006548145398364014, 0.0016401603867759462, 0.014209977677281493, 0.009895760725869174, 0.0029184468908898253, 0.018976921098867727, 0.0074723425618143935, -0.007920357425281743, -0.0004104242135811731, -0.00616271348212738, -0.014844409322593677, -0.0012359842474998217, -0.008719286490356914, -0.028399572460027223, -0.0006501029330978625, -0.01132912143627074, -0.014365051883538982, -0.005417046354728505, -0.003872450162228702, 0.0007879693840280311, 0.0033711733610983785, 0.0006814455086887605, -0.0036327714427111246, -0.002753949471133943, 0.01692633649850883, 0.013304524736859058, -0.013166658285947541, -0.0030735210971508664, 0.020894350855047428, -0.02011734115209496, -0.005203998604025983, 0.001959732012805304, -0.001901758468402015, -0.0019017584683860278, -0.008133405175960284, -0.0027006875334540936, -0.008426345833179028, -0.0021680681567568527, 0.006327210901861946, -0.004591486320813409, 0.0019863629816487816, -0.009491584586604596, -0.015590076449989887, -0.002088175250243296, -0.006002927669110036, -0.0032066759413442725, -0.006482285108133645, -0.01156880015577677, 0.008031592907379093, 0.002811923015555884, -0.00011748355639085162, 0.005022293428908142, 0.0011608029477283566, 0.0006281835710133521, -6.422161873054222e-05, 0.0013738506983997922, 0.0023059346076719223, -0.00376592628688055, 0.009070200691954966, -0.018572744959606702, 0.0003885048514877809, 0.0039836856443304924, -0.0029137352841415165, -0.00850623873966505, 0.02797818856538914, 0.004409781145703562, -0.01654879132807352, 0.013730620238222357, -0.00126261521633797, -0.014604730603060112, 0.012718643422476639, -0.00027726936939931335, -0.0025142707516163654, 0.0026787681713864586, -0.003978974037587513, -0.000729995839605202, 0.006327210901876157, 0.01785842040777119, 0.009975653632380954, -0.0012626152163353055, -0.005257260541693398, -0.02544353491921747, -0.001528924904674156, 0.007658759343650345, 0.007392449655322153, -0.003499616598539923, 0.02504878199343885, -0.004777903102657355, -0.01114270465441436, -0.0027273185023029, -6.422161870300869e-05, -0.010024203963307166, 0.011759928544382348, 0.021906327670811798, -0.014098742195212566, -0.005283891510515559, -0.006455654139325695, -0.020649960528800193, -0.004884426977995737, -0.010876394966051528, 0.019562802413256364, 0.014929013835812022, -0.009731263306098192, 0.011626773700204929, -0.01079650205954863, 0.007498973530627673, 0.0003086119450053104, -0.004245283725917481, 0.003770637893640405, 0.010348487196079503, -0.004085497912912572, -0.015163980948614153, -0.0011294603721569985, -0.01367264669381818, 0.0024923513895132032, 0.019775850163945563, 0.007818545156674794, 0.004969031491245168, -0.004058866944084194, -0.008026881300605027, -0.006881749640690771, -0.014524837696541226, 0.013703989269393979, 0.00454293598987654, 0.008697367128271516, -0.0004370551824237623, 0.006620151559068255, 0.007658759343646793, -0.00616271348210784, 0.007738652250167455, 0.013437679581039141, -0.018599375928437745, -0.007867095487607223, 0.01250559567178211, 0.013357786674507821, 0.00901693875428311, 0.00859084325291537, 0.0064337347772305264, 0.012079500170386837, -0.005630094105397276, -0.0034729856296964456, 0.004196733395014363, -0.016442267452752013, 0.021347077325273744, -0.005283891510535987, -0.008293190988979404, -0.027680536301432745, 0.01247896470295462, -0.007946988394103016, -0.006295868326304799, -0.009651370399590853, 0.018604087535190494, 0.016686657779001912, 0.012745274391305017, -0.002088175250244184, -0.006295868326296805, 0.011813190482049762, -0.00019737646290440836, 0.01873724237935992, 0.005475019899125577, 0.012372440827611797, -0.013113396348280126, 0.010987630448165753, 0.01753884878175338, 0.0037972688624590134, -0.00025063840057804043, 0.0003885048514975509, 0.006566889621388405, -0.013779170569149457, 0.00203962491930465, -0.014444944790038328, 0.013863775082413099, -0.009944311056805155, -0.00033053130708449174, -0.0032599378790338918, -0.009891049119134188, -0.0045648553519725965, 0.003451066267605718, -0.006961642547201663, -0.03148876484497354, -0.010104096869816281, 0.0036641140182824827, -0.007440999986249253, 0.005528281836800986, 0.010881106572790067, -0.018626006897256353, -0.03284694425559209, -0.01777381589453242, -0.00504421279100864, -0.020996163123646383, -0.004351807601268298, -0.01271393181573277, -0.01383243250682753, 0.006007639275836141, -0.005230629572891665, 0.0014803745737612672, 0.007898438063172364, 0.00496903149124428, -0.007440999986214614, 0.010348487196068845, -0.005923034762578716, -0.011622062093443297, -0.018572744959604925, 0.0014803745737683727, 0.0032113875480774823, 0.013570834425201461, 0.012612119547113387, -0.009438322648920305, 0.0017733152309409306, -0.0005968409954233422, 0.024649317460912812, 0.02225253026568197, 0.008830521972457817, 0.007738652250167455, 0.005954377338143857, -0.001848496530713284, -0.003712664349217576, 0.004942400522421231, 0.011014261416984361, 0.006726675434412854, 0.0031048636727479817, 0.007632128374828184, -0.0104502994646829, -0.0023012230009502588, -0.02147552056268509, -0.004271914694773393, 0.016713288747848942, 0.0012939577918844591, -0.017960232676375476, -0.0010229364968070698, 0.0037706378936332996, -0.0005968409954277831, -0.003872450162242025, 0.010694689790948786, 0.013171369892644336, -0.006295868326295917, -0.00722795223553252, -0.013113396348260586, 0.004223364363832083, -0.004032235975266474, 0.012239285983426385, 0.015221954493029877, -0.005337153448186527, 0.006540258652569797, 0.002811923015552331, 0.009629451037513448, 0.00994902266352149, -0.0037925572557240272, -0.007627416768099415, 0.008644105190596996, -6.422161872166043e-05, 0.009229986505003396, 0.006433734777216316, -0.004245283725941462, -0.005017581822174044, 0.00030861194498754685, 0.006460365746030483, 0.005554912805623147, -0.005736617980745429, 0.02954941572669867, -0.0021946991255932247, 0.0018265771686225563, 0.001959732012790205, 0.013917037020063638, 0.0024390894518413475, -0.011648693062276116, 0.0010010171347145658, 0.005581543774494158, 0.000974386165888852, 0.01506216868003385, 0.014103453801933341, -0.016841731985270947, 0.012052869201569116, -0.009704632337303565, 0.0057146986186369375, 0.009469665224490775, -0.011329121436259193, 0.001427112636096517, -0.0068817496406747836, 0.014236608646102766, -0.006615439952331492, 0.002891815922065888, -0.007174690297865105, -0.00919864392939207, -0.0003837932447510184, 0.004116840488507023, 0.004782614709401223, 0.008510950346402701, 0.009576189099854027, -0.012926979566411312, 0.007951700000857542, -0.014924302229101016, -0.013885694444489616, 0.010881106572789179, -0.015430290636995636, 0.024063436146525063, -0.000756626808462002, -0.009464953617751348, -0.0009430435903237111, -0.005576832167736079, 0.00949629619336001, 0.007046247060451094, -0.0002240074317167995, -0.0015821868423602226, 0.015088799648855122, -0.00523062957287479, -6.422161871721954e-05, 0.0017466842621125522, -0.006082820575604941, 0.017458955875234494, -0.0038724501622509067, -0.024378296165803448, 0.006833199309768112, -0.014391682852375354, 0.009789236850510363, 0.008857152941256885, 0.003504328205278462, -0.012926979566405983, 0.00028198097614140494, 0.010215332351886985, 0.009123462629641033, 0.00960282006865576, 0.016233931308798688, 0.014609442209820855, -0.012660669878050257, 0.009043569723134581, 0.0009211242282125554, -0.006908380609528919, -0.017507506206179357, 0.009203355536138602, -0.01753413717501129, 0.003744006924803145, 0.0059011154005030875, 0.00150700554261185, -0.0034729856297195383, 0.011440356918344108, -0.005709987011903728, -0.007094797391371088, -0.000676733901961768, 0.014183346708422029, -0.014231897039375774, -0.015323766761641266, 0.0002819809761520631, -0.001981651374880933, -0.005390415385886804, -0.008000250331794412, 0.006513627683714773, -0.00160881781118416, 0.005182079241921045, -0.011675324031132917, -0.002168068156742642, -0.0017686036242059444, -0.006935011578368844, -0.0027006875334629754, -0.011089442716718523, 0.007019616091588077, -0.005097474728676055, 0.013757251207070276, 0.006194056057695185, -0.005230629572883672, 0.017565479750574653, -0.018732530772618716, 0.015648049994408275, -0.001315877154016043, 0.015621419025553251, 0.010295225258412088, 0.02302482836193942, 0.014130084770774154, -0.002807211408806687, -6.422161871810772e-05, 0.015142061586515432, 0.002119517825824424, -0.0032865688478498356, 0.012239285983416615, 9.556419430101215e-05, 0.010641427853263608, 0.0052886031172709735, -0.009624739430773133, -0.001688710717709263, -0.0005435790577674737, 0.00014882613196132155, -0.009358429742404972, -0.00453822438314333, -0.010183989776312075, 0.013011584079667848, -0.005683356043038046, 0.0047293527717267025, 0.00781854515669611, 0.0037706378936235296, -0.003233306910184197, -0.00408549791292856, 0.0098691297570479, 0.0010809100412192407, 0.0012673268230889434, 0.005528281836796545, 0.005288603117288737, -0.008825810365682862, 0.0060609012135133256, -0.0045914863207991985, 0.003610852080615068, -0.0015821868423735452, 0.006140794120035764, 0.006327210901880598, -0.0046980101961509035, -0.003313199816688872, 0.006087532182345257, 0.00670004446556316, -0.0016088178111930418, 0.005102186335419923, 0.008803891003615227, -0.007307845142058511, 0.006486996714900606, -0.004937688915674698, 0.003291280454565282, 0.009283248442650383, 0.0045429359898800925, 0.001799946199795066, -0.009678001368435218, 0.006673413496762315, -0.009438322648906095, 0.0170062294050215, -0.006908380609522702, -0.004990950853341225, 0.0006548145398284078, -0.009038858116401371, 0.001453743604913349, 0.004835876647071302, 0.006220687026524452, -0.00027726936941530056, -0.0013691390916665824, 0.002279303638829333, -0.01015735880749613, -0.011648693062288551, -0.008586131646188377, 0.025102043931134688, -0.01068997818420847, 0.002785292046723953, 0.006593520590224777, 0.007605497405996253, -0.008639393583833588, -0.011888371781806129, 0.009949022663547247, 0.019403016600262113, 0.014769228022824876, 0.007046247060451982, -0.017773815894525313, -0.0014490319981703692, 0.0024923513895203087, 0.0097359749128616, -0.00485779600916203, 0.006992985122763251, -0.0013425081228186642, -0.0016354487800214201, -0.007201321266737892, -0.005017581822173156, 0.021080767636906472, 0.004170102426194866, 0.01165340466905107, 0.016952967467334545, 0.010295225258415641, 0.005714698618644931, -0.008399714864328445, -0.013486229911968906, -0.013006872472905329, -0.0028871043152998155, -0.011701954999956854, -0.006349130263949121, -0.00043705518242465047, 0.005741329587485744, -0.008373083895486744, 0.00022871903847310193, 0.017831789438927714, -0.0016887107177048222, -0.0028604733464732135, -0.010743240121856346, 0.002518982358349575, 0.010641427853252061, -0.006855118671834859, 0.004516305021040168, -0.002993628190673725, -0.004405069538946371, -0.009331798773570377, -0.014524837696559878, -0.0010761984344735964, -0.0021148062190787797, 0.0051554482730775675, -0.0007033648707617246, 0.002971708828551023, -0.013965587350987185, -0.005337153448198961, -0.015297135792808447, 0.0032380185169289533, -0.009678001368465416, -0.0020349133125678875, -0.00475127213383697, -0.002540901720421651, 0.007206032873483537, -0.007494261923902457, 0.0045163050210481614, -0.0011294603721427876, 0.015568157087914258, -0.017667292019181602, 0.006007639275856569, 0.01615403840228158, 0.015115430617695047, 0.008164747751545853, 0.009602820068671747, -0.008373083895460098, 0.001427112636092076, -0.004351807601282509, 0.013011584079658967, -0.012128050501359233, -0.003712664349222905, -0.006615439952324387, -0.008026881300610356, -0.009731263306122173, 0.0018265771686252208, 0.004303257270358962, -0.0030202591594976624, -0.007254583204376885, -0.005523570230043795, 0.001746684262125875, -0.0033664617543331943, 0.015195323524212156, 0.010162070414213353, 0.0035842211117804723, -0.0034463546608733964, 0.0005482906645033481, 0.0029983397974113757, 0.013411048612195664, -0.011728585968822536, 0.0023858275141686036, 0.014369763490280185, -0.0025409017204482964, -0.012234574376678076, 0.005767960556322116, -0.004724641164984611, -0.0016354487800267492, 0.004596197927549284, -0.002088175250238855, 0.013544203456392623, -0.00925190586707103, -0.009970942025637974, 0.01173329757553887, -0.023286426443520192, 0.002305934607666593, -0.0151639809486106, 0.005901115400498647, 0.007179401904622296, -0.014551468665397138, 0.01831114687797264, -0.010237251714011464, -0.0036327714427297764, -0.0004903171200947298, -0.008532869708499646, 0.0036108520806426014, 0.009629451037511672, 0.010108808476558373, -0.008426345833150606, 0.009949022663551688, -0.0017686036242228198, -0.008825810365677533, 0.006034270244689388, 0.0002287190384739901, 0.003451066267595948, -0.0016354487800418482, 0.010881106572796284, -0.00515073666635768, 0.005794591525159376, -0.01561670741882537, 0.00417010242618332, -0.0011827223098208606, 0.0005216596956509889, 0.013970298957729277, 0.006913092216265682, 0.004969031491246945, 0.0077120212813488465, 0.004835876647081072, 0.01191971435739081, 0.006087532182355915, -0.006668701889980255, -0.0022745920320934587, 0.007685390312499152, 0.019189968849585348, 0.0005216596956731934, 0.013730620238233016, -0.007094797391379082, 0.005102186335422587, -0.0011560913409933704, -0.00019737646290174382, -0.009651370399605952, 0.004010316613141995, 0.027445569188664365, -0.0008897816526385327, -0.007068166422521394, 0.005901115400510193, 0.015435002243706641, 0.013144738923834609, -0.007920357425290625, -0.00035716227592708094, 0.0028918159220587825, -0.0009696745591361022, -0.01244762212736017, 0.004170102426185984, 0.005528281836806315, 0.02323787611261885, 0.020361731478332423, -0.0017419726553686843, 0.013650727331720347, -0.012234574376671858, 0.00025535000729437485, 0.009815867819377821, -0.01260740794038906, 0.0021727797634936152, 0.007685390312489382, -0.012447622127348623, -0.0027539494711570356, 0.001027648103542056, -0.009678001368438771, -0.02863925117953947, 0.006433734777229638, -0.0019550204060569953, 0.01080121366628628, 0.012132762108087114, 0.012186024045769628, 0.010721320759782493, 0.008111485813852681, -0.008266560020136815, -0.02206140187709771, -0.007361107079731255, 0.0013205887607581346, 0.006779937372089151, 0.003051601735070797, 0.0036907449871437237, 0.0017733152309515887, 0.004036947581999684, -0.0009430435902775258, -0.007281214173222139, -0.00890570327220086, 0.008883783910114573, 0.0014271126360858588, 0.0036641140182922527, 0.007339187717669837, -0.0008365197149524661, -0.0033664617543829323, -0.007787202581092778, 0.015994252589278446, -0.017667292019161174, -0.01204815759482969, 0.0014004816672761322, -0.007627416768089645, 0.013570834425203238, -0.0027006875334736336, 0.007126139966951328, -0.011009549810228059, 0.015221954493046752, -0.010210620745159993, 0.010747951728608207, -0.0021148062190938788, -0.0031001520659890147, 0.0033445423922708883, 0.0048625076159343195, -0.006748594796509799, 0.013783882175893325, 0.008510950346408919, 0.0028385539843851504, -0.0062159754197983474, 0.009096831660792226, 0.0004950287268279396, -0.008106774207145229, -0.012261205345515336, -0.006162713482136262, 0.00827127162689223, -0.011275859498583785, -0.0031534140036670877, 0.012106131139230314, -0.002913735284162833, -0.010903025934908328, 0.011413725949526388, 0.019456278537921534, -0.015536814512318031, -0.017187934580143782, 0.011174047229996376, 0.0018798391062970765, 0.008910414878950057, 0.010987630448116903, 0.002119517825828865, 0.005714698618654701, 0.01178655951320895, -0.007174690297876651, -0.010876394966063962, 0.010508273009099511, -0.014152004132859552, -0.0020615442814149176, 0.0021195178258315295, 0.004303257270358074, -0.012607407940375737, -0.006855118671856175, 0.012958322141985334, -0.006988273516039811, -0.007227952235544066, 0.010588165915578429, -0.0041121288817596025, -0.003952343068740483, 0.0003618738826451917, -0.01215468147016896, -0.01569660032530784, 0.01615403840230112, 0.0021195178258013314, -0.0038724501622562357, -0.006295868326287923, 0.01381051314475279, -0.0004370551824104396, -0.0065888089834915675, 0.0033711733611028194, 0.0023325655764940834, 0.005874484431668492, 0.008084854845051836, 0.0062473179953626, -0.011142704654412583, 0.0018798391063086228, 0.01170666660670694, -0.0015289249046821496, 0.02603412784036685, 0.0034510662676128234, -0.0008098887461160942, 0.00789843806318924, 0.0023059346076736986, -0.0034463546608645146, 0.00864410519060499, 0.0047826147093950055, -0.003712664349218464, 6.893322546108749e-05, 0.004835876647087289, -0.016948255860627093, -0.0017153416865349769, -0.002514270751603931, 0.014156715739594539, -0.0073078451420656165, -0.004831165040343421, -0.002993628190684383, 0.0007879693840298074, -0.0344980643234134, 0.004596197927571488, 0.011200678198844294, 0.007285925779957125, 0.010295225258415641, -0.011089442716732734, 0.009709343944036775, 0.001507005542606521, -0.003952343068748476, 0.019988897914632986, -0.015563445481157068, -0.007387738048565851, 0.007791914187837534, 0.005022293428893043, -0.00019737646289996746, 0.00132058876075547, 0.01000228460120578, -0.006322499295150941, 0.002305934607675475, -0.00941169168010525, -1.0959681056021964e-05, 0.015861097745092145, 0.0018265771686385435, -0.0027273185023011237, -0.003872450162236696, -0.024378296165814106, 0.0036907449871375064, 0.009363141349138182, -0.005576832167722756, -0.020410281809282615, -0.009305167804755321, -0.004298545663609765, -0.013965587350988073, 0.004569566958714688, 0.006140794120041981, -0.011994895657140958, 0.0016667913556291936, -0.02152878250039425, 0.010188701383074594, -0.009411691680075052, 0.006460365746041141, -0.002727318502313558, -0.003952343068744035, 0.012478964702932416, -0.0032333069101797562, -0.022407604471953668, -0.002088175250268165, -0.010849763997225814, -0.0036594024115430557, 0.002332565576502965, 0.0023591965453269026, -0.01990429340137556, -0.010769871090708705, -0.0004370551824104396, 0.005927746369340348, -0.0012626152163299764, 0.03005540413457819, 0.019376385631442616, 0.004596197927540402, 0.008164747751556511, 0.012478964702951956, -0.007920357425266644, -0.004112128881744503, -0.011062811747895474, -0.0010495674656505471, -0.005337153448192744, 0.0014004816672557041, -0.008586131646178607, 0.010534903977919008, -0.004192021788270495, 0.006992985122773909, -0.00805351226945561, -0.011249228529756294, -0.0023278539697608736, -0.003659402411549273, 0.004276626301507491, -0.016894993922941914, -0.0006501029331076325, 0.004063578550825397, -0.016389005515057065, 0.00020208806962607184, -0.0007832577772868277, -0.00496431988449153, -0.01050356140235209, 0.012984953110813713, -0.02381904582025296, 0.006220687026528893, 0.003877161768985893, -0.010476930433513942, -0.020117341152076307, 0.002305934607674587, -0.0003571622758959947, 0.013863775082398888, 0.007365818686467129, 0.009443034255676608, -0.009598108461923438, -0.00030390033822857987, 0.02552813943248644, -1.0959681071120997e-05, -0.006136082513282126, -0.025230487168565574, 0.015541526119058346, 0.013118107955016, -0.020410281809272846, -0.0007566268084406857, 0.010854475603969682, 0.009389772317992318, -0.014578099634241504, -0.004405069538945483, 0.0066201515590522675, 0.010934368510473469, 0.004596197927559054, 0.0026787681713811295, -0.00738773804856141, 0.0053418650549437174, -0.017640661050334572, 0.003610852080625726, -0.0066687018899864725, -0.001022936496807958, 0.019216599818394187, -0.020543436653458258, 0.010747951728625083, 0.010827844635132422, 0.004303257270357186, 0.01346431054988173, 0.005554912805644463, -0.005550201198901483, -0.010290513651657562, -0.001156091340986265, -0.004458331476617339, 0.009522927162174177, 0.007365818686463577, -0.003978974037563532, 0.0036641140183020227, 0.004196733395007257, -0.010583454308837226, 0.005581543774479059, 0.013251262799180097, -0.0038458191933896657, 0.019003552067730745, -0.016655315203424337, -0.007760571612271505, 0.002652137202526994, 0.007019616091608505, 0.006540258652566244, 0.012665381484804783, 0.0019331010439485041, -0.0027006875334425473, -0.022620652222633097, -0.0053105224793581485, -0.010370406558182665, -0.009305167804742887, 0.015381740306048108, 0.0195095404756076, -0.008639393583847799, 0.007365818686472458, -0.005603463136575115, -0.007148059329042056, 0.01165340466903686, -1.0959681051581072e-05, 0.0012673268230809498, 0.0055282818367903275, 0.006407103808392378, -9.085258756869052e-05, -0.009172012960562803, 0.0015868984490934324, 0.009256617473811346, 0.015807835807428283, -0.014844409322585683, -0.012713931815733659, 0.0022260417011690237, -0.003339830785509257, -0.0019283894372197352, 0.008244640658048752, 0.00014882613196576244, 0.004223364363840076, 0.013517572487538487, 0.015727942900911174, 0.008697367128267963, -0.0009696745591236677, -0.005417046354720512, -0.0015289249046857023, 0.017032860373884517, 0.013996929926594959, 0.011999607263900813, -0.002753949471118844, 0.019749219195132284, 0.007738652250173672, 0.002039624919313532, 0.011600142731368557, -0.001955020406054331, -0.00025063840056915865, -0.0029669972218338003, 0.012159393076917269, -0.006935011578359962, -0.00901222714756944, 0.007951700000864648, -0.008799179396852708, 0.014715966085153909, 0.0013472197295953947, 0.00382389983131759, 0.013810513144731473, -0.02387230775793281, -0.01108944271671497, -0.0034729856296964456, -0.0043251766324479135, -0.004085497912925007, 0.005847853462833896, -0.0056567250742540764, -0.009251905867063925, -0.023126640630527717, -0.002221330094420715, 0.01642034809064974, 0.007525604499498684, 0.0016667913555945546, -0.010849763997207162, -0.03159528872028794, 0.003317911423418529, 0.020281838571837518, -0.015856386138363376, -0.0026740565646274916, -0.002274592032080136, 0.012186024045746535, 0.003957054675478133, -0.011169335623248067, 0.01213276210807912, -0.010210620745163546, 0.0016401603867786108, -0.000836519714976447, 0.012612119547144474, 0.004383150176859196, 0.00880389100358947, 0.005821222493999301, 0.01330452473686261, -0.0015555558735176334, -0.0009430435902846313, -0.007574154830400026, 0.00981586781935917, 0.005235341179624875, 0.010135439445406291, -0.009811156212631289, -0.004032235975256704, -0.013619384756144548, -0.016282481639725788, 0.008484319377564553, -0.009358429742427177, 0.010801213666298715, -0.013432967974286392, 0.0014803745737719254, -0.010024203963317824, -0.0009430435902979539, 6.893322545309388e-05, -0.015270504823947206, 0.01154688079369226, -0.0017952345930574154, -0.009731263306115068, 0.0048891385847325, 0.009256617473827333, -0.003100152066010331, 0.010215332351885209, 0.000681445508686096, -0.014950933197952487, -0.0007566268084548966, -0.004325176632455019, 0.0005216596956758579, -0.0007033648707626128, -0.004857796009176241, 0.012692012453619839, -0.000756626808456673, 0.006007639275827259, -0.015057457073273994, 0.014396394459128103, 0.01026859428955973, 0.003584221111794683, -0.0032066759413442725, 0.009229986504978527, -0.011036180779071536, 0.017672003625918364, 0.0016934223244540192, 0.006593520590230106, 0.010268594289561506, -0.0038191882245470765, -0.003100152066009443, 0.008138116782718363, 0.02646022334173015, 0.006407103808380832, 0.012372440827618014, 0.01634045518411842, -0.0037659262868974253, -0.00893233424103368, 0.008670736159419157, 0.006060901213522207, 0.004036947582012118, 0.003850530800140639, -0.010956287872550874, 0.004063578550824509, -0.00043705518244241404, 0.006433734777232303, -0.005390415385901015, 0.0038771617689743465, 0.015088799648862228, 0.005208710210762746, -0.008053512269466268, 0.009389772317998535, 0.004010316613153542, -0.016655315203419008, -0.0017952345930538627, -0.013539491849635432, -0.022221187690103505, -0.0005702100266091747, 0.027472200157517612, 0.008644105190589002, -0.002381115907426512, 0.002012993950478048, -0.017534137175013065, -0.001981651374901361, -0.003659402411549273, -0.004112128881750721, -0.0007832577772894922, -0.01905210239864452, -0.007787202581106101, -0.008852441334527228, -0.022247818658952312, -0.010130727838661535, -0.0005435790577772437, -0.005124105697515091, -0.006615439952313729, 0.009336510380323126, 0.005501650867964614, 0.006939723185104718, 0.0067533064032456736, 0.007498973530638331, 0.013304524736851064, -0.01095628787255265, -0.019158626273976687, 0.01181319048204088, 0.008617474221754406, 0.0006281835710044703, -0.010050834932134656, -0.0034197236920263663, 0.011174047230007922, 0.0101620704142249, -0.002008282343719081, -0.0029669972218160368, 0.0014803745737639318, 0.00813811678269527, 0.0098424987882062, -0.012767193753409067, -0.01934504305583662, -0.001475662967005853, 0.01849756365985744, -0.009358429742426289, 0.0016667913556158709, -0.007760571612271505, -0.00035716227590221195, 0.001640160386759959, -0.006322499295138506, -0.01282045569107293, 0.0025189823583406934, -9.085258754115699e-05, 0.01942964756909049, 0.0008678622905335942, 0.010774582697444579, -0.006215975419804565, 0.011440356918342331, 0.007712021281319537, 0.006327210901855729, 0.017299170062239355, 0.0068065683409184174, -0.014897671260280632, -0.00869265552151699, 0.0009743861658728648, -0.0011827223098253015, 0.013144738923850596, -0.018945578523292816, 0.004356519208024601, -0.014711254478411817, 0.0077386522501754484, 0.001160802947715922, 0.01144035691835299, 0.006300579933030903, -0.007654047736930458, -0.017347720393130928, -0.004751272133820095, 0.0055815437744737295, 0.0025988752648560265, -0.003739295318063718, 0.007339187717630757, 0.018444301722160716, 0.00728592577995979, -0.0009963055279946786, 0.0017999461997852961, 0.0004417667891436494, -0.021049425061333338, -0.02302011675518223, -0.008506238739672156, -0.00443170050778896, -0.0007566268084486794, -0.00986441815032002, 0.031786417108894405, 0.012186024045760746, 0.01072132075978871, -0.0020615442814087004, 0.006806568340920194, 0.0029717088285785564, -0.0003837932447421366, 0.0025988752648560265, -0.005789879918411955, 0.00978923685055566, -9.085258755536785e-05, 0.00076133841520587, -0.0011028294033090802, -0.01252751503388616, -0.006828487703029573, 0.001427112636096517, 0.0006281835709982531, -0.007307845142058511, -0.007440999986229713, -0.0186526378661096, 0.011759928544369913, 0.01285179826664784, -0.009358429742412966, -0.01431178994587956, -0.003020259159510985, -0.0035795095050570325, 0.001347219729597171, 0.007179401904637395, 0.007339187717632534, -0.0047512721338236474, -0.00781383354992915, -0.02094290118598785, -1.0959681034705682e-05, 0.02174654185780245, 0.002971708828560793, -0.01039703752702792, -0.009784525243776265, 0.011440356918342331, 0.00526197214844526, -0.011622062093447738, -0.005550201198897042, 0.007951700000855766, -0.02224781865893899, 0.005128817304247413, 0.0017466842621054468, 0.019749219195126066, -0.0009963055279698096, 0.016154038402284243, 0.00017545710081101618, -0.015803124200670204, -0.0036061404738783054, -0.011009549810225394, -0.016974886829447478, -0.0031800449724990187, -0.0014490319981819155, -0.024005462602101346, 0.0002287190384615556, -0.011275859498584673, -0.004458331476623556, 0.009602820068683293, 0.0038238998313122607, -0.026668559485683474, 0.005421757961441287, -0.0040854979129081315, -0.009731263306112403, -0.011542169186955498, 0.008617474221757071, -0.021155948936684155, 0.006194056057693409, -0.010290513651664668, 0.0024390894518271367, 0.005128817304269617, 0.0111740472299795, -0.007973619362961593, -0.008639393583850463, 0.006140794120022441, -0.0047246411649721765, -0.010397037527002162, 0.01833777784682411, -0.012900348597585598, -0.002966997221823142, -0.008479607770828679, 0.0020662558881427984, -0.0018484965307115075, -0.005283891510535099, -0.00011748355637219987, 0.02113402957457655, 0.010641427853259167, 0.01032185622723869, 0.0003885048514913336, 0.00475598374057018, -0.007813833549936255, 0.009016938754301762, 0.00805822387622257, -0.0013691390916701351, 0.01817799203380055, 0.014715966085161014, 0.013490941518710997, 0.017219277155731127, -0.007068166422517841, 6.893322546197567e-05, 0.01575457386976442, 0.004835876647087289, -0.013246551192429123, -0.00041042421357495584, -0.011675324031115153, -0.013672646693797752, 0.0037440069248022567, -0.01489767126026642, 0.002678768171362478, -0.012900348597582934, 0.013411048612188559, -0.021821723157540163, 0.003744006924803145, 0.013038215048505108, -0.006322499295121631, 0.006247317995367041, 0.0026521372025287704, -0.0041387598506066325, 0.015195323524188176, -0.0018751274995514322, -0.0076007857992586025, 0.017512217812893027, 0.010215332351908302, 0.02725915240680621, 0.007392449655307054, -0.012527515033879943, 0.016367086152973442, 0.0010276481035438323, -0.013992218319827998, 0.0010010171347030195, 0.003291280454591039, -0.007627416768063888, 0.022598732860545923, -0.0028604733464678844, -0.005976296700275441, 0.0006814455086949778, 0.005368496023770319, -0.0002240074317247931, -0.004937688915648941, -0.0007299958396034256, 0.0039570546754745806, -0.00983778718145878, -0.017028148767143314, -0.0001441145252254472, 0.01618066937111795, 0.007738652250176337, 0.00792506903203094, 0.006939723185092284, 0.002332565576501189, -3.759064989417027e-05, 0.008537581315263054, 0.008351164533389799, -0.0065888089834817976, -0.015563445481168614, -0.01023725171397949, -0.007227952235553836, -0.004032235975243381, -0.003126783034831604, 0.00803159290737998, -0.002247961063238435, -0.0005702100265958521, 0.006194056057698738, -0.012261205345524218, 0.005767960556301688, -0.010210620745167986, -0.006668701889980255, -0.0009696745591378786, -0.01519061191745319, -0.004431700507790737, -0.0007566268084380212, -0.005390415385867264, -0.025150594262035142, -0.004511593414293635, -0.0037126643492140232, -0.00560346313656801, 0.0014537436049399943, 0.007179401904613414, 0.006220687026518235, -0.010769871090706928, 0.006646782527911732, -0.0074942619239122266, -0.004325176632447025, -0.0036860333803883094, 0.010162070414237334, 0.005102186335430581, -0.000809888746130305, 0.005155448273089114, -0.0029669972218098195, -0.017773815894523537, -0.007281214173225692, -0.018492852053106468, 0.011813190482038216, -0.007973619362957152, 0.001986362981631906, -0.015829755169527893, 0.013357786674534466, -0.00773394064342714, 0.0027586610778804754, 0.01365072733173811, 0.004249995332679113, 0.004516305021025069, -0.011462276280449935, -0.014311789945876008, 0.004649459865218475, 0.0012939577919111045, 0.0053684960237943, -0.007893726456447148, 0.006273948964184761, -0.013539491849644314, 0.014929013835834226, -0.0003837932447465775, 0.011493618856028398, -0.013246551192437117, 0.014209977677282382, 0.004223364363840076, 0.005475019899124689, 0.01399692992657986, 0.004063578550833391, 0.01514206158653586, 0.016846443592009486, 0.0023059346076532705, 0.005767960556308793, -0.012128050501329923, 0.009229986504978527, 0.013650727331731893, -0.0025409017204696127, 0.008723998097093677, 0.0006548145398355132, -0.011355752405100894, 0.020574779229009188, -0.007121428360223447, -0.016069433889044582, -0.0022479610632544222, -0.00041042421359094305, -0.01215468147016896, -0.014018849288681245, 0.007206032873473767, -0.0014224010293402145, 0.0032113875480828113, 0.011040892385816292, 0.0013205887607643518, -0.0074143690174119925, 0.006486996714875737, 0.0019064700751449948, 0.016233931308799576, 0.007925069032038046, -0.002727318502302012, 0.014156715739605197, -0.016735208109919242, 0.0029983397974104875, -0.018492852053107356, -0.002434377845099256, -0.0026740565646319325, 0.005182079241935256, 0.020548148260196797, 0.012771905360142277, 0.017938313314300736, -0.011009549810216512, -0.00041042421358650216, 0.010028915570042152, -0.005177367635193164, -0.006162713482122939, 0.009815867819360058, 0.0011075410100600536, 0.004542935989861441, 0.008723998097119434, -0.007174690297884645, -0.012420991158539785, -0.026162571077812835, -0.0008365197149355907, -0.025070701355544678, -0.006002927669121583, -0.011142704654429458, 0.0026521372025340995, 0.00025535000731125024, 0.005288603117286073, 0.004942400522407908, 0.013783882175888884, 0.008564212284076334, -0.0034463546608582973, 0.011759928544377907, 0.0003885048514922218, -0.02198150897058415, 0.009336510380334673, 0.0004683977579942322, -0.0002506384005620532, -0.01130249046741838, 0.019296492724910408, -0.010583454308846996, 0.0006015526021840856, 0.009789236850537009, 0.015328478368379805, 0.002359196545324238, 0.005448388930282988, 0.009549558131026537, -0.0005702100266127275, 0.004196733395004593, 0.022944935455406323, 0.005608174743322536, 0.015301847399517676, 0.007978330969685032, 0.004862507615920997, 0.01053490397794743, -0.029837644777138017, -0.014285158977044965, 0.0014271126360956288, 0.02254547092288206, 0.006513627683711221, 0.003078232703923156, -0.018679268834943308, 0.018790504317028223, 0.004383150176848538, -0.018386328177758315, 0.006620151559070919, 0.02116066054342003, 0.009522927162159078, -0.007414369017415545, -0.015989540982531913, -0.009464953617754901, 0.004862507615881917, -0.0070415354536992325, 0.011360464011851867, -0.006508916077005544, -0.0011560913409738305, -0.009571477493097724, -0.004298545663608877, -0.0004903171200947298, 0.00033524291381681337, -0.012687300846891958, -0.0013691390916887869, 0.01295832214198711, -0.00677522576533196, -0.010077465900962146, 0.012771905360133395, -0.003925712099901446, 0.009522927162169736, 0.02169327992013148, 0.008377795502228835, -0.012660669878054698, 0.0007613384151969882, 0.013996929926588741, 0.0040369475819943546, 0.010907737541644202, -0.002514270751635017, 0.003823899831303379, 0.009416403286826025, 0.0010276481035580431, 0.007951700000867312, 0.0005749216333379437, 0.006486996714885507, -0.006322499295123407, -0.002780580439970315, -0.015084088042121913, -0.00983778718146322, -0.008506238739689032, 0.012159393076925262, -0.013219920223599857, -0.0022479610632517577, -0.003153414003674193, -0.012713931815724777, 0.019110075943059357, 0.002838553984384262, 0.004329888239197999, -0.013193289254763485, -0.004911057946837438, 0.00685983027860626, 0.008324533564543657, 0.0017466842620992296, 0.006167425088864142, 0.008963676816605037, 0.0070728780292697024, 0.006167425088865031, 0.003424435298773787, 0.003344542392273553, 0.020255207603002923, -0.0017419726553846715, -0.007733940643425363, 0.004729352771699169, 0.008111485813870445, -0.02347284322539256, 0.0005482906644989072, -0.0017952345930574154, -0.0039523430687298244, 0.013970298957755034, 0.006060901213510661, 0.001799946199784408, 0.012186024045760746, -0.015110719010958285, 0.007126139966953993, 0.007206032873451562, 0.01106752335464467, -0.007627416768096751, -0.019851031463734792, 0.009629451037515224, 0.02819123631604814, 0.004116840488510576, 0.0016667913555945546, 0.018391039784468433, -0.0027006875334736336, 0.01231917888992129, 0.008484319377586758, -0.01250088406502936, -0.0029403662529778885, -0.0075475238615752005, 0.0036374830494487753, -0.012341098252022675, 0.02065467213554495, -0.010849763997209827, -0.004831165040319441, -0.009092120054074115, -0.022141294783597054, 0.00041513582033303464, 0.0019331010439520568, 0.0010542790723606643, 0.020707934073207923, 0.007445711592981574, -0.0030468901283509098, 0.0007613384151898828, 0.018098099127295875, -0.006935011578368844, 0.0036641140183153453, 0.006220687026524452, -0.0012626152163495163, -0.00030390033824190255, 0.01660676487248125, -0.007334476110883337, -0.017906970738716055, 0.011573511762528632, 0.005288603117294066, 0.006913092216259464, 0.012478964702958173, 0.00430325727035985, -0.013432967974297938, 0.01753884878172851, 0.015381740306069425, 6.89332254566466e-05, -0.0025409017204598427, -0.024751129729517096, -0.011675324031129364, 0.003211387548095246, -0.007574154830400914, -0.010796502059555735, 0.005448388930296311, 0.008351164533415556, 0.005954377338182049, -0.014578099634237063, 0.006327210901876157, -0.0046980101961509035, -0.0008897816526518554, -0.010343775589335635, 0.010641427853270713, 0.0027320301090378862, -0.006535547045826817, -0.006562178014662301, -0.01660205326575337, 0.006407103808385273, 0.0013205887607457, 0.008297902595701068, -0.0064290231704964285, -0.018226542364730314, -0.00994431105679805, -0.018333066240067808, 0.009123462629626822, -0.0013691390916674706, -0.005736617980738323, 0.006726675434418183, 0.00012219516314271317, 0.016313824215288264, 0.0002553500073085857, 0.011440356918338779, -0.0042985456636062125, 0.005261972148428384, 0.0059543773381811604, 0.000761338415181001, -0.0020082823437315156, 0.014183346708446898, -0.018812423679120727, -0.003020259159479899, -0.01846622108424345, -0.006748594796502694, 0.004063578550827174, 0.0021195178258262004, -0.004751272133832529, -0.01061008527769669, -0.007387738048562298, 0.003770637893641293, 0.001826577168641208, 0.02246557801636051, -0.009864418150293375, -0.009970942025630869, -0.00043705518239978147, -0.015137349979786663, -0.010397037526997721, -0.007174690297878428, -0.012740562784582465, 0.0008678622905442523, -0.0020082823437368447, 0.002598875264869349, 0.018417670753342996, -0.001662079748881773, -0.008266560020133262, -0.008053512269466268, 0.008218009689223038, 0.004782614709388788, 0.00430325727035985, 0.003664114018302911, -0.0024077468762611076, -0.0007299958395963202, 0.013331155705708753, -0.0029137352841619446, -0.006215975419785913, -0.0030735210971721827, 0.01000228460121022, -0.004804534071509714, 0.016899705529695552, -0.0007566268084602257, 0.007259294811118089, -0.004058866944089523, 0.00768539031252935, 0.0007347074463357472, 0.0006015526021805329, -0.006908380609512932, 0.009016938754281334, 0.003238018516932506, -0.008612762615006098, -0.00424528372593258, -0.014045480257527387, 0.006779937372085598, 0.0034244352987862214, 0.000814600352859074, 0.010108808476569031, 0.00531523408611978, 0.004063578550841385, -0.0058697728249264, 0.007072878029280361, -0.004484962445454599, 0.009443034255674831, 0.010375118164924757, -0.013060134410606494, -0.002301223000911179, 0.0013472197295678612, -0.004671379227326966, 0.0022526726699902966, 0.003344542392283323, -0.005390415385882363, -0.011595431124624689, -0.00033053130707205725, 0.0089370458477811, -0.0061360825132936725, 0.005767960556317675, -0.0031001520659916793, -0.005630094105410599, -0.003686033380385645, 0.017192646186861005, -0.007041535453709891, -0.013193289254775031, 0.018337777846823222, 0.002811923015531015, 0.007978330969683256, 0.00805822387620303, 0.00017545710077904175, 0.004170102426176214, -0.0011294603721463403, -0.016309112608579923, 0.006620151559071807, -0.012527515033872838, 0.0032912804545972563, -0.0005169480889204436, -0.00547030829239592, 0.02129381538759123, 0.0027320301090538734, 0.013304524736839518, -0.01785370880103887, -0.004911057946822339, 0.023823757427002157, 0.017831789438941037, -0.003952343068740483, 0.0059011154004835475, 0.004196733395022356, -0.0018751274995425504, 0.003264649485735127, -0.022940223848671337, 0.008084854845042955, -0.003472985629717762, -0.005203998604009108, -0.01654879132808773, 0.006886461247430198, 0.00872399809710167, 0.013810513144740355, -0.0008098887461223114, -0.018066756551745833, -0.0012093532786456862, 0.0056614366809784045, -0.0065621780146498665, -0.015989540982541683, -0.0057366179807392115, 0.008191378720387554, -0.012394360189707854, 0.0005482906645193353, 0.01777852750127984, 0.010960999479307176, -0.00696164254719811, -0.021528782500352506, -0.008399714864328445, -0.021608675406864286, -0.0001973764629186192, -0.019025471429809926, 0.016739919716664886, 0.0051820792419343675, 0.0045695669587164645, -0.005390415385870817, -0.0004104242135927194, -0.0042719146947893805, 0.009549558131009661, -0.003126783034856473, -0.0016620797488764438, 0.019110075943074456, -0.00941169168009548, -0.0020349133125687757, 0.010987630448141772, -0.0018751274995461031, -0.008958965209877157, -0.007494261923915779, -0.008239929051319983, -0.009092120054060793, -0.004165390819431458, -0.017347720393153132, 0.00417010242617355, 0.0010010171347243357, 0.012665381484775473, -0.0037659262868938725, -0.00613608251327058, 0.006407103808371062, 0.006886461247423981, 0.009123462629623269, -0.0038458191933976593, 0.018710611410516442, -0.007440999986222607, 0.014662704147500705, -0.002594163658110382, 0.003823899831314037, 0.008537581315232856, -0.004831165040322105, -0.0008365197149426962, -0.010769871090702487, -0.01119596659207378, 0.004676090834073499, -0.0010495674656310072, 0.009815867819370716, -0.027920215020978745, -0.01633574357737988, 0.01165340466903686, -0.0015289249046874787, 0.006779937372079381, 0.007632128374832625, -0.0018484965307159484, -0.00019737646289552657, 0.009682712975199514, 0.001240695854225926, 0.009043569723124811, -0.004964319884509294, 0.0004950287268279396, 0.006220687026535998, -0.015190611917462071, 0.01050827300909063, 0.0032113875480623832, 0.002172779763498056, 0.003930423706653308, -0.008293190988972299, 0.005395126992622679, 0.0038505308001619554, -0.012873717628744785, 0.008617474221756183, -0.013566122818485127, 0.0013472197295838484, 0.008750629065943372, 0.004116840488490148, -0.003872450162252683, 0.01056153494678469, 0.004063578550820068, -0.00017074549406359552, -0.004671379227297656, 0.00899030778545562, 0.016926336498527483, 0.009096831660816207, -0.0074676309550554265, 0.005901115400479995, -0.0032599378790028055, 0.010907737541639762, -0.01673520810994411, -0.0015555558735140806, 0.005048924397733856, 0.013996929926582524, 0.0067000444655773705, 0.005102186335430581, -0.0064556541393034905, -0.005097474728703588, 0.004676090834063729, -0.002514270751594161, -0.022940223848682884, -0.013832432506836412, -0.016389005515061505, -0.006775225765331072, -0.004325176632439032, -0.004112128881769372, 0.01450291833445938, -0.00025063840056116504, -0.01918525724283615, -0.010903025934894117, 0.004995662460074435, 0.0024390894518369066, 0.010401749133751359, -0.0005702100265851939, 0.0034244352987675697, -0.003233306910184197, 0.013384417643356628, 0.010641427853280483, -0.0021148062190636807, 0.009336510380328455, 0.008537581315247067, -0.004671379227307426, 0.014023560895432219, 0.006220687026523564, -0.01769392298802064, 0.011307202074164024, 0.01258548857827968, 0.00222604170114149, 0.006700044465565824, -0.01929178111814256, -0.010903025934890564, 0.00022871903849619457, 0.001560267480284594, -0.004804534071495503, 0.006593520590246094, -0.015270504823967634, 0.00057492163333972, -0.002034913312585651, 0.0027852920466884257, -0.0045648553519725965, -0.0027006875334683045, 0.0027053991402183897, 0.010934368510466363, 0.006087532182352362, 0.013730620238224134, 0.0027586610778644882, -0.009118751022901606, -0.008266560020155467, -0.00728121417323635, -0.004671379227326966, -0.010476930433506837, -0.0007299958396238537, -0.031888229377491584, 0.015461633212550119, -0.008825810365697961, 0.001799946199789737, 0.0029983397973749604, 0.0010809100412245698, -0.005709987011877082, 0.002279303638823116, 0.015355109337206407, -0.007973619362939388, -0.01199489565714007, 0.005821222493977096, 0.013224631830343725, 0.010614796884438782, 0.015488264181398925, 0.01743232490639457, -0.006988273516008725, -0.0065355470458330345, 0.011573511762525968, 0.014050191864263262, 0.021853065733147936]\n"
     ]
    }
   ],
   "source": [
    "# The difference in the means for Permutation1 (0.001103) now looks hugely different to our observed difference of 0.14206. \n",
    "# It's sure starting to look like our observed difference is significant, and that the Null is false; platform does impact on ratings\n",
    "# But to be sure, let's create 10,000 permutations, calculate the mean ratings for Google and Apple apps and the difference between these for each one, and then take the average of all of these differences.\n",
    "# Let's create a vector with the differences - that will be the distibution of the Null.\n",
    "\n",
    "# First, make a list called difference.\n",
    "difference = []\n",
    "\n",
    "# Now make a for loop that does the following 10,000 times:\n",
    "# 1. makes a permutation of the 'Rating' as you did above\n",
    "# 2. calculates the difference in the mean rating for apple and the mean rating for google. \n",
    "for i in range(10000):\n",
    "    df['Permutation1'] = np.random.permutation(df['Rating'])\n",
    "    difference.append(df[df['platform'] == 'apple']['Permutation1'].mean() - df[df['platform'] == 'google']['Permutation1'].mean())\n",
    "    #print (df.groupby('platform')['Permutation1'].mean())\n",
    "    #print(df.loc[df['platform'] == 'apple']['Permutation1'].mean())\n",
    "    #difference.append(np.mean(permutation[df['platform']=='apple']) - np.mean(permutation[df['platform']=='google']))\n",
    "    \n",
    "    \n",
    "print (difference)"
   ]
  },
  {
   "cell_type": "code",
   "execution_count": 104,
   "metadata": {
    "colab": {},
    "colab_type": "code",
    "id": "VlzpYTkYFcv_"
   },
   "outputs": [
    {
     "data": {
      "image/png": "[encoded data removed]",
      "text/plain": [
       "<Figure size 432x288 with 1 Axes>"
      ]
     },
     "metadata": {
      "needs_background": "light"
     },
     "output_type": "display_data"
    }
   ],
   "source": [
    "# Make a variable called 'histo', and assign to it the result of plotting a histogram of the difference list. \n",
    "histo = plt.hist(difference)"
   ]
  },
  {
   "cell_type": "code",
   "execution_count": 32,
   "metadata": {
    "colab": {},
    "colab_type": "code",
    "id": "KhqgDFd3FcwB"
   },
   "outputs": [
    {
     "name": "stdout",
     "output_type": "stream",
     "text": [
      "0.14206054745123442\n"
     ]
    }
   ],
   "source": [
    "# Now make a variable called obs_difference, and assign it the result of the mean of our 'apple' variable and the mean of our 'google variable'\n",
    "obs_difference = np.mean(apple_rating) - np.mean(google_rating)\n",
    "\n",
    "# Make this difference absolute with the built-in abs() function. \n",
    "obs_difference = np.abs(obs_difference)\n",
    "\n",
    "# Print out this value; it should be 0.1420605474512291. \n",
    "print (obs_difference)"
   ]
  },
  {
   "cell_type": "markdown",
   "metadata": {
    "colab_type": "text",
    "id": "QUNuuSgDFcwE"
   },
   "source": [
    "## Stage 4 -  Evaluating and concluding\n",
    "### 4a. What is our conclusion?"
   ]
  },
  {
   "cell_type": "code",
   "execution_count": 33,
   "metadata": {
    "colab": {},
    "colab_type": "code",
    "id": "XMQHnqx1FcwF"
   },
   "outputs": [
    {
     "name": "stdout",
     "output_type": "stream",
     "text": [
      "0\n",
      "0\n"
     ]
    }
   ],
   "source": [
    "'''\n",
    "What do we know? \n",
    "\n",
    "Recall: The p-value of our observed data is just the proportion of the data given the null that's at least as extreme as that observed data.\n",
    "\n",
    "As a result, we're going to count how many of the differences in our difference list are at least as extreme as our observed difference.\n",
    "\n",
    "If less than or equal to 5% of them are, then we will reject the Null. \n",
    "'''\n",
    "positiveExtremes = []\n",
    "negativeExtremes = []\n",
    "for i in range(len(difference)):\n",
    "    if (difference[i] >= obs_difference):\n",
    "        positiveExtremes.append(difference[i])\n",
    "    elif (difference[i] <= -obs_difference):\n",
    "        negativeExtremes.append(difference[i])\n",
    "\n",
    "print(len(positiveExtremes))\n",
    "print(len(negativeExtremes))\n"
   ]
  },
  {
   "cell_type": "markdown",
   "metadata": {
    "colab_type": "text",
    "id": "4RTofY9wFcwI"
   },
   "source": [
    "### 4b. What is our decision?\n",
    "So actually, zero differences are at least as extreme as our observed difference!\n",
    "\n",
    "So the p-value of our observed data is 0. \n",
    "\n",
    "It doesn't matter which significance level we pick; our observed data is statistically significant, and we reject the Null.\n",
    "\n",
    "We conclude that platform does impact on ratings. Specifically, we should advise our client to integrate **only Google Play** into their operating system interface. "
   ]
  },
  {
   "cell_type": "markdown",
   "metadata": {
    "colab_type": "text",
    "id": "Cu_eh7fTFcwJ"
   },
   "source": [
    "### 4c. Other statistical tests, and next steps\n",
    "The test we used here is the Permutation test. This was appropriate because our data were not normally distributed! \n",
    "\n",
    "As we've seen in Professor Spiegelhalter's book, there are actually many different statistical tests, all with different assumptions. How many of these different statistical tests can you remember? How much do you remember about what the appropriate conditions are under which to use them? \n",
    "\n",
    "Make a note of your answers to these questions, and discuss them with your mentor at your next call. \n"
   ]
  }
 ],
 "metadata": {
  "colab": {
   "collapsed_sections": [
    "5fbRq2MZFcvq",
    "4RTofY9wFcwI",
    "Cu_eh7fTFcwJ"
   ],
   "name": "Springboard Apps project - Tier 3 - Complete.ipynb",
   "provenance": []
  },
  "kernelspec": {
   "display_name": "Python 3 (ipykernel)",
   "language": "python",
   "name": "python3"
  },
  "language_info": {
   "codemirror_mode": {
    "name": "ipython",
    "version": 3
   },
   "file_extension": ".py",
   "mimetype": "text/x-python",
   "name": "python",
   "nbconvert_exporter": "python",
   "pygments_lexer": "ipython3",
   "version": "3.9.7"
  }
 },
 "nbformat": 4,
 "nbformat_minor": 1
}
